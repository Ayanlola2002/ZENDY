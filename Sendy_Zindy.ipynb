{
  "nbformat": 4,
  "nbformat_minor": 0,
  "metadata": {
    "colab": {
      "name": "Sendy_Zindy.ipynb",
      "provenance": [],
      "collapsed_sections": [],
      "include_colab_link": true
    },
    "kernelspec": {
      "name": "python3",
      "display_name": "Python 3"
    }
  },
  "cells": [
    {
      "cell_type": "markdown",
      "metadata": {
        "id": "view-in-github",
        "colab_type": "text"
      },
      "source": [
        "<a href=\"https://colab.research.google.com/github/Ayanlola2002/ZENDY/blob/master/Sendy_Zindy.ipynb\" target=\"_parent\"><img src=\"https://colab.research.google.com/assets/colab-badge.svg\" alt=\"Open In Colab\"/></a>"
      ]
    },
    {
      "cell_type": "code",
      "metadata": {
        "id": "M2HEkHUupVwX",
        "colab_type": "code",
        "colab": {}
      },
      "source": [
        "import pandas as pd\n",
        "from datetime import datetime\n",
        "import numpy as np\n",
        "from dateutil.relativedelta import relativedelta\n",
        "from datetime import date\n",
        "import os"
      ],
      "execution_count": 0,
      "outputs": []
    },
    {
      "cell_type": "code",
      "metadata": {
        "id": "8krIChwLqeti",
        "colab_type": "code",
        "colab": {}
      },
      "source": [
        "\n",
        "train=pd.read_csv('/content/Train.csv')\n",
        "\n",
        "test=pd.read_csv('/content/Test.csv')\n",
        "\n",
        "Riders=pd.read_csv('/content/Riders.csv')\n"
      ],
      "execution_count": 0,
      "outputs": []
    },
    {
      "cell_type": "code",
      "metadata": {
        "id": "Z9KOt8JZrD-X",
        "colab_type": "code",
        "colab": {}
      },
      "source": [
        "sample=pd.read_csv('/content/SampleSubmission.csv')"
      ],
      "execution_count": 0,
      "outputs": []
    },
    {
      "cell_type": "code",
      "metadata": {
        "id": "Kj5fc_u-u19a",
        "colab_type": "code",
        "outputId": "50ad68a2-ae40-4192-d3d3-4c340df7d33d",
        "colab": {
          "base_uri": "https://localhost:8080/",
          "height": 411
        }
      },
      "source": [
        "train.tail()"
      ],
      "execution_count": 800,
      "outputs": [
        {
          "output_type": "execute_result",
          "data": {
            "text/html": [
              "<div>\n",
              "<style scoped>\n",
              "    .dataframe tbody tr th:only-of-type {\n",
              "        vertical-align: middle;\n",
              "    }\n",
              "\n",
              "    .dataframe tbody tr th {\n",
              "        vertical-align: top;\n",
              "    }\n",
              "\n",
              "    .dataframe thead th {\n",
              "        text-align: right;\n",
              "    }\n",
              "</style>\n",
              "<table border=\"1\" class=\"dataframe\">\n",
              "  <thead>\n",
              "    <tr style=\"text-align: right;\">\n",
              "      <th></th>\n",
              "      <th>Order No</th>\n",
              "      <th>User Id</th>\n",
              "      <th>Vehicle Type</th>\n",
              "      <th>Platform Type</th>\n",
              "      <th>Personal or Business</th>\n",
              "      <th>Placement - Day of Month</th>\n",
              "      <th>Placement - Weekday (Mo = 1)</th>\n",
              "      <th>Placement - Time</th>\n",
              "      <th>Confirmation - Day of Month</th>\n",
              "      <th>Confirmation - Weekday (Mo = 1)</th>\n",
              "      <th>Confirmation - Time</th>\n",
              "      <th>Arrival at Pickup - Day of Month</th>\n",
              "      <th>Arrival at Pickup - Weekday (Mo = 1)</th>\n",
              "      <th>Arrival at Pickup - Time</th>\n",
              "      <th>Pickup - Day of Month</th>\n",
              "      <th>Pickup - Weekday (Mo = 1)</th>\n",
              "      <th>Pickup - Time</th>\n",
              "      <th>Arrival at Destination - Day of Month</th>\n",
              "      <th>Arrival at Destination - Weekday (Mo = 1)</th>\n",
              "      <th>Arrival at Destination - Time</th>\n",
              "      <th>Distance (KM)</th>\n",
              "      <th>Temperature</th>\n",
              "      <th>Precipitation in millimeters</th>\n",
              "      <th>Pickup Lat</th>\n",
              "      <th>Pickup Long</th>\n",
              "      <th>Destination Lat</th>\n",
              "      <th>Destination Long</th>\n",
              "      <th>Rider Id</th>\n",
              "      <th>Time from Pickup to Arrival</th>\n",
              "    </tr>\n",
              "  </thead>\n",
              "  <tbody>\n",
              "    <tr>\n",
              "      <th>10853</th>\n",
              "      <td>Order_No_2115</td>\n",
              "      <td>User_Id_1304</td>\n",
              "      <td>Bike</td>\n",
              "      <td>3</td>\n",
              "      <td>Business</td>\n",
              "      <td>29</td>\n",
              "      <td>1</td>\n",
              "      <td>3:33:21 PM</td>\n",
              "      <td>29</td>\n",
              "      <td>1</td>\n",
              "      <td>4:14:07 PM</td>\n",
              "      <td>29</td>\n",
              "      <td>1</td>\n",
              "      <td>4:14:44 PM</td>\n",
              "      <td>29</td>\n",
              "      <td>1</td>\n",
              "      <td>5:18:14 PM</td>\n",
              "      <td>29</td>\n",
              "      <td>1</td>\n",
              "      <td>5:35:32 PM</td>\n",
              "      <td>9.0</td>\n",
              "      <td>23.3</td>\n",
              "      <td>NaN</td>\n",
              "      <td>-1.282453</td>\n",
              "      <td>36.826515</td>\n",
              "      <td>-1.333275</td>\n",
              "      <td>36.870815</td>\n",
              "      <td>Rider_Id_669</td>\n",
              "      <td>1038.0</td>\n",
              "    </tr>\n",
              "    <tr>\n",
              "      <th>10854</th>\n",
              "      <td>Order_No_10285</td>\n",
              "      <td>User_Id_435</td>\n",
              "      <td>Bike</td>\n",
              "      <td>3</td>\n",
              "      <td>Business</td>\n",
              "      <td>30</td>\n",
              "      <td>4</td>\n",
              "      <td>11:35:59 AM</td>\n",
              "      <td>30</td>\n",
              "      <td>4</td>\n",
              "      <td>11:36:27 AM</td>\n",
              "      <td>30</td>\n",
              "      <td>4</td>\n",
              "      <td>11:44:32 AM</td>\n",
              "      <td>30</td>\n",
              "      <td>4</td>\n",
              "      <td>11:47:36 AM</td>\n",
              "      <td>30</td>\n",
              "      <td>4</td>\n",
              "      <td>12:20:03 PM</td>\n",
              "      <td>18.0</td>\n",
              "      <td>NaN</td>\n",
              "      <td>NaN</td>\n",
              "      <td>-1.319613</td>\n",
              "      <td>36.711055</td>\n",
              "      <td>-1.300921</td>\n",
              "      <td>36.828195</td>\n",
              "      <td>Rider_Id_571</td>\n",
              "      <td>1947.0</td>\n",
              "    </tr>\n",
              "    <tr>\n",
              "      <th>10855</th>\n",
              "      <td>Order_No_22435</td>\n",
              "      <td>User_Id_633</td>\n",
              "      <td>Bike</td>\n",
              "      <td>3</td>\n",
              "      <td>Business</td>\n",
              "      <td>23</td>\n",
              "      <td>3</td>\n",
              "      <td>1:50:43 PM</td>\n",
              "      <td>23</td>\n",
              "      <td>3</td>\n",
              "      <td>1:52:19 PM</td>\n",
              "      <td>23</td>\n",
              "      <td>3</td>\n",
              "      <td>1:55:12 PM</td>\n",
              "      <td>23</td>\n",
              "      <td>3</td>\n",
              "      <td>2:00:29 PM</td>\n",
              "      <td>23</td>\n",
              "      <td>3</td>\n",
              "      <td>2:15:23 PM</td>\n",
              "      <td>5.0</td>\n",
              "      <td>27.2</td>\n",
              "      <td>NaN</td>\n",
              "      <td>-1.277071</td>\n",
              "      <td>36.823109</td>\n",
              "      <td>-1.300406</td>\n",
              "      <td>36.829741</td>\n",
              "      <td>Rider_Id_714</td>\n",
              "      <td>894.0</td>\n",
              "    </tr>\n",
              "    <tr>\n",
              "      <th>10856</th>\n",
              "      <td>Order_No_975</td>\n",
              "      <td>User_Id_84</td>\n",
              "      <td>Bike</td>\n",
              "      <td>3</td>\n",
              "      <td>Business</td>\n",
              "      <td>21</td>\n",
              "      <td>3</td>\n",
              "      <td>3:40:04 PM</td>\n",
              "      <td>21</td>\n",
              "      <td>3</td>\n",
              "      <td>3:43:15 PM</td>\n",
              "      <td>21</td>\n",
              "      <td>3</td>\n",
              "      <td>3:53:14 PM</td>\n",
              "      <td>21</td>\n",
              "      <td>3</td>\n",
              "      <td>3:56:02 PM</td>\n",
              "      <td>21</td>\n",
              "      <td>3</td>\n",
              "      <td>4:50:12 PM</td>\n",
              "      <td>15.0</td>\n",
              "      <td>23.3</td>\n",
              "      <td>3.1</td>\n",
              "      <td>-1.255189</td>\n",
              "      <td>36.782203</td>\n",
              "      <td>-1.328012</td>\n",
              "      <td>36.786145</td>\n",
              "      <td>Rider_Id_456</td>\n",
              "      <td>3250.0</td>\n",
              "    </tr>\n",
              "    <tr>\n",
              "      <th>10857</th>\n",
              "      <td>Order_No_14729</td>\n",
              "      <td>User_Id_412</td>\n",
              "      <td>Bike</td>\n",
              "      <td>3</td>\n",
              "      <td>Business</td>\n",
              "      <td>26</td>\n",
              "      <td>2</td>\n",
              "      <td>8:57:43 AM</td>\n",
              "      <td>26</td>\n",
              "      <td>2</td>\n",
              "      <td>8:58:54 AM</td>\n",
              "      <td>26</td>\n",
              "      <td>2</td>\n",
              "      <td>9:55:08 AM</td>\n",
              "      <td>26</td>\n",
              "      <td>2</td>\n",
              "      <td>10:11:26 AM</td>\n",
              "      <td>26</td>\n",
              "      <td>2</td>\n",
              "      <td>12:03:56 P</td>\n",
              "      <td>NaN</td>\n",
              "      <td>NaN</td>\n",
              "      <td>NaN</td>\n",
              "      <td>NaN</td>\n",
              "      <td>NaN</td>\n",
              "      <td>NaN</td>\n",
              "      <td>NaN</td>\n",
              "      <td>NaN</td>\n",
              "      <td>NaN</td>\n",
              "    </tr>\n",
              "  </tbody>\n",
              "</table>\n",
              "</div>"
            ],
            "text/plain": [
              "             Order No       User Id  ...      Rider Id  Time from Pickup to Arrival\n",
              "10853   Order_No_2115  User_Id_1304  ...  Rider_Id_669                       1038.0\n",
              "10854  Order_No_10285   User_Id_435  ...  Rider_Id_571                       1947.0\n",
              "10855  Order_No_22435   User_Id_633  ...  Rider_Id_714                        894.0\n",
              "10856    Order_No_975    User_Id_84  ...  Rider_Id_456                       3250.0\n",
              "10857  Order_No_14729   User_Id_412  ...           NaN                          NaN\n",
              "\n",
              "[5 rows x 29 columns]"
            ]
          },
          "metadata": {
            "tags": []
          },
          "execution_count": 800
        }
      ]
    },
    {
      "cell_type": "code",
      "metadata": {
        "id": "8Ig02H6nvHrL",
        "colab_type": "code",
        "outputId": "b7525526-d9d2-44b7-d9f3-292295993028",
        "colab": {
          "base_uri": "https://localhost:8080/",
          "height": 411
        }
      },
      "source": [
        "test.head()"
      ],
      "execution_count": 801,
      "outputs": [
        {
          "output_type": "execute_result",
          "data": {
            "text/html": [
              "<div>\n",
              "<style scoped>\n",
              "    .dataframe tbody tr th:only-of-type {\n",
              "        vertical-align: middle;\n",
              "    }\n",
              "\n",
              "    .dataframe tbody tr th {\n",
              "        vertical-align: top;\n",
              "    }\n",
              "\n",
              "    .dataframe thead th {\n",
              "        text-align: right;\n",
              "    }\n",
              "</style>\n",
              "<table border=\"1\" class=\"dataframe\">\n",
              "  <thead>\n",
              "    <tr style=\"text-align: right;\">\n",
              "      <th></th>\n",
              "      <th>Order No</th>\n",
              "      <th>User Id</th>\n",
              "      <th>Vehicle Type</th>\n",
              "      <th>Platform Type</th>\n",
              "      <th>Personal or Business</th>\n",
              "      <th>Placement - Day of Month</th>\n",
              "      <th>Placement - Weekday (Mo = 1)</th>\n",
              "      <th>Placement - Time</th>\n",
              "      <th>Confirmation - Day of Month</th>\n",
              "      <th>Confirmation - Weekday (Mo = 1)</th>\n",
              "      <th>Confirmation - Time</th>\n",
              "      <th>Arrival at Pickup - Day of Month</th>\n",
              "      <th>Arrival at Pickup - Weekday (Mo = 1)</th>\n",
              "      <th>Arrival at Pickup - Time</th>\n",
              "      <th>Pickup - Day of Month</th>\n",
              "      <th>Pickup - Weekday (Mo = 1)</th>\n",
              "      <th>Pickup - Time</th>\n",
              "      <th>Distance (KM)</th>\n",
              "      <th>Temperature</th>\n",
              "      <th>Precipitation in millimeters</th>\n",
              "      <th>Pickup Lat</th>\n",
              "      <th>Pickup Long</th>\n",
              "      <th>Destination Lat</th>\n",
              "      <th>Destination Long</th>\n",
              "      <th>Rider Id</th>\n",
              "    </tr>\n",
              "  </thead>\n",
              "  <tbody>\n",
              "    <tr>\n",
              "      <th>0</th>\n",
              "      <td>Order_No_19248</td>\n",
              "      <td>User_Id_3355</td>\n",
              "      <td>Bike</td>\n",
              "      <td>3</td>\n",
              "      <td>Business</td>\n",
              "      <td>27</td>\n",
              "      <td>3</td>\n",
              "      <td>4:44:10 PM</td>\n",
              "      <td>27</td>\n",
              "      <td>3</td>\n",
              "      <td>4:44:29 PM</td>\n",
              "      <td>27</td>\n",
              "      <td>3</td>\n",
              "      <td>4:53:04 PM</td>\n",
              "      <td>27</td>\n",
              "      <td>3</td>\n",
              "      <td>5:06:47 PM</td>\n",
              "      <td>8</td>\n",
              "      <td>NaN</td>\n",
              "      <td>NaN</td>\n",
              "      <td>-1.333275</td>\n",
              "      <td>36.870815</td>\n",
              "      <td>-1.305249</td>\n",
              "      <td>36.822390</td>\n",
              "      <td>Rider_Id_192</td>\n",
              "    </tr>\n",
              "    <tr>\n",
              "      <th>1</th>\n",
              "      <td>Order_No_12736</td>\n",
              "      <td>User_Id_3647</td>\n",
              "      <td>Bike</td>\n",
              "      <td>3</td>\n",
              "      <td>Business</td>\n",
              "      <td>17</td>\n",
              "      <td>5</td>\n",
              "      <td>12:57:35 PM</td>\n",
              "      <td>17</td>\n",
              "      <td>5</td>\n",
              "      <td>12:59:17 PM</td>\n",
              "      <td>17</td>\n",
              "      <td>5</td>\n",
              "      <td>1:20:27 PM</td>\n",
              "      <td>17</td>\n",
              "      <td>5</td>\n",
              "      <td>1:25:37 PM</td>\n",
              "      <td>5</td>\n",
              "      <td>NaN</td>\n",
              "      <td>NaN</td>\n",
              "      <td>-1.272639</td>\n",
              "      <td>36.794723</td>\n",
              "      <td>-1.277007</td>\n",
              "      <td>36.823907</td>\n",
              "      <td>Rider_Id_868</td>\n",
              "    </tr>\n",
              "    <tr>\n",
              "      <th>2</th>\n",
              "      <td>Order_No_768</td>\n",
              "      <td>User_Id_2154</td>\n",
              "      <td>Bike</td>\n",
              "      <td>3</td>\n",
              "      <td>Business</td>\n",
              "      <td>27</td>\n",
              "      <td>4</td>\n",
              "      <td>11:08:14 AM</td>\n",
              "      <td>27</td>\n",
              "      <td>4</td>\n",
              "      <td>11:25:05 AM</td>\n",
              "      <td>27</td>\n",
              "      <td>4</td>\n",
              "      <td>11:33:20 AM</td>\n",
              "      <td>27</td>\n",
              "      <td>4</td>\n",
              "      <td>11:57:54 AM</td>\n",
              "      <td>5</td>\n",
              "      <td>22.8</td>\n",
              "      <td>NaN</td>\n",
              "      <td>-1.290894</td>\n",
              "      <td>36.822971</td>\n",
              "      <td>-1.276574</td>\n",
              "      <td>36.851365</td>\n",
              "      <td>Rider_Id_26</td>\n",
              "    </tr>\n",
              "    <tr>\n",
              "      <th>3</th>\n",
              "      <td>Order_No_15332</td>\n",
              "      <td>User_Id_2910</td>\n",
              "      <td>Bike</td>\n",
              "      <td>3</td>\n",
              "      <td>Business</td>\n",
              "      <td>17</td>\n",
              "      <td>1</td>\n",
              "      <td>1:51:35 PM</td>\n",
              "      <td>17</td>\n",
              "      <td>1</td>\n",
              "      <td>1:53:27 PM</td>\n",
              "      <td>17</td>\n",
              "      <td>1</td>\n",
              "      <td>2:02:41 PM</td>\n",
              "      <td>17</td>\n",
              "      <td>1</td>\n",
              "      <td>2:16:52 PM</td>\n",
              "      <td>5</td>\n",
              "      <td>24.5</td>\n",
              "      <td>NaN</td>\n",
              "      <td>-1.290503</td>\n",
              "      <td>36.809646</td>\n",
              "      <td>-1.303382</td>\n",
              "      <td>36.790658</td>\n",
              "      <td>Rider_Id_685</td>\n",
              "    </tr>\n",
              "    <tr>\n",
              "      <th>4</th>\n",
              "      <td>Order_No_21373</td>\n",
              "      <td>User_Id_1205</td>\n",
              "      <td>Bike</td>\n",
              "      <td>3</td>\n",
              "      <td>Business</td>\n",
              "      <td>11</td>\n",
              "      <td>2</td>\n",
              "      <td>11:30:28 AM</td>\n",
              "      <td>11</td>\n",
              "      <td>2</td>\n",
              "      <td>11:34:45 AM</td>\n",
              "      <td>11</td>\n",
              "      <td>2</td>\n",
              "      <td>11:47:19 AM</td>\n",
              "      <td>11</td>\n",
              "      <td>2</td>\n",
              "      <td>11:56:04 AM</td>\n",
              "      <td>6</td>\n",
              "      <td>24.4</td>\n",
              "      <td>NaN</td>\n",
              "      <td>-1.281081</td>\n",
              "      <td>36.814423</td>\n",
              "      <td>-1.266467</td>\n",
              "      <td>36.792161</td>\n",
              "      <td>Rider_Id_858</td>\n",
              "    </tr>\n",
              "  </tbody>\n",
              "</table>\n",
              "</div>"
            ],
            "text/plain": [
              "         Order No       User Id  ... Destination Long      Rider Id\n",
              "0  Order_No_19248  User_Id_3355  ...        36.822390  Rider_Id_192\n",
              "1  Order_No_12736  User_Id_3647  ...        36.823907  Rider_Id_868\n",
              "2    Order_No_768  User_Id_2154  ...        36.851365   Rider_Id_26\n",
              "3  Order_No_15332  User_Id_2910  ...        36.790658  Rider_Id_685\n",
              "4  Order_No_21373  User_Id_1205  ...        36.792161  Rider_Id_858\n",
              "\n",
              "[5 rows x 25 columns]"
            ]
          },
          "metadata": {
            "tags": []
          },
          "execution_count": 801
        }
      ]
    },
    {
      "cell_type": "code",
      "metadata": {
        "id": "7ymdka3lvML1",
        "colab_type": "code",
        "outputId": "c56ffb88-e410-403d-faa0-5b18f3a9b481",
        "colab": {
          "base_uri": "https://localhost:8080/",
          "height": 204
        }
      },
      "source": [
        "sample.head()"
      ],
      "execution_count": 802,
      "outputs": [
        {
          "output_type": "execute_result",
          "data": {
            "text/html": [
              "<div>\n",
              "<style scoped>\n",
              "    .dataframe tbody tr th:only-of-type {\n",
              "        vertical-align: middle;\n",
              "    }\n",
              "\n",
              "    .dataframe tbody tr th {\n",
              "        vertical-align: top;\n",
              "    }\n",
              "\n",
              "    .dataframe thead th {\n",
              "        text-align: right;\n",
              "    }\n",
              "</style>\n",
              "<table border=\"1\" class=\"dataframe\">\n",
              "  <thead>\n",
              "    <tr style=\"text-align: right;\">\n",
              "      <th></th>\n",
              "      <th>Order_No</th>\n",
              "      <th>Time from Pickup to Arrival</th>\n",
              "    </tr>\n",
              "  </thead>\n",
              "  <tbody>\n",
              "    <tr>\n",
              "      <th>0</th>\n",
              "      <td>Order_No_19248</td>\n",
              "      <td>567.0</td>\n",
              "    </tr>\n",
              "    <tr>\n",
              "      <th>1</th>\n",
              "      <td>Order_No_12736</td>\n",
              "      <td>4903.0</td>\n",
              "    </tr>\n",
              "    <tr>\n",
              "      <th>2</th>\n",
              "      <td>Order_No_768</td>\n",
              "      <td>5649.0</td>\n",
              "    </tr>\n",
              "    <tr>\n",
              "      <th>3</th>\n",
              "      <td>Order_No_15332</td>\n",
              "      <td>NaN</td>\n",
              "    </tr>\n",
              "    <tr>\n",
              "      <th>4</th>\n",
              "      <td>Order_No_21373</td>\n",
              "      <td>NaN</td>\n",
              "    </tr>\n",
              "  </tbody>\n",
              "</table>\n",
              "</div>"
            ],
            "text/plain": [
              "         Order_No  Time from Pickup to Arrival\n",
              "0  Order_No_19248                        567.0\n",
              "1  Order_No_12736                       4903.0\n",
              "2    Order_No_768                       5649.0\n",
              "3  Order_No_15332                          NaN\n",
              "4  Order_No_21373                          NaN"
            ]
          },
          "metadata": {
            "tags": []
          },
          "execution_count": 802
        }
      ]
    },
    {
      "cell_type": "code",
      "metadata": {
        "id": "Mha610lmFMHc",
        "colab_type": "code",
        "outputId": "0ec4dd49-fa34-4e52-9d5f-1d32656ca620",
        "colab": {
          "base_uri": "https://localhost:8080/",
          "height": 51
        }
      },
      "source": [
        "print(train.shape)\n",
        "print(test.shape)"
      ],
      "execution_count": 803,
      "outputs": [
        {
          "output_type": "stream",
          "text": [
            "(10858, 29)\n",
            "(7068, 25)\n"
          ],
          "name": "stdout"
        }
      ]
    },
    {
      "cell_type": "code",
      "metadata": {
        "id": "NgeKdum9vYwb",
        "colab_type": "code",
        "outputId": "bf19d111-aaa5-4664-f237-13c918c12ddd",
        "colab": {
          "base_uri": "https://localhost:8080/",
          "height": 527
        }
      },
      "source": [
        "train.dtypes"
      ],
      "execution_count": 804,
      "outputs": [
        {
          "output_type": "execute_result",
          "data": {
            "text/plain": [
              "Order No                                      object\n",
              "User Id                                       object\n",
              "Vehicle Type                                  object\n",
              "Platform Type                                  int64\n",
              "Personal or Business                          object\n",
              "Placement - Day of Month                       int64\n",
              "Placement - Weekday (Mo = 1)                   int64\n",
              "Placement - Time                              object\n",
              "Confirmation - Day of Month                    int64\n",
              "Confirmation - Weekday (Mo = 1)                int64\n",
              "Confirmation - Time                           object\n",
              "Arrival at Pickup - Day of Month               int64\n",
              "Arrival at Pickup - Weekday (Mo = 1)           int64\n",
              "Arrival at Pickup - Time                      object\n",
              "Pickup - Day of Month                          int64\n",
              "Pickup - Weekday (Mo = 1)                      int64\n",
              "Pickup - Time                                 object\n",
              "Arrival at Destination - Day of Month          int64\n",
              "Arrival at Destination - Weekday (Mo = 1)      int64\n",
              "Arrival at Destination - Time                 object\n",
              "Distance (KM)                                float64\n",
              "Temperature                                  float64\n",
              "Precipitation in millimeters                 float64\n",
              "Pickup Lat                                   float64\n",
              "Pickup Long                                  float64\n",
              "Destination Lat                              float64\n",
              "Destination Long                             float64\n",
              "Rider Id                                      object\n",
              "Time from Pickup to Arrival                  float64\n",
              "dtype: object"
            ]
          },
          "metadata": {
            "tags": []
          },
          "execution_count": 804
        }
      ]
    },
    {
      "cell_type": "code",
      "metadata": {
        "id": "Ja6uI-7-wcH3",
        "colab_type": "code",
        "outputId": "908b2fdd-5eb6-4033-ff99-288849c7bf65",
        "colab": {
          "base_uri": "https://localhost:8080/",
          "height": 204
        }
      },
      "source": [
        "Riders.head()"
      ],
      "execution_count": 805,
      "outputs": [
        {
          "output_type": "execute_result",
          "data": {
            "text/html": [
              "<div>\n",
              "<style scoped>\n",
              "    .dataframe tbody tr th:only-of-type {\n",
              "        vertical-align: middle;\n",
              "    }\n",
              "\n",
              "    .dataframe tbody tr th {\n",
              "        vertical-align: top;\n",
              "    }\n",
              "\n",
              "    .dataframe thead th {\n",
              "        text-align: right;\n",
              "    }\n",
              "</style>\n",
              "<table border=\"1\" class=\"dataframe\">\n",
              "  <thead>\n",
              "    <tr style=\"text-align: right;\">\n",
              "      <th></th>\n",
              "      <th>Rider Id</th>\n",
              "      <th>No_Of_Orders</th>\n",
              "      <th>Age</th>\n",
              "      <th>Average_Rating</th>\n",
              "      <th>No_of_Ratings</th>\n",
              "    </tr>\n",
              "  </thead>\n",
              "  <tbody>\n",
              "    <tr>\n",
              "      <th>0</th>\n",
              "      <td>Rider_Id_396</td>\n",
              "      <td>2946</td>\n",
              "      <td>2298</td>\n",
              "      <td>14.0</td>\n",
              "      <td>1159</td>\n",
              "    </tr>\n",
              "    <tr>\n",
              "      <th>1</th>\n",
              "      <td>Rider_Id_479</td>\n",
              "      <td>360</td>\n",
              "      <td>951</td>\n",
              "      <td>13.5</td>\n",
              "      <td>176</td>\n",
              "    </tr>\n",
              "    <tr>\n",
              "      <th>2</th>\n",
              "      <td>Rider_Id_648</td>\n",
              "      <td>1746</td>\n",
              "      <td>821</td>\n",
              "      <td>14.3</td>\n",
              "      <td>466</td>\n",
              "    </tr>\n",
              "    <tr>\n",
              "      <th>3</th>\n",
              "      <td>Rider_Id_753</td>\n",
              "      <td>314</td>\n",
              "      <td>980</td>\n",
              "      <td>12.5</td>\n",
              "      <td>75</td>\n",
              "    </tr>\n",
              "    <tr>\n",
              "      <th>4</th>\n",
              "      <td>Rider_Id_335</td>\n",
              "      <td>536</td>\n",
              "      <td>1113</td>\n",
              "      <td>13.7</td>\n",
              "      <td>156</td>\n",
              "    </tr>\n",
              "  </tbody>\n",
              "</table>\n",
              "</div>"
            ],
            "text/plain": [
              "       Rider Id  No_Of_Orders   Age  Average_Rating  No_of_Ratings\n",
              "0  Rider_Id_396          2946  2298            14.0           1159\n",
              "1  Rider_Id_479           360   951            13.5            176\n",
              "2  Rider_Id_648          1746   821            14.3            466\n",
              "3  Rider_Id_753           314   980            12.5             75\n",
              "4  Rider_Id_335           536  1113            13.7            156"
            ]
          },
          "metadata": {
            "tags": []
          },
          "execution_count": 805
        }
      ]
    },
    {
      "cell_type": "code",
      "metadata": {
        "id": "O3X3EFZ0xEte",
        "colab_type": "code",
        "colab": {}
      },
      "source": [
        "Varriable=pd.read_csv('/content/VariableDefinitions.csv')"
      ],
      "execution_count": 0,
      "outputs": []
    },
    {
      "cell_type": "code",
      "metadata": {
        "id": "HXsr9S5yxbzJ",
        "colab_type": "code",
        "outputId": "782adbb9-f511-4ad5-b272-c125d42df5e2",
        "colab": {
          "base_uri": "https://localhost:8080/",
          "height": 204
        }
      },
      "source": [
        "Varriable.head()"
      ],
      "execution_count": 807,
      "outputs": [
        {
          "output_type": "execute_result",
          "data": {
            "text/html": [
              "<div>\n",
              "<style scoped>\n",
              "    .dataframe tbody tr th:only-of-type {\n",
              "        vertical-align: middle;\n",
              "    }\n",
              "\n",
              "    .dataframe tbody tr th {\n",
              "        vertical-align: top;\n",
              "    }\n",
              "\n",
              "    .dataframe thead th {\n",
              "        text-align: right;\n",
              "    }\n",
              "</style>\n",
              "<table border=\"1\" class=\"dataframe\">\n",
              "  <thead>\n",
              "    <tr style=\"text-align: right;\">\n",
              "      <th></th>\n",
              "      <th>Order No</th>\n",
              "      <th>Unique number identifying the order</th>\n",
              "    </tr>\n",
              "  </thead>\n",
              "  <tbody>\n",
              "    <tr>\n",
              "      <th>0</th>\n",
              "      <td>User Id</td>\n",
              "      <td>Unique number identifying the customer on a pl...</td>\n",
              "    </tr>\n",
              "    <tr>\n",
              "      <th>1</th>\n",
              "      <td>Vehicle Type</td>\n",
              "      <td>For this competition limited to bikes, however...</td>\n",
              "    </tr>\n",
              "    <tr>\n",
              "      <th>2</th>\n",
              "      <td>Platform Type</td>\n",
              "      <td>Platform used to place the order, there are 4 ...</td>\n",
              "    </tr>\n",
              "    <tr>\n",
              "      <th>3</th>\n",
              "      <td>Personal or Business</td>\n",
              "      <td>Customer type</td>\n",
              "    </tr>\n",
              "    <tr>\n",
              "      <th>4</th>\n",
              "      <td>Placement - Day of Month</td>\n",
              "      <td>Placement - Day of Month i.e 1-31</td>\n",
              "    </tr>\n",
              "  </tbody>\n",
              "</table>\n",
              "</div>"
            ],
            "text/plain": [
              "                   Order No                Unique number identifying the order\n",
              "0                   User Id  Unique number identifying the customer on a pl...\n",
              "1              Vehicle Type  For this competition limited to bikes, however...\n",
              "2             Platform Type  Platform used to place the order, there are 4 ...\n",
              "3      Personal or Business                                      Customer type\n",
              "4  Placement - Day of Month                  Placement - Day of Month i.e 1-31"
            ]
          },
          "metadata": {
            "tags": []
          },
          "execution_count": 807
        }
      ]
    },
    {
      "cell_type": "code",
      "metadata": {
        "id": "57-FGvQwtJt9",
        "colab_type": "code",
        "outputId": "300353d0-603f-4a55-d60c-77356d300a56",
        "colab": {
          "base_uri": "https://localhost:8080/",
          "height": 595
        }
      },
      "source": [
        "train.info()"
      ],
      "execution_count": 808,
      "outputs": [
        {
          "output_type": "stream",
          "text": [
            "<class 'pandas.core.frame.DataFrame'>\n",
            "RangeIndex: 10858 entries, 0 to 10857\n",
            "Data columns (total 29 columns):\n",
            "Order No                                     10858 non-null object\n",
            "User Id                                      10858 non-null object\n",
            "Vehicle Type                                 10858 non-null object\n",
            "Platform Type                                10858 non-null int64\n",
            "Personal or Business                         10858 non-null object\n",
            "Placement - Day of Month                     10858 non-null int64\n",
            "Placement - Weekday (Mo = 1)                 10858 non-null int64\n",
            "Placement - Time                             10858 non-null object\n",
            "Confirmation - Day of Month                  10858 non-null int64\n",
            "Confirmation - Weekday (Mo = 1)              10858 non-null int64\n",
            "Confirmation - Time                          10858 non-null object\n",
            "Arrival at Pickup - Day of Month             10858 non-null int64\n",
            "Arrival at Pickup - Weekday (Mo = 1)         10858 non-null int64\n",
            "Arrival at Pickup - Time                     10858 non-null object\n",
            "Pickup - Day of Month                        10858 non-null int64\n",
            "Pickup - Weekday (Mo = 1)                    10858 non-null int64\n",
            "Pickup - Time                                10858 non-null object\n",
            "Arrival at Destination - Day of Month        10858 non-null int64\n",
            "Arrival at Destination - Weekday (Mo = 1)    10858 non-null int64\n",
            "Arrival at Destination - Time                10858 non-null object\n",
            "Distance (KM)                                10857 non-null float64\n",
            "Temperature                                  8583 non-null float64\n",
            "Precipitation in millimeters                 280 non-null float64\n",
            "Pickup Lat                                   10857 non-null float64\n",
            "Pickup Long                                  10857 non-null float64\n",
            "Destination Lat                              10857 non-null float64\n",
            "Destination Long                             10857 non-null float64\n",
            "Rider Id                                     10857 non-null object\n",
            "Time from Pickup to Arrival                  10857 non-null float64\n",
            "dtypes: float64(8), int64(11), object(10)\n",
            "memory usage: 2.4+ MB\n"
          ],
          "name": "stdout"
        }
      ]
    },
    {
      "cell_type": "code",
      "metadata": {
        "id": "T1bchcZjuS0t",
        "colab_type": "code",
        "outputId": "7780a2de-e7bd-4ddb-d527-61503ada4d4a",
        "colab": {
          "base_uri": "https://localhost:8080/",
          "height": 527
        }
      },
      "source": [
        "train.isnull().sum()"
      ],
      "execution_count": 809,
      "outputs": [
        {
          "output_type": "execute_result",
          "data": {
            "text/plain": [
              "Order No                                         0\n",
              "User Id                                          0\n",
              "Vehicle Type                                     0\n",
              "Platform Type                                    0\n",
              "Personal or Business                             0\n",
              "Placement - Day of Month                         0\n",
              "Placement - Weekday (Mo = 1)                     0\n",
              "Placement - Time                                 0\n",
              "Confirmation - Day of Month                      0\n",
              "Confirmation - Weekday (Mo = 1)                  0\n",
              "Confirmation - Time                              0\n",
              "Arrival at Pickup - Day of Month                 0\n",
              "Arrival at Pickup - Weekday (Mo = 1)             0\n",
              "Arrival at Pickup - Time                         0\n",
              "Pickup - Day of Month                            0\n",
              "Pickup - Weekday (Mo = 1)                        0\n",
              "Pickup - Time                                    0\n",
              "Arrival at Destination - Day of Month            0\n",
              "Arrival at Destination - Weekday (Mo = 1)        0\n",
              "Arrival at Destination - Time                    0\n",
              "Distance (KM)                                    1\n",
              "Temperature                                   2275\n",
              "Precipitation in millimeters                 10578\n",
              "Pickup Lat                                       1\n",
              "Pickup Long                                      1\n",
              "Destination Lat                                  1\n",
              "Destination Long                                 1\n",
              "Rider Id                                         1\n",
              "Time from Pickup to Arrival                      1\n",
              "dtype: int64"
            ]
          },
          "metadata": {
            "tags": []
          },
          "execution_count": 809
        }
      ]
    },
    {
      "cell_type": "code",
      "metadata": {
        "id": "vhW1YW5hIS_C",
        "colab_type": "code",
        "colab": {}
      },
      "source": [
        "train.dropna(subset=['Distance (KM)','Pickup Lat','Pickup Long','Destination Lat','Destination Long','Rider Id','Time from Pickup to Arrival'],inplace=True)\n",
        "#train.dropna(how='any',inplace=True)"
      ],
      "execution_count": 0,
      "outputs": []
    },
    {
      "cell_type": "code",
      "metadata": {
        "id": "U1ZHa3wdIwN8",
        "colab_type": "code",
        "colab": {
          "base_uri": "https://localhost:8080/",
          "height": 527
        },
        "outputId": "537cb701-4af0-4b27-cecd-7d60bc515cf5"
      },
      "source": [
        "train.isnull().sum()"
      ],
      "execution_count": 811,
      "outputs": [
        {
          "output_type": "execute_result",
          "data": {
            "text/plain": [
              "Order No                                         0\n",
              "User Id                                          0\n",
              "Vehicle Type                                     0\n",
              "Platform Type                                    0\n",
              "Personal or Business                             0\n",
              "Placement - Day of Month                         0\n",
              "Placement - Weekday (Mo = 1)                     0\n",
              "Placement - Time                                 0\n",
              "Confirmation - Day of Month                      0\n",
              "Confirmation - Weekday (Mo = 1)                  0\n",
              "Confirmation - Time                              0\n",
              "Arrival at Pickup - Day of Month                 0\n",
              "Arrival at Pickup - Weekday (Mo = 1)             0\n",
              "Arrival at Pickup - Time                         0\n",
              "Pickup - Day of Month                            0\n",
              "Pickup - Weekday (Mo = 1)                        0\n",
              "Pickup - Time                                    0\n",
              "Arrival at Destination - Day of Month            0\n",
              "Arrival at Destination - Weekday (Mo = 1)        0\n",
              "Arrival at Destination - Time                    0\n",
              "Distance (KM)                                    0\n",
              "Temperature                                   2274\n",
              "Precipitation in millimeters                 10577\n",
              "Pickup Lat                                       0\n",
              "Pickup Long                                      0\n",
              "Destination Lat                                  0\n",
              "Destination Long                                 0\n",
              "Rider Id                                         0\n",
              "Time from Pickup to Arrival                      0\n",
              "dtype: int64"
            ]
          },
          "metadata": {
            "tags": []
          },
          "execution_count": 811
        }
      ]
    },
    {
      "cell_type": "code",
      "metadata": {
        "id": "QIpkiOK4uvwH",
        "colab_type": "code",
        "outputId": "768e1953-f25e-4684-d1a7-5eca1a9cc0bf",
        "colab": {
          "base_uri": "https://localhost:8080/",
          "height": 459
        }
      },
      "source": [
        "test.isnull().sum()"
      ],
      "execution_count": 812,
      "outputs": [
        {
          "output_type": "execute_result",
          "data": {
            "text/plain": [
              "Order No                                   0\n",
              "User Id                                    0\n",
              "Vehicle Type                               0\n",
              "Platform Type                              0\n",
              "Personal or Business                       0\n",
              "Placement - Day of Month                   0\n",
              "Placement - Weekday (Mo = 1)               0\n",
              "Placement - Time                           0\n",
              "Confirmation - Day of Month                0\n",
              "Confirmation - Weekday (Mo = 1)            0\n",
              "Confirmation - Time                        0\n",
              "Arrival at Pickup - Day of Month           0\n",
              "Arrival at Pickup - Weekday (Mo = 1)       0\n",
              "Arrival at Pickup - Time                   0\n",
              "Pickup - Day of Month                      0\n",
              "Pickup - Weekday (Mo = 1)                  0\n",
              "Pickup - Time                              0\n",
              "Distance (KM)                              0\n",
              "Temperature                             1437\n",
              "Precipitation in millimeters            6869\n",
              "Pickup Lat                                 0\n",
              "Pickup Long                                0\n",
              "Destination Lat                            0\n",
              "Destination Long                           0\n",
              "Rider Id                                   0\n",
              "dtype: int64"
            ]
          },
          "metadata": {
            "tags": []
          },
          "execution_count": 812
        }
      ]
    },
    {
      "cell_type": "code",
      "metadata": {
        "id": "KoEZexrB_q7m",
        "colab_type": "code",
        "colab": {
          "base_uri": "https://localhost:8080/",
          "height": 119
        },
        "outputId": "262804a6-2f42-4977-bdd1-4fda56508c9e"
      },
      "source": [
        "Riders.isnull().sum()"
      ],
      "execution_count": 813,
      "outputs": [
        {
          "output_type": "execute_result",
          "data": {
            "text/plain": [
              "Rider Id          0\n",
              "No_Of_Orders      0\n",
              "Age               0\n",
              "Average_Rating    0\n",
              "No_of_Ratings     0\n",
              "dtype: int64"
            ]
          },
          "metadata": {
            "tags": []
          },
          "execution_count": 813
        }
      ]
    },
    {
      "cell_type": "code",
      "metadata": {
        "id": "BsPHnAvru0RX",
        "colab_type": "code",
        "outputId": "9a183b88-e5ce-4eda-a5d8-969905c34e33",
        "colab": {
          "base_uri": "https://localhost:8080/",
          "height": 306
        }
      },
      "source": [
        "#checking the values in the temperature feature\n",
        "train['Temperature'].unique()"
      ],
      "execution_count": 814,
      "outputs": [
        {
          "output_type": "execute_result",
          "data": {
            "text/plain": [
              "array([20.4, 26.4,  nan, 19.2, 15.4, 27.2, 20.3, 28.7, 24.6, 16.4, 26.1,\n",
              "       20.9, 24.4, 19.4, 20.8, 23.3, 18.1, 22.5, 26.5, 27.3, 25.6, 20.5,\n",
              "       18.8, 16.1, 25.3, 22.3, 26.3, 29.2, 20. , 18. , 21.6, 24.8, 23. ,\n",
              "       28.1, 14.7, 25. , 26.7, 17.6, 22.7, 23.9, 24.7, 28.2, 19.1, 20.1,\n",
              "       17.7, 17.3, 21.9, 24.5, 26.9, 18.4, 22. , 25.7, 23.7, 25.8, 16.2,\n",
              "       31. , 26.2, 28.6, 19.3, 25.2, 24. , 25.5, 23.6, 30.1, 22.8, 27.7,\n",
              "       21.3, 19.7, 14.5, 30.8, 23.8, 21.7, 24.2, 25.9, 21.2, 18.9, 17.9,\n",
              "       18.7, 25.4, 22.9, 27.8, 22.6, 18.6, 26. , 21.1, 24.9, 18.5, 15.3,\n",
              "       27.5, 22.4, 29.6, 19.9, 27.6, 19.8, 20.6, 16.8, 27.4, 24.1, 22.1,\n",
              "       23.1, 27. , 29.8, 19.6, 21.8, 25.1, 16.9, 30. , 23.5, 23.2, 26.6,\n",
              "       28.5, 17.8, 30.5, 15.1, 21. , 16. , 26.8, 24.3, 18.3, 27.1, 20.7,\n",
              "       18.2, 23.4, 14.8, 15.8, 28.4, 21.4, 17.5, 29. , 19.5, 27.9, 22.2,\n",
              "       28. , 20.2, 29.1, 17.1, 29.9, 15.6, 31.8, 28.3, 30.7, 17.2, 29.7,\n",
              "       16.7, 19. , 29.3, 30.6, 29.4, 21.5, 16.6, 28.9, 15. , 13.9, 17.4,\n",
              "       15.2, 30.3, 29.5, 14.4, 13.8, 30.9, 13.4, 28.8, 16.5, 13.3, 15.5,\n",
              "       31.2, 17. , 16.3, 31.1, 30.4, 30.2, 14. , 14.2, 15.7, 13.5, 14.3,\n",
              "       31.9, 31.3, 15.9, 13.6, 14.9, 32.1, 14.6, 13.7, 13.2, 31.7])"
            ]
          },
          "metadata": {
            "tags": []
          },
          "execution_count": 814
        }
      ]
    },
    {
      "cell_type": "code",
      "metadata": {
        "id": "xq0NhSyTwsT7",
        "colab_type": "code",
        "colab": {}
      },
      "source": [
        "#trying to remove the null values\n",
        "train['Temperature'].fillna(train['Temperature'].mean(),inplace=True)\n",
        "test['Temperature'].fillna(test['Temperature'].mean(),inplace=True)\n"
      ],
      "execution_count": 0,
      "outputs": []
    },
    {
      "cell_type": "code",
      "metadata": {
        "id": "2Qsso4WYyjWH",
        "colab_type": "code",
        "colab": {}
      },
      "source": [
        "#trying to remove the null values\n",
        "train['Precipitation in millimeters'].fillna(train['Precipitation in millimeters'].mean(),inplace=True)\n",
        "test['Precipitation in millimeters'].fillna(test['Precipitation in millimeters'].mean(),inplace=True)"
      ],
      "execution_count": 0,
      "outputs": []
    },
    {
      "cell_type": "code",
      "metadata": {
        "id": "XgwxnczyzwFl",
        "colab_type": "code",
        "outputId": "43115c34-a637-47bb-888d-344bd477f501",
        "colab": {
          "base_uri": "https://localhost:8080/",
          "height": 51
        }
      },
      "source": [
        "print(\"Null values left in the train set:\", train.isnull().sum().sum())\n",
        "print(\"Null values left in the test set:\", test.isnull().sum().sum())"
      ],
      "execution_count": 817,
      "outputs": [
        {
          "output_type": "stream",
          "text": [
            "Null values left in the train set: 0\n",
            "Null values left in the test set: 0\n"
          ],
          "name": "stdout"
        }
      ]
    },
    {
      "cell_type": "code",
      "metadata": {
        "id": "J2Wp8MiAz75y",
        "colab_type": "code",
        "colab": {}
      },
      "source": [
        "#removing the order Id column  and predictor column\n",
        "order_id=test['Order No']\n",
        "y_train=train.iloc[:,-1]"
      ],
      "execution_count": 0,
      "outputs": []
    },
    {
      "cell_type": "code",
      "metadata": {
        "id": "gfn6BGkWgs16",
        "colab_type": "code",
        "outputId": "926faa89-9b1f-418a-b9b8-cfe8b3355a25",
        "colab": {
          "base_uri": "https://localhost:8080/",
          "height": 255
        }
      },
      "source": [
        "train.columns"
      ],
      "execution_count": 819,
      "outputs": [
        {
          "output_type": "execute_result",
          "data": {
            "text/plain": [
              "Index(['Order No', 'User Id', 'Vehicle Type', 'Platform Type',\n",
              "       'Personal or Business', 'Placement - Day of Month',\n",
              "       'Placement - Weekday (Mo = 1)', 'Placement - Time',\n",
              "       'Confirmation - Day of Month', 'Confirmation - Weekday (Mo = 1)',\n",
              "       'Confirmation - Time', 'Arrival at Pickup - Day of Month',\n",
              "       'Arrival at Pickup - Weekday (Mo = 1)', 'Arrival at Pickup - Time',\n",
              "       'Pickup - Day of Month', 'Pickup - Weekday (Mo = 1)', 'Pickup - Time',\n",
              "       'Arrival at Destination - Day of Month',\n",
              "       'Arrival at Destination - Weekday (Mo = 1)',\n",
              "       'Arrival at Destination - Time', 'Distance (KM)', 'Temperature',\n",
              "       'Precipitation in millimeters', 'Pickup Lat', 'Pickup Long',\n",
              "       'Destination Lat', 'Destination Long', 'Rider Id',\n",
              "       'Time from Pickup to Arrival'],\n",
              "      dtype='object')"
            ]
          },
          "metadata": {
            "tags": []
          },
          "execution_count": 819
        }
      ]
    },
    {
      "cell_type": "code",
      "metadata": {
        "id": "wc4FdLTth_ev",
        "colab_type": "code",
        "outputId": "58ba2854-1aed-4493-be70-b7fe6b008269",
        "colab": {
          "base_uri": "https://localhost:8080/",
          "height": 204
        }
      },
      "source": [
        "test.columns"
      ],
      "execution_count": 820,
      "outputs": [
        {
          "output_type": "execute_result",
          "data": {
            "text/plain": [
              "Index(['Order No', 'User Id', 'Vehicle Type', 'Platform Type',\n",
              "       'Personal or Business', 'Placement - Day of Month',\n",
              "       'Placement - Weekday (Mo = 1)', 'Placement - Time',\n",
              "       'Confirmation - Day of Month', 'Confirmation - Weekday (Mo = 1)',\n",
              "       'Confirmation - Time', 'Arrival at Pickup - Day of Month',\n",
              "       'Arrival at Pickup - Weekday (Mo = 1)', 'Arrival at Pickup - Time',\n",
              "       'Pickup - Day of Month', 'Pickup - Weekday (Mo = 1)', 'Pickup - Time',\n",
              "       'Distance (KM)', 'Temperature', 'Precipitation in millimeters',\n",
              "       'Pickup Lat', 'Pickup Long', 'Destination Lat', 'Destination Long',\n",
              "       'Rider Id'],\n",
              "      dtype='object')"
            ]
          },
          "metadata": {
            "tags": []
          },
          "execution_count": 820
        }
      ]
    },
    {
      "cell_type": "code",
      "metadata": {
        "id": "Hs0VgtaD-GLL",
        "colab_type": "code",
        "colab": {}
      },
      "source": [
        "# let's delete the last column from the dataset to  concat train and test\n",
        "train = train.drop(['Order No','Time from Pickup to Arrival','User Id','Confirmation - Day of Month',\n",
        "              'Confirmation - Weekday (Mo = 1)','Arrival at Pickup - Day of Month',\n",
        "              'Arrival at Pickup - Weekday (Mo = 1)',\n",
        "              'Pickup - Day of Month',\n",
        "              'Pickup - Weekday (Mo = 1)',\n",
        "              'Arrival at Destination - Day of Month',\n",
        "              'Arrival at Destination - Weekday (Mo = 1)',\n",
        "              'Arrival at Destination - Time','Vehicle Type'], axis = 1)"
      ],
      "execution_count": 0,
      "outputs": []
    },
    {
      "cell_type": "code",
      "metadata": {
        "id": "LpnQ_Fixh2tG",
        "colab_type": "code",
        "colab": {}
      },
      "source": [
        "test = test.drop(['User Id','Confirmation - Day of Month',\n",
        "              'Confirmation - Weekday (Mo = 1)','Arrival at Pickup - Day of Month',\n",
        "              'Arrival at Pickup - Weekday (Mo = 1)',\n",
        "              'Pickup - Day of Month',\n",
        "              'Pickup - Weekday (Mo = 1)',\n",
        "              'Order No','Vehicle Type'\n",
        "              ], axis = 1)"
      ],
      "execution_count": 0,
      "outputs": []
    },
    {
      "cell_type": "code",
      "metadata": {
        "id": "pgt_KLTIExay",
        "colab_type": "code",
        "outputId": "892475c1-eda4-492a-dc26-b68d09185a62",
        "colab": {
          "base_uri": "https://localhost:8080/",
          "height": 51
        }
      },
      "source": [
        "print(train.shape)\n",
        "print(test.shape)"
      ],
      "execution_count": 823,
      "outputs": [
        {
          "output_type": "stream",
          "text": [
            "(10857, 16)\n",
            "(7068, 16)\n"
          ],
          "name": "stdout"
        }
      ]
    },
    {
      "cell_type": "code",
      "metadata": {
        "id": "8lYNmY5UkViA",
        "colab_type": "code",
        "outputId": "08345439-5915-4e6c-9d7f-10fc26cda586",
        "colab": {
          "base_uri": "https://localhost:8080/",
          "height": 374
        }
      },
      "source": [
        "train.info()"
      ],
      "execution_count": 824,
      "outputs": [
        {
          "output_type": "stream",
          "text": [
            "<class 'pandas.core.frame.DataFrame'>\n",
            "Int64Index: 10857 entries, 0 to 10856\n",
            "Data columns (total 16 columns):\n",
            "Platform Type                   10857 non-null int64\n",
            "Personal or Business            10857 non-null object\n",
            "Placement - Day of Month        10857 non-null int64\n",
            "Placement - Weekday (Mo = 1)    10857 non-null int64\n",
            "Placement - Time                10857 non-null object\n",
            "Confirmation - Time             10857 non-null object\n",
            "Arrival at Pickup - Time        10857 non-null object\n",
            "Pickup - Time                   10857 non-null object\n",
            "Distance (KM)                   10857 non-null float64\n",
            "Temperature                     10857 non-null float64\n",
            "Precipitation in millimeters    10857 non-null float64\n",
            "Pickup Lat                      10857 non-null float64\n",
            "Pickup Long                     10857 non-null float64\n",
            "Destination Lat                 10857 non-null float64\n",
            "Destination Long                10857 non-null float64\n",
            "Rider Id                        10857 non-null object\n",
            "dtypes: float64(7), int64(3), object(6)\n",
            "memory usage: 1.4+ MB\n"
          ],
          "name": "stdout"
        }
      ]
    },
    {
      "cell_type": "code",
      "metadata": {
        "id": "tjk8hHY7knqY",
        "colab_type": "code",
        "outputId": "5b4784c4-d214-42fd-8890-7eee7e3bb28f",
        "colab": {
          "base_uri": "https://localhost:8080/",
          "height": 374
        }
      },
      "source": [
        "test.info()"
      ],
      "execution_count": 825,
      "outputs": [
        {
          "output_type": "stream",
          "text": [
            "<class 'pandas.core.frame.DataFrame'>\n",
            "RangeIndex: 7068 entries, 0 to 7067\n",
            "Data columns (total 16 columns):\n",
            "Platform Type                   7068 non-null int64\n",
            "Personal or Business            7068 non-null object\n",
            "Placement - Day of Month        7068 non-null int64\n",
            "Placement - Weekday (Mo = 1)    7068 non-null int64\n",
            "Placement - Time                7068 non-null object\n",
            "Confirmation - Time             7068 non-null object\n",
            "Arrival at Pickup - Time        7068 non-null object\n",
            "Pickup - Time                   7068 non-null object\n",
            "Distance (KM)                   7068 non-null int64\n",
            "Temperature                     7068 non-null float64\n",
            "Precipitation in millimeters    7068 non-null float64\n",
            "Pickup Lat                      7068 non-null float64\n",
            "Pickup Long                     7068 non-null float64\n",
            "Destination Lat                 7068 non-null float64\n",
            "Destination Long                7068 non-null float64\n",
            "Rider Id                        7068 non-null object\n",
            "dtypes: float64(6), int64(4), object(6)\n",
            "memory usage: 883.6+ KB\n"
          ],
          "name": "stdout"
        }
      ]
    },
    {
      "cell_type": "code",
      "metadata": {
        "id": "s7i6x_TBnHV2",
        "colab_type": "code",
        "colab": {}
      },
      "source": [
        "#adding other columns based on riders metrics\n",
        "train=pd.merge(train,Riders,how='left',left_on='Rider Id',right_on='Rider Id')\n",
        "#adding other columns based on riders metrics to test\n",
        "test=pd.merge(test,Riders,how='left',left_on='Rider Id',right_on='Rider Id')"
      ],
      "execution_count": 0,
      "outputs": []
    },
    {
      "cell_type": "code",
      "metadata": {
        "id": "7cDgC0g5uklK",
        "colab_type": "code",
        "outputId": "354beaf8-dd95-4421-d564-457f93781fad",
        "colab": {
          "base_uri": "https://localhost:8080/",
          "height": 442
        }
      },
      "source": [
        "train.info()"
      ],
      "execution_count": 827,
      "outputs": [
        {
          "output_type": "stream",
          "text": [
            "<class 'pandas.core.frame.DataFrame'>\n",
            "Int64Index: 10857 entries, 0 to 10856\n",
            "Data columns (total 20 columns):\n",
            "Platform Type                   10857 non-null int64\n",
            "Personal or Business            10857 non-null object\n",
            "Placement - Day of Month        10857 non-null int64\n",
            "Placement - Weekday (Mo = 1)    10857 non-null int64\n",
            "Placement - Time                10857 non-null object\n",
            "Confirmation - Time             10857 non-null object\n",
            "Arrival at Pickup - Time        10857 non-null object\n",
            "Pickup - Time                   10857 non-null object\n",
            "Distance (KM)                   10857 non-null float64\n",
            "Temperature                     10857 non-null float64\n",
            "Precipitation in millimeters    10857 non-null float64\n",
            "Pickup Lat                      10857 non-null float64\n",
            "Pickup Long                     10857 non-null float64\n",
            "Destination Lat                 10857 non-null float64\n",
            "Destination Long                10857 non-null float64\n",
            "Rider Id                        10857 non-null object\n",
            "No_Of_Orders                    10857 non-null int64\n",
            "Age                             10857 non-null int64\n",
            "Average_Rating                  10857 non-null float64\n",
            "No_of_Ratings                   10857 non-null int64\n",
            "dtypes: float64(8), int64(6), object(6)\n",
            "memory usage: 1.7+ MB\n"
          ],
          "name": "stdout"
        }
      ]
    },
    {
      "cell_type": "code",
      "metadata": {
        "id": "_pXhIJJZvGD5",
        "colab_type": "code",
        "colab": {}
      },
      "source": [
        "# i need to add the new others to the no_of_orders column,the new age,Average rating,no_of_ratings"
      ],
      "execution_count": 0,
      "outputs": []
    },
    {
      "cell_type": "code",
      "metadata": {
        "id": "dg4noj3kC14f",
        "colab_type": "code",
        "colab": {
          "base_uri": "https://localhost:8080/",
          "height": 374
        },
        "outputId": "a88e8f51-b58c-4ff2-8347-24364e2647c9"
      },
      "source": [
        "train.isnull().sum()"
      ],
      "execution_count": 829,
      "outputs": [
        {
          "output_type": "execute_result",
          "data": {
            "text/plain": [
              "Platform Type                   0\n",
              "Personal or Business            0\n",
              "Placement - Day of Month        0\n",
              "Placement - Weekday (Mo = 1)    0\n",
              "Placement - Time                0\n",
              "Confirmation - Time             0\n",
              "Arrival at Pickup - Time        0\n",
              "Pickup - Time                   0\n",
              "Distance (KM)                   0\n",
              "Temperature                     0\n",
              "Precipitation in millimeters    0\n",
              "Pickup Lat                      0\n",
              "Pickup Long                     0\n",
              "Destination Lat                 0\n",
              "Destination Long                0\n",
              "Rider Id                        0\n",
              "No_Of_Orders                    0\n",
              "Age                             0\n",
              "Average_Rating                  0\n",
              "No_of_Ratings                   0\n",
              "dtype: int64"
            ]
          },
          "metadata": {
            "tags": []
          },
          "execution_count": 829
        }
      ]
    },
    {
      "cell_type": "code",
      "metadata": {
        "id": "7JIWr77tC7ij",
        "colab_type": "code",
        "colab": {}
      },
      "source": [
        ""
      ],
      "execution_count": 0,
      "outputs": []
    },
    {
      "cell_type": "code",
      "metadata": {
        "id": "LVFto2snC_To",
        "colab_type": "code",
        "colab": {
          "base_uri": "https://localhost:8080/",
          "height": 374
        },
        "outputId": "197d4489-9393-4274-8bf0-cab854ac5359"
      },
      "source": [
        "train.isnull().sum()"
      ],
      "execution_count": 830,
      "outputs": [
        {
          "output_type": "execute_result",
          "data": {
            "text/plain": [
              "Platform Type                   0\n",
              "Personal or Business            0\n",
              "Placement - Day of Month        0\n",
              "Placement - Weekday (Mo = 1)    0\n",
              "Placement - Time                0\n",
              "Confirmation - Time             0\n",
              "Arrival at Pickup - Time        0\n",
              "Pickup - Time                   0\n",
              "Distance (KM)                   0\n",
              "Temperature                     0\n",
              "Precipitation in millimeters    0\n",
              "Pickup Lat                      0\n",
              "Pickup Long                     0\n",
              "Destination Lat                 0\n",
              "Destination Long                0\n",
              "Rider Id                        0\n",
              "No_Of_Orders                    0\n",
              "Age                             0\n",
              "Average_Rating                  0\n",
              "No_of_Ratings                   0\n",
              "dtype: int64"
            ]
          },
          "metadata": {
            "tags": []
          },
          "execution_count": 830
        }
      ]
    },
    {
      "cell_type": "code",
      "metadata": {
        "id": "K8vSQGX4M07n",
        "colab_type": "code",
        "colab": {}
      },
      "source": [
        "#remove rider_id\n",
        "train=train.drop(['Rider Id'],axis=1)\n",
        "test=test.drop(['Rider Id'],axis=1)"
      ],
      "execution_count": 0,
      "outputs": []
    },
    {
      "cell_type": "code",
      "metadata": {
        "id": "F6zKyG2-N1eA",
        "colab_type": "code",
        "outputId": "6bcd5e05-e1db-427b-e14b-73d4f57dc52c",
        "colab": {
          "base_uri": "https://localhost:8080/",
          "height": 119
        }
      },
      "source": [
        "#extracting Object datatype\n",
        "train.select_dtypes(include=['object']).dtypes"
      ],
      "execution_count": 832,
      "outputs": [
        {
          "output_type": "execute_result",
          "data": {
            "text/plain": [
              "Personal or Business        object\n",
              "Placement - Time            object\n",
              "Confirmation - Time         object\n",
              "Arrival at Pickup - Time    object\n",
              "Pickup - Time               object\n",
              "dtype: object"
            ]
          },
          "metadata": {
            "tags": []
          },
          "execution_count": 832
        }
      ]
    },
    {
      "cell_type": "code",
      "metadata": {
        "id": "WElvWis7OZoV",
        "colab_type": "code",
        "outputId": "35ceb8f0-b4e9-4ae6-bb28-e2ec5a38675a",
        "colab": {
          "base_uri": "https://localhost:8080/",
          "height": 68
        }
      },
      "source": [
        "train['Personal or Business'].value_counts()"
      ],
      "execution_count": 833,
      "outputs": [
        {
          "output_type": "execute_result",
          "data": {
            "text/plain": [
              "Business    8906\n",
              "Personal    1951\n",
              "Name: Personal or Business, dtype: int64"
            ]
          },
          "metadata": {
            "tags": []
          },
          "execution_count": 833
        }
      ]
    },
    {
      "cell_type": "code",
      "metadata": {
        "id": "w8c3yFPLv-5J",
        "colab_type": "code",
        "colab": {}
      },
      "source": [
        "train['Placement - Time']=pd.to_datetime(train['Placement - Time'],format='%I:%M:%S %p')\n",
        "train['Confirmation - Time']=pd.to_datetime(train['Confirmation - Time'],format='%I:%M:%S %p')\n",
        "train['Arrival at Pickup - Time']=pd.to_datetime(train['Arrival at Pickup - Time'],format='%I:%M:%S %p')\n",
        "train['Pickup - Time']=pd.to_datetime(train['Pickup - Time'],format='%I:%M:%S %p')\n",
        "\n",
        "test['Placement - Time']=pd.to_datetime(test['Placement - Time'],format='%I:%M:%S %p')\n",
        "test['Confirmation - Time']=pd.to_datetime(test['Confirmation - Time'],format='%I:%M:%S %p')\n",
        "test['Arrival at Pickup - Time']=pd.to_datetime(test['Arrival at Pickup - Time'],format='%I:%M:%S %p')\n",
        "test['Pickup - Time']=pd.to_datetime(test['Pickup - Time'],format='%I:%M:%S %p')\n"
      ],
      "execution_count": 0,
      "outputs": []
    },
    {
      "cell_type": "code",
      "metadata": {
        "id": "D702TbJERVtT",
        "colab_type": "code",
        "colab": {}
      },
      "source": [
        "import numpy as np\n",
        "import datetime\n",
        "from dateutil.relativedelta import relativedelta\n",
        "from datetime import date\n",
        "def Time_Diff(time1,time2):\n",
        "  return np.timedelta64((time2-time1),'s')/np.timedelta64(1,'s')\n"
      ],
      "execution_count": 0,
      "outputs": []
    },
    {
      "cell_type": "code",
      "metadata": {
        "id": "YnwKRSOdWTk8",
        "colab_type": "code",
        "colab": {}
      },
      "source": [
        "#time difference between placement and confirmation\n",
        "train['P_C_time_diff']=train.apply(lambda x :Time_Diff(x['Placement - Time'],x['Confirmation - Time']),axis=1)\n",
        "#time difference between placement and arrival at pick up\n",
        "train['P_A_time_diff']=train.apply(lambda x:Time_Diff(x['Placement - Time'],x['Arrival at Pickup - Time']),axis=1)\n",
        "#time difference between placement and  pick up\n",
        "train['P_P_time_diff']=train.apply(lambda x:Time_Diff(x['Placement - Time'],x['Pickup - Time']),axis=1)\n",
        "#time difference between confirmation and arrival at pick up\n",
        "train['C_A_time_diff']=train.apply(lambda x:Time_Diff(x['Confirmation - Time'],x['Arrival at Pickup - Time']),axis=1)\n",
        "#time difference between confirmation and  pick up\n",
        "train['C_P_time_diff']=train.apply(lambda x:Time_Diff(x['Confirmation - Time'],x['Pickup - Time']),axis=1)\n",
        "#time difference between  arrival at pick up and pick up\n",
        "train['A_P_time_diff']=train.apply(lambda x:Time_Diff(x['Arrival at Pickup - Time'],x['Pickup - Time']),axis=1)"
      ],
      "execution_count": 0,
      "outputs": []
    },
    {
      "cell_type": "code",
      "metadata": {
        "id": "6cYVs0Jf8wNc",
        "colab_type": "code",
        "colab": {}
      },
      "source": [
        "#time difference between placement and confirmation\n",
        "test['P_C_time_diff']=test.apply(lambda x :Time_Diff(x['Placement - Time'],x['Confirmation - Time']),axis=1)\n",
        "#time difference between placement and arrival at pick up\n",
        "test['P_A_time_diff']=test.apply(lambda x:Time_Diff(x['Placement - Time'],x['Arrival at Pickup - Time']),axis=1)\n",
        "#time difference between placement and  pick up\n",
        "test['P_P_time_diff']=test.apply(lambda x:Time_Diff(x['Placement - Time'],x['Pickup - Time']),axis=1)\n",
        "#time difference between confirmation and arrival at pick up\n",
        "test['C_A_time_diff']=test.apply(lambda x:Time_Diff(x['Confirmation - Time'],x['Arrival at Pickup - Time']),axis=1)\n",
        "#time difference between confirmation and  pick up\n",
        "test['C_P_time_diff']=test.apply(lambda x:Time_Diff(x['Confirmation - Time'],x['Pickup - Time']),axis=1)\n",
        "#time difference between  arrival at pick up and pick up\n",
        "test['A_P_time_diff']=test.apply(lambda x:Time_Diff(x['Arrival at Pickup - Time'],x['Pickup - Time']),axis=1)"
      ],
      "execution_count": 0,
      "outputs": []
    },
    {
      "cell_type": "code",
      "metadata": {
        "id": "xubkGvPoXr3v",
        "colab_type": "code",
        "outputId": "147116d0-fdb9-49e5-98b5-8abbd5dabe5e",
        "colab": {
          "base_uri": "https://localhost:8080/",
          "height": 445
        }
      },
      "source": [
        "train.head()"
      ],
      "execution_count": 838,
      "outputs": [
        {
          "output_type": "execute_result",
          "data": {
            "text/html": [
              "<div>\n",
              "<style scoped>\n",
              "    .dataframe tbody tr th:only-of-type {\n",
              "        vertical-align: middle;\n",
              "    }\n",
              "\n",
              "    .dataframe tbody tr th {\n",
              "        vertical-align: top;\n",
              "    }\n",
              "\n",
              "    .dataframe thead th {\n",
              "        text-align: right;\n",
              "    }\n",
              "</style>\n",
              "<table border=\"1\" class=\"dataframe\">\n",
              "  <thead>\n",
              "    <tr style=\"text-align: right;\">\n",
              "      <th></th>\n",
              "      <th>Platform Type</th>\n",
              "      <th>Personal or Business</th>\n",
              "      <th>Placement - Day of Month</th>\n",
              "      <th>Placement - Weekday (Mo = 1)</th>\n",
              "      <th>Placement - Time</th>\n",
              "      <th>Confirmation - Time</th>\n",
              "      <th>Arrival at Pickup - Time</th>\n",
              "      <th>Pickup - Time</th>\n",
              "      <th>Distance (KM)</th>\n",
              "      <th>Temperature</th>\n",
              "      <th>Precipitation in millimeters</th>\n",
              "      <th>Pickup Lat</th>\n",
              "      <th>Pickup Long</th>\n",
              "      <th>Destination Lat</th>\n",
              "      <th>Destination Long</th>\n",
              "      <th>No_Of_Orders</th>\n",
              "      <th>Age</th>\n",
              "      <th>Average_Rating</th>\n",
              "      <th>No_of_Ratings</th>\n",
              "      <th>P_C_time_diff</th>\n",
              "      <th>P_A_time_diff</th>\n",
              "      <th>P_P_time_diff</th>\n",
              "      <th>C_A_time_diff</th>\n",
              "      <th>C_P_time_diff</th>\n",
              "      <th>A_P_time_diff</th>\n",
              "    </tr>\n",
              "  </thead>\n",
              "  <tbody>\n",
              "    <tr>\n",
              "      <th>0</th>\n",
              "      <td>3</td>\n",
              "      <td>Business</td>\n",
              "      <td>9</td>\n",
              "      <td>5</td>\n",
              "      <td>1900-01-01 09:35:46</td>\n",
              "      <td>1900-01-01 09:40:10</td>\n",
              "      <td>1900-01-01 10:04:47</td>\n",
              "      <td>1900-01-01 10:27:30</td>\n",
              "      <td>4.0</td>\n",
              "      <td>20.400000</td>\n",
              "      <td>7.617857</td>\n",
              "      <td>-1.317755</td>\n",
              "      <td>36.830370</td>\n",
              "      <td>-1.300406</td>\n",
              "      <td>36.829741</td>\n",
              "      <td>1637</td>\n",
              "      <td>1309</td>\n",
              "      <td>13.8</td>\n",
              "      <td>549</td>\n",
              "      <td>264.0</td>\n",
              "      <td>1741.0</td>\n",
              "      <td>3104.0</td>\n",
              "      <td>1477.0</td>\n",
              "      <td>2840.0</td>\n",
              "      <td>1363.0</td>\n",
              "    </tr>\n",
              "    <tr>\n",
              "      <th>1</th>\n",
              "      <td>3</td>\n",
              "      <td>Personal</td>\n",
              "      <td>12</td>\n",
              "      <td>5</td>\n",
              "      <td>1900-01-01 11:16:16</td>\n",
              "      <td>1900-01-01 11:23:21</td>\n",
              "      <td>1900-01-01 11:40:22</td>\n",
              "      <td>1900-01-01 11:44:09</td>\n",
              "      <td>16.0</td>\n",
              "      <td>26.400000</td>\n",
              "      <td>7.617857</td>\n",
              "      <td>-1.351453</td>\n",
              "      <td>36.899315</td>\n",
              "      <td>-1.295004</td>\n",
              "      <td>36.814358</td>\n",
              "      <td>396</td>\n",
              "      <td>339</td>\n",
              "      <td>13.6</td>\n",
              "      <td>69</td>\n",
              "      <td>425.0</td>\n",
              "      <td>1446.0</td>\n",
              "      <td>1673.0</td>\n",
              "      <td>1021.0</td>\n",
              "      <td>1248.0</td>\n",
              "      <td>227.0</td>\n",
              "    </tr>\n",
              "    <tr>\n",
              "      <th>2</th>\n",
              "      <td>3</td>\n",
              "      <td>Business</td>\n",
              "      <td>30</td>\n",
              "      <td>2</td>\n",
              "      <td>1900-01-01 12:39:25</td>\n",
              "      <td>1900-01-01 12:42:44</td>\n",
              "      <td>1900-01-01 12:49:34</td>\n",
              "      <td>1900-01-01 12:53:03</td>\n",
              "      <td>3.0</td>\n",
              "      <td>23.286916</td>\n",
              "      <td>7.617857</td>\n",
              "      <td>-1.308284</td>\n",
              "      <td>36.843419</td>\n",
              "      <td>-1.300921</td>\n",
              "      <td>36.828195</td>\n",
              "      <td>1023</td>\n",
              "      <td>242</td>\n",
              "      <td>12.5</td>\n",
              "      <td>114</td>\n",
              "      <td>199.0</td>\n",
              "      <td>609.0</td>\n",
              "      <td>818.0</td>\n",
              "      <td>410.0</td>\n",
              "      <td>619.0</td>\n",
              "      <td>209.0</td>\n",
              "    </tr>\n",
              "    <tr>\n",
              "      <th>3</th>\n",
              "      <td>3</td>\n",
              "      <td>Business</td>\n",
              "      <td>15</td>\n",
              "      <td>5</td>\n",
              "      <td>1900-01-01 09:25:34</td>\n",
              "      <td>1900-01-01 09:26:05</td>\n",
              "      <td>1900-01-01 09:37:56</td>\n",
              "      <td>1900-01-01 09:43:06</td>\n",
              "      <td>9.0</td>\n",
              "      <td>19.200000</td>\n",
              "      <td>7.617857</td>\n",
              "      <td>-1.281301</td>\n",
              "      <td>36.832396</td>\n",
              "      <td>-1.257147</td>\n",
              "      <td>36.795063</td>\n",
              "      <td>886</td>\n",
              "      <td>283</td>\n",
              "      <td>14.5</td>\n",
              "      <td>113</td>\n",
              "      <td>31.0</td>\n",
              "      <td>742.0</td>\n",
              "      <td>1052.0</td>\n",
              "      <td>711.0</td>\n",
              "      <td>1021.0</td>\n",
              "      <td>310.0</td>\n",
              "    </tr>\n",
              "    <tr>\n",
              "      <th>4</th>\n",
              "      <td>1</td>\n",
              "      <td>Personal</td>\n",
              "      <td>13</td>\n",
              "      <td>1</td>\n",
              "      <td>1900-01-01 09:55:18</td>\n",
              "      <td>1900-01-01 09:56:18</td>\n",
              "      <td>1900-01-01 10:03:53</td>\n",
              "      <td>1900-01-01 10:05:23</td>\n",
              "      <td>9.0</td>\n",
              "      <td>15.400000</td>\n",
              "      <td>7.617857</td>\n",
              "      <td>-1.266597</td>\n",
              "      <td>36.792118</td>\n",
              "      <td>-1.295041</td>\n",
              "      <td>36.809817</td>\n",
              "      <td>2311</td>\n",
              "      <td>872</td>\n",
              "      <td>14.1</td>\n",
              "      <td>533</td>\n",
              "      <td>60.0</td>\n",
              "      <td>515.0</td>\n",
              "      <td>605.0</td>\n",
              "      <td>455.0</td>\n",
              "      <td>545.0</td>\n",
              "      <td>90.0</td>\n",
              "    </tr>\n",
              "  </tbody>\n",
              "</table>\n",
              "</div>"
            ],
            "text/plain": [
              "   Platform Type Personal or Business  ...  C_P_time_diff  A_P_time_diff\n",
              "0              3             Business  ...         2840.0         1363.0\n",
              "1              3             Personal  ...         1248.0          227.0\n",
              "2              3             Business  ...          619.0          209.0\n",
              "3              3             Business  ...         1021.0          310.0\n",
              "4              1             Personal  ...          545.0           90.0\n",
              "\n",
              "[5 rows x 25 columns]"
            ]
          },
          "metadata": {
            "tags": []
          },
          "execution_count": 838
        }
      ]
    },
    {
      "cell_type": "code",
      "metadata": {
        "id": "tOvDDP8zSjg1",
        "colab_type": "code",
        "colab": {}
      },
      "source": [
        "train=train.drop(['Placement - Time','Confirmation - Time','Arrival at Pickup - Time','Pickup - Time'],axis=1)\n",
        "test=test.drop(['Placement - Time','Confirmation - Time','Arrival at Pickup - Time','Pickup - Time'],axis=1)"
      ],
      "execution_count": 0,
      "outputs": []
    },
    {
      "cell_type": "code",
      "metadata": {
        "id": "aF05yPzAHTHH",
        "colab_type": "code",
        "colab": {
          "base_uri": "https://localhost:8080/",
          "height": 473
        },
        "outputId": "ae4c68e4-850e-449a-9381-81616a3755ca"
      },
      "source": [
        "#remove nan values\n",
        "#train.dropna(subset=['Distance (KM)','Pickup Lat','Pickup Long','Destination Lat','Destination Long','No_Of_Orders','Age','Average_Rating','No_of_Ratings'])"
      ],
      "execution_count": 840,
      "outputs": [
        {
          "output_type": "execute_result",
          "data": {
            "text/html": [
              "<div>\n",
              "<style scoped>\n",
              "    .dataframe tbody tr th:only-of-type {\n",
              "        vertical-align: middle;\n",
              "    }\n",
              "\n",
              "    .dataframe tbody tr th {\n",
              "        vertical-align: top;\n",
              "    }\n",
              "\n",
              "    .dataframe thead th {\n",
              "        text-align: right;\n",
              "    }\n",
              "</style>\n",
              "<table border=\"1\" class=\"dataframe\">\n",
              "  <thead>\n",
              "    <tr style=\"text-align: right;\">\n",
              "      <th></th>\n",
              "      <th>Platform Type</th>\n",
              "      <th>Personal or Business</th>\n",
              "      <th>Placement - Day of Month</th>\n",
              "      <th>Placement - Weekday (Mo = 1)</th>\n",
              "      <th>Distance (KM)</th>\n",
              "      <th>Temperature</th>\n",
              "      <th>Precipitation in millimeters</th>\n",
              "      <th>Pickup Lat</th>\n",
              "      <th>Pickup Long</th>\n",
              "      <th>Destination Lat</th>\n",
              "      <th>Destination Long</th>\n",
              "      <th>No_Of_Orders</th>\n",
              "      <th>Age</th>\n",
              "      <th>Average_Rating</th>\n",
              "      <th>No_of_Ratings</th>\n",
              "      <th>P_C_time_diff</th>\n",
              "      <th>P_A_time_diff</th>\n",
              "      <th>P_P_time_diff</th>\n",
              "      <th>C_A_time_diff</th>\n",
              "      <th>C_P_time_diff</th>\n",
              "      <th>A_P_time_diff</th>\n",
              "    </tr>\n",
              "  </thead>\n",
              "  <tbody>\n",
              "    <tr>\n",
              "      <th>0</th>\n",
              "      <td>3</td>\n",
              "      <td>Business</td>\n",
              "      <td>9</td>\n",
              "      <td>5</td>\n",
              "      <td>4.0</td>\n",
              "      <td>20.400000</td>\n",
              "      <td>7.617857</td>\n",
              "      <td>-1.317755</td>\n",
              "      <td>36.830370</td>\n",
              "      <td>-1.300406</td>\n",
              "      <td>36.829741</td>\n",
              "      <td>1637</td>\n",
              "      <td>1309</td>\n",
              "      <td>13.8</td>\n",
              "      <td>549</td>\n",
              "      <td>264.0</td>\n",
              "      <td>1741.0</td>\n",
              "      <td>3104.0</td>\n",
              "      <td>1477.0</td>\n",
              "      <td>2840.0</td>\n",
              "      <td>1363.0</td>\n",
              "    </tr>\n",
              "    <tr>\n",
              "      <th>1</th>\n",
              "      <td>3</td>\n",
              "      <td>Personal</td>\n",
              "      <td>12</td>\n",
              "      <td>5</td>\n",
              "      <td>16.0</td>\n",
              "      <td>26.400000</td>\n",
              "      <td>7.617857</td>\n",
              "      <td>-1.351453</td>\n",
              "      <td>36.899315</td>\n",
              "      <td>-1.295004</td>\n",
              "      <td>36.814358</td>\n",
              "      <td>396</td>\n",
              "      <td>339</td>\n",
              "      <td>13.6</td>\n",
              "      <td>69</td>\n",
              "      <td>425.0</td>\n",
              "      <td>1446.0</td>\n",
              "      <td>1673.0</td>\n",
              "      <td>1021.0</td>\n",
              "      <td>1248.0</td>\n",
              "      <td>227.0</td>\n",
              "    </tr>\n",
              "    <tr>\n",
              "      <th>2</th>\n",
              "      <td>3</td>\n",
              "      <td>Business</td>\n",
              "      <td>30</td>\n",
              "      <td>2</td>\n",
              "      <td>3.0</td>\n",
              "      <td>23.286916</td>\n",
              "      <td>7.617857</td>\n",
              "      <td>-1.308284</td>\n",
              "      <td>36.843419</td>\n",
              "      <td>-1.300921</td>\n",
              "      <td>36.828195</td>\n",
              "      <td>1023</td>\n",
              "      <td>242</td>\n",
              "      <td>12.5</td>\n",
              "      <td>114</td>\n",
              "      <td>199.0</td>\n",
              "      <td>609.0</td>\n",
              "      <td>818.0</td>\n",
              "      <td>410.0</td>\n",
              "      <td>619.0</td>\n",
              "      <td>209.0</td>\n",
              "    </tr>\n",
              "    <tr>\n",
              "      <th>3</th>\n",
              "      <td>3</td>\n",
              "      <td>Business</td>\n",
              "      <td>15</td>\n",
              "      <td>5</td>\n",
              "      <td>9.0</td>\n",
              "      <td>19.200000</td>\n",
              "      <td>7.617857</td>\n",
              "      <td>-1.281301</td>\n",
              "      <td>36.832396</td>\n",
              "      <td>-1.257147</td>\n",
              "      <td>36.795063</td>\n",
              "      <td>886</td>\n",
              "      <td>283</td>\n",
              "      <td>14.5</td>\n",
              "      <td>113</td>\n",
              "      <td>31.0</td>\n",
              "      <td>742.0</td>\n",
              "      <td>1052.0</td>\n",
              "      <td>711.0</td>\n",
              "      <td>1021.0</td>\n",
              "      <td>310.0</td>\n",
              "    </tr>\n",
              "    <tr>\n",
              "      <th>4</th>\n",
              "      <td>1</td>\n",
              "      <td>Personal</td>\n",
              "      <td>13</td>\n",
              "      <td>1</td>\n",
              "      <td>9.0</td>\n",
              "      <td>15.400000</td>\n",
              "      <td>7.617857</td>\n",
              "      <td>-1.266597</td>\n",
              "      <td>36.792118</td>\n",
              "      <td>-1.295041</td>\n",
              "      <td>36.809817</td>\n",
              "      <td>2311</td>\n",
              "      <td>872</td>\n",
              "      <td>14.1</td>\n",
              "      <td>533</td>\n",
              "      <td>60.0</td>\n",
              "      <td>515.0</td>\n",
              "      <td>605.0</td>\n",
              "      <td>455.0</td>\n",
              "      <td>545.0</td>\n",
              "      <td>90.0</td>\n",
              "    </tr>\n",
              "    <tr>\n",
              "      <th>...</th>\n",
              "      <td>...</td>\n",
              "      <td>...</td>\n",
              "      <td>...</td>\n",
              "      <td>...</td>\n",
              "      <td>...</td>\n",
              "      <td>...</td>\n",
              "      <td>...</td>\n",
              "      <td>...</td>\n",
              "      <td>...</td>\n",
              "      <td>...</td>\n",
              "      <td>...</td>\n",
              "      <td>...</td>\n",
              "      <td>...</td>\n",
              "      <td>...</td>\n",
              "      <td>...</td>\n",
              "      <td>...</td>\n",
              "      <td>...</td>\n",
              "      <td>...</td>\n",
              "      <td>...</td>\n",
              "      <td>...</td>\n",
              "      <td>...</td>\n",
              "    </tr>\n",
              "    <tr>\n",
              "      <th>10852</th>\n",
              "      <td>3</td>\n",
              "      <td>Business</td>\n",
              "      <td>25</td>\n",
              "      <td>4</td>\n",
              "      <td>5.0</td>\n",
              "      <td>23.286916</td>\n",
              "      <td>7.617857</td>\n",
              "      <td>-1.272639</td>\n",
              "      <td>36.794723</td>\n",
              "      <td>-1.264917</td>\n",
              "      <td>36.815065</td>\n",
              "      <td>3178</td>\n",
              "      <td>830</td>\n",
              "      <td>13.5</td>\n",
              "      <td>759</td>\n",
              "      <td>188.0</td>\n",
              "      <td>771.0</td>\n",
              "      <td>5047.0</td>\n",
              "      <td>583.0</td>\n",
              "      <td>4859.0</td>\n",
              "      <td>4276.0</td>\n",
              "    </tr>\n",
              "    <tr>\n",
              "      <th>10853</th>\n",
              "      <td>3</td>\n",
              "      <td>Business</td>\n",
              "      <td>29</td>\n",
              "      <td>1</td>\n",
              "      <td>9.0</td>\n",
              "      <td>23.300000</td>\n",
              "      <td>7.617857</td>\n",
              "      <td>-1.282453</td>\n",
              "      <td>36.826515</td>\n",
              "      <td>-1.333275</td>\n",
              "      <td>36.870815</td>\n",
              "      <td>6728</td>\n",
              "      <td>2702</td>\n",
              "      <td>13.9</td>\n",
              "      <td>2027</td>\n",
              "      <td>2446.0</td>\n",
              "      <td>2483.0</td>\n",
              "      <td>6293.0</td>\n",
              "      <td>37.0</td>\n",
              "      <td>3847.0</td>\n",
              "      <td>3810.0</td>\n",
              "    </tr>\n",
              "    <tr>\n",
              "      <th>10854</th>\n",
              "      <td>3</td>\n",
              "      <td>Business</td>\n",
              "      <td>30</td>\n",
              "      <td>4</td>\n",
              "      <td>18.0</td>\n",
              "      <td>23.286916</td>\n",
              "      <td>7.617857</td>\n",
              "      <td>-1.319613</td>\n",
              "      <td>36.711055</td>\n",
              "      <td>-1.300921</td>\n",
              "      <td>36.828195</td>\n",
              "      <td>4780</td>\n",
              "      <td>1716</td>\n",
              "      <td>14.1</td>\n",
              "      <td>1087</td>\n",
              "      <td>28.0</td>\n",
              "      <td>513.0</td>\n",
              "      <td>697.0</td>\n",
              "      <td>485.0</td>\n",
              "      <td>669.0</td>\n",
              "      <td>184.0</td>\n",
              "    </tr>\n",
              "    <tr>\n",
              "      <th>10855</th>\n",
              "      <td>3</td>\n",
              "      <td>Business</td>\n",
              "      <td>23</td>\n",
              "      <td>3</td>\n",
              "      <td>5.0</td>\n",
              "      <td>27.200000</td>\n",
              "      <td>7.617857</td>\n",
              "      <td>-1.277071</td>\n",
              "      <td>36.823109</td>\n",
              "      <td>-1.300406</td>\n",
              "      <td>36.829741</td>\n",
              "      <td>4695</td>\n",
              "      <td>2158</td>\n",
              "      <td>14.0</td>\n",
              "      <td>895</td>\n",
              "      <td>96.0</td>\n",
              "      <td>269.0</td>\n",
              "      <td>586.0</td>\n",
              "      <td>173.0</td>\n",
              "      <td>490.0</td>\n",
              "      <td>317.0</td>\n",
              "    </tr>\n",
              "    <tr>\n",
              "      <th>10856</th>\n",
              "      <td>3</td>\n",
              "      <td>Business</td>\n",
              "      <td>21</td>\n",
              "      <td>3</td>\n",
              "      <td>15.0</td>\n",
              "      <td>23.300000</td>\n",
              "      <td>3.100000</td>\n",
              "      <td>-1.255189</td>\n",
              "      <td>36.782203</td>\n",
              "      <td>-1.328012</td>\n",
              "      <td>36.786145</td>\n",
              "      <td>1693</td>\n",
              "      <td>1110</td>\n",
              "      <td>13.5</td>\n",
              "      <td>219</td>\n",
              "      <td>191.0</td>\n",
              "      <td>790.0</td>\n",
              "      <td>958.0</td>\n",
              "      <td>599.0</td>\n",
              "      <td>767.0</td>\n",
              "      <td>168.0</td>\n",
              "    </tr>\n",
              "  </tbody>\n",
              "</table>\n",
              "<p>10857 rows × 21 columns</p>\n",
              "</div>"
            ],
            "text/plain": [
              "       Platform Type Personal or Business  ...  C_P_time_diff  A_P_time_diff\n",
              "0                  3             Business  ...         2840.0         1363.0\n",
              "1                  3             Personal  ...         1248.0          227.0\n",
              "2                  3             Business  ...          619.0          209.0\n",
              "3                  3             Business  ...         1021.0          310.0\n",
              "4                  1             Personal  ...          545.0           90.0\n",
              "...              ...                  ...  ...            ...            ...\n",
              "10852              3             Business  ...         4859.0         4276.0\n",
              "10853              3             Business  ...         3847.0         3810.0\n",
              "10854              3             Business  ...          669.0          184.0\n",
              "10855              3             Business  ...          490.0          317.0\n",
              "10856              3             Business  ...          767.0          168.0\n",
              "\n",
              "[10857 rows x 21 columns]"
            ]
          },
          "metadata": {
            "tags": []
          },
          "execution_count": 840
        }
      ]
    },
    {
      "cell_type": "code",
      "metadata": {
        "id": "4tagTBwLTdY1",
        "colab_type": "code",
        "outputId": "d7f774c6-f46a-4f1a-e427-a1c2fef0a31c",
        "colab": {
          "base_uri": "https://localhost:8080/",
          "height": 51
        }
      },
      "source": [
        "#extracting Object datatype\n",
        "train.select_dtypes(include=['object']).dtypes"
      ],
      "execution_count": 561,
      "outputs": [
        {
          "output_type": "execute_result",
          "data": {
            "text/plain": [
              "Personal or Business    object\n",
              "dtype: object"
            ]
          },
          "metadata": {
            "tags": []
          },
          "execution_count": 561
        }
      ]
    },
    {
      "cell_type": "code",
      "metadata": {
        "id": "fnN2ff18lGfR",
        "colab_type": "code",
        "colab": {}
      },
      "source": [
        "#LabelEncoder\n",
        "from sklearn.preprocessing import LabelEncoder\n",
        "le = LabelEncoder()\n",
        "\n",
        "train['Personal or Business'] = le.fit_transform(train['Personal or Business'])\n",
        "test['Personal or Business'] = le.fit_transform(test['Personal or Business'])\n",
        "train.drop(['Personal or Business'],axis=1,inplace=True)\n",
        "\n",
        "test.drop(['Personal or Business'],axis=1,inplace=True)"
      ],
      "execution_count": 0,
      "outputs": []
    },
    {
      "cell_type": "code",
      "metadata": {
        "id": "UIexK9yioCp6",
        "colab_type": "code",
        "colab": {
          "base_uri": "https://localhost:8080/",
          "height": 85
        },
        "outputId": "c3ccf1f9-ec9f-4172-8991-dc036b23061b"
      },
      "source": [
        "\n",
        "# splitting into train and valid sets\n",
        "\n",
        "from sklearn.model_selection import train_test_split\n",
        "\n",
        "x_train, x_valid, y_train, y_valid = train_test_split(train, y_train, test_size = 0.25, random_state = 0)\n",
        "\n",
        "# getting the shapes\n",
        "print(\"Shape of x_train :\", x_train.shape)\n",
        "print(\"Shape of x_valid :\", x_valid.shape)\n",
        "print(\"Shape of y_train :\", y_train.shape)\n",
        "print(\"Shape of y_valid :\", y_valid.shape)"
      ],
      "execution_count": 844,
      "outputs": [
        {
          "output_type": "stream",
          "text": [
            "Shape of x_train : (8142, 20)\n",
            "Shape of x_valid : (2715, 20)\n",
            "Shape of y_train : (8142,)\n",
            "Shape of y_valid : (2715,)\n"
          ],
          "name": "stdout"
        }
      ]
    },
    {
      "cell_type": "code",
      "metadata": {
        "id": "OIY5IWsRp8GA",
        "colab_type": "code",
        "colab": {}
      },
      "source": [
        "#x_valid = sc.transform(x_valid)\n",
        "#x_test = sc.transform(x_test)"
      ],
      "execution_count": 0,
      "outputs": []
    },
    {
      "cell_type": "code",
      "metadata": {
        "id": "I_qsfiWRalAR",
        "colab_type": "code",
        "colab": {}
      },
      "source": [
        "# getting the numerical features\n",
        "#numerical_features = train.dtypes[train.dtypes != 'object'].index"
      ],
      "execution_count": 0,
      "outputs": []
    },
    {
      "cell_type": "code",
      "metadata": {
        "id": "Rvdl4znRatys",
        "colab_type": "code",
        "colab": {}
      },
      "source": [
        "#numerical_features"
      ],
      "execution_count": 0,
      "outputs": []
    },
    {
      "cell_type": "code",
      "metadata": {
        "id": "8iEzr1SFrRuq",
        "colab_type": "code",
        "colab": {}
      },
      "source": [
        "\n",
        "#from scipy.stats import skew\n",
        "\n",
        "# extracting the skewed features\n",
        "#skewed_features = train[numerical_features].apply(lambda x: skew(x.dropna())).sort_values(ascending = False)\n"
      ],
      "execution_count": 0,
      "outputs": []
    },
    {
      "cell_type": "code",
      "metadata": {
        "id": "IjROb5EjriW-",
        "colab_type": "code",
        "colab": {}
      },
      "source": [
        "# converting the feautures into a dataframe\n",
        "#skewness = pd.DataFrame({'skew': skewed_features})\n",
        "\n",
        "# let's check the skewess in the data\n",
        "#skewness.head(30)"
      ],
      "execution_count": 0,
      "outputs": []
    },
    {
      "cell_type": "code",
      "metadata": {
        "id": "ZDNwJiJFrxqT",
        "colab_type": "code",
        "colab": {}
      },
      "source": [
        "# applying box-cox transformations\n",
        "\n",
        "# importing box-cox\n",
        "#from scipy.special import boxcox1p\n",
        "#skewness = skewness[abs(skewness > 0.8)]\n",
        "#print(\"There are {} skewed features to box-cox transform\".format(skewness.shape[0]))\n",
        "\n",
        "\n",
        "#skewed_features = skewness.index\n",
        "\n",
        "#lam = 0.15\n",
        "#for feat in skewed_features:\n",
        "#    train[feat] += 1\n",
        "#    train[feat] = boxcox1p(train[feat], lam)\n",
        "  \n",
        "#train[skewed_features] = np.log1p(train[skewed_features])"
      ],
      "execution_count": 0,
      "outputs": []
    },
    {
      "cell_type": "code",
      "metadata": {
        "id": "4p84hUjgrn3B",
        "colab_type": "code",
        "colab": {}
      },
      "source": [
        "#!git clone https://github.com/datamadness/Automatic-skewness-transformation-for-Pandas-DataFrame.git"
      ],
      "execution_count": 0,
      "outputs": []
    },
    {
      "cell_type": "code",
      "metadata": {
        "id": "QqShmkOFI-tA",
        "colab_type": "code",
        "colab": {}
      },
      "source": [
        "#import os\n",
        "#os.chdir(r\"/content/Automatic-skewness-transformation-for-Pandas-DataFrame\")\n",
        "#from Automatic-skewness-transformation-for-Pandas-DataFrame.skew_autotransform import skew_autotransform\n",
        "#print('directory changed')\n"
      ],
      "execution_count": 0,
      "outputs": []
    },
    {
      "cell_type": "code",
      "metadata": {
        "id": "OGpcwbafN1AP",
        "colab_type": "code",
        "colab": {}
      },
      "source": [
        "#from skew_autotransform import skew_autotransform"
      ],
      "execution_count": 0,
      "outputs": []
    },
    {
      "cell_type": "code",
      "metadata": {
        "id": "9m7tEVtAJrzU",
        "colab_type": "code",
        "colab": {}
      },
      "source": [
        "#transformedDF = skew_autotransform(numerical_features.copy(deep=True), plot = True, exp = False, threshold = 0.5)"
      ],
      "execution_count": 0,
      "outputs": []
    },
    {
      "cell_type": "code",
      "metadata": {
        "id": "1DS1QFY8Jx1L",
        "colab_type": "code",
        "colab": {}
      },
      "source": [
        "#print('Original average skewness value was %2.2f' %(np.mean(abs(exampleDF.skew()))))\n",
        "#print('Average skewness after transformation is %2.2f' %(np.mean(abs(transformedDF.skew()))))"
      ],
      "execution_count": 0,
      "outputs": []
    },
    {
      "cell_type": "code",
      "metadata": {
        "id": "EvfVr7YV-tuw",
        "colab_type": "code",
        "colab": {
          "base_uri": "https://localhost:8080/",
          "height": 374
        },
        "outputId": "2d9637bd-393b-43b8-ec00-40d11ef66101"
      },
      "source": [
        "train.isnull().sum()"
      ],
      "execution_count": 845,
      "outputs": [
        {
          "output_type": "execute_result",
          "data": {
            "text/plain": [
              "Platform Type                   0\n",
              "Placement - Day of Month        0\n",
              "Placement - Weekday (Mo = 1)    0\n",
              "Distance (KM)                   0\n",
              "Temperature                     0\n",
              "Precipitation in millimeters    0\n",
              "Pickup Lat                      0\n",
              "Pickup Long                     0\n",
              "Destination Lat                 0\n",
              "Destination Long                0\n",
              "No_Of_Orders                    0\n",
              "Age                             0\n",
              "Average_Rating                  0\n",
              "No_of_Ratings                   0\n",
              "P_C_time_diff                   0\n",
              "P_A_time_diff                   0\n",
              "P_P_time_diff                   0\n",
              "C_A_time_diff                   0\n",
              "C_P_time_diff                   0\n",
              "A_P_time_diff                   0\n",
              "dtype: int64"
            ]
          },
          "metadata": {
            "tags": []
          },
          "execution_count": 845
        }
      ]
    },
    {
      "cell_type": "code",
      "metadata": {
        "id": "bHbsLUiFhAxN",
        "colab_type": "code",
        "colab": {}
      },
      "source": [
        "# applying standard scaling\n",
        "\n",
        "from sklearn.preprocessing import StandardScaler\n",
        "\n",
        "sc = StandardScaler()\n",
        "x_train = sc.fit_transform(x_train)\n",
        "x_valid = sc.transform(x_valid)\n",
        "test = sc.transform(test)\n"
      ],
      "execution_count": 0,
      "outputs": []
    },
    {
      "cell_type": "code",
      "metadata": {
        "id": "jrWrfBAehGlp",
        "colab_type": "code",
        "colab": {
          "base_uri": "https://localhost:8080/",
          "height": 88
        },
        "outputId": "b87d4202-b620-429f-c2f1-c815465dd987"
      },
      "source": [
        "# making a lasso model\n",
        "\n",
        "from sklearn.linear_model import Lasso\n",
        "from sklearn.preprocessing import RobustScaler\n",
        "from sklearn.pipeline import make_pipeline\n",
        "from sklearn.metrics import mean_squared_error\n",
        "\n",
        "lasso = make_pipeline(RobustScaler(), Lasso(alpha = 0.005, random_state = 0))\n",
        "lasso.fit(x_train, y_train)\n",
        "y_pred = lasso.predict(x_valid)\n",
        "\n",
        "mse = mean_squared_error(y_valid, y_pred)\n",
        "rmse = np.sqrt(mse)\n",
        "print(\"RMSE :\", rmse)"
      ],
      "execution_count": 847,
      "outputs": [
        {
          "output_type": "stream",
          "text": [
            "RMSE : 785.7197754940772\n"
          ],
          "name": "stdout"
        },
        {
          "output_type": "stream",
          "text": [
            "/usr/local/lib/python3.6/dist-packages/sklearn/linear_model/coordinate_descent.py:475: ConvergenceWarning: Objective did not converge. You might want to increase the number of iterations. Duality gap: 470024136.04550266, tolerance: 813608.508653906\n",
            "  positive)\n"
          ],
          "name": "stderr"
        }
      ]
    },
    {
      "cell_type": "code",
      "metadata": {
        "id": "4lxi5ngKhMR1",
        "colab_type": "code",
        "colab": {
          "base_uri": "https://localhost:8080/",
          "height": 88
        },
        "outputId": "4c055a60-9aca-43ce-b9f7-848e4d7fbb53"
      },
      "source": [
        "# making an Elastic Net model\n",
        "\n",
        "from sklearn.linear_model import ElasticNet\n",
        "\n",
        "enet = make_pipeline(RobustScaler(), ElasticNet(alpha=0.005, l1_ratio=.9, random_state=3))\n",
        "enet.fit(x_train, y_train)\n",
        "y_pred = enet.predict(x_valid)\n",
        "\n",
        "mse = mean_squared_error(y_valid, y_pred)\n",
        "rmse = np.sqrt(mse)\n",
        "print(\"RMSE :\", rmse)"
      ],
      "execution_count": 849,
      "outputs": [
        {
          "output_type": "stream",
          "text": [
            "RMSE : 785.7269895845477\n"
          ],
          "name": "stdout"
        },
        {
          "output_type": "stream",
          "text": [
            "/usr/local/lib/python3.6/dist-packages/sklearn/linear_model/coordinate_descent.py:475: ConvergenceWarning: Objective did not converge. You might want to increase the number of iterations. Duality gap: 2112887823.8150535, tolerance: 813608.508653906\n",
            "  positive)\n"
          ],
          "name": "stderr"
        }
      ]
    },
    {
      "cell_type": "code",
      "metadata": {
        "id": "n_IY5HhwhPrS",
        "colab_type": "code",
        "colab": {
          "base_uri": "https://localhost:8080/",
          "height": 34
        },
        "outputId": "02a7a6a2-6d67-4274-e712-7bfcf95b3bf0"
      },
      "source": [
        "from sklearn.ensemble import GradientBoostingRegressor\n",
        "\n",
        "# making a gradint boosting model\n",
        "gbr = GradientBoostingRegressor()\n",
        "gbr.fit(x_train, y_train)\n",
        "y_pred = gbr.predict(x_valid)\n",
        "\n",
        "mse = mean_squared_error(y_valid, y_pred)\n",
        "rmse = np.sqrt(mse)\n",
        "print(\"RMSE :\", rmse)"
      ],
      "execution_count": 850,
      "outputs": [
        {
          "output_type": "stream",
          "text": [
            "RMSE : 768.7508806739005\n"
          ],
          "name": "stdout"
        }
      ]
    },
    {
      "cell_type": "code",
      "metadata": {
        "id": "ugHnveGuhV1J",
        "colab_type": "code",
        "colab": {
          "base_uri": "https://localhost:8080/",
          "height": 34
        },
        "outputId": "d69f3e3e-5db5-4dbf-c3b1-7cf29ed8b3cc"
      },
      "source": [
        "# light gradient boosting\n",
        "import lightgbm as lgb\n",
        "\n",
        "lgb = lgb.LGBMRegressor(objective='regression',num_leaves=5,\n",
        "                              learning_rate=0.05, n_estimators=720,\n",
        "                              max_bin = 55, bagging_fraction = 0.8,\n",
        "                              bagging_freq = 5, feature_fraction = 0.2319,\n",
        "                              feature_fraction_seed=9, bagging_seed=9,\n",
        "                              min_data_in_leaf =6, min_sum_hessian_in_leaf = 11)\n",
        "lgb.fit(x_train, y_train)\n",
        "y_pred = lgb.predict(x_valid)\n",
        "\n",
        "mse = mean_squared_error(y_valid, y_pred)\n",
        "rmse = np.sqrt(mse)\n",
        "print(\"RMSE :\", rmse)"
      ],
      "execution_count": 851,
      "outputs": [
        {
          "output_type": "stream",
          "text": [
            "RMSE : 759.3814996776591\n"
          ],
          "name": "stdout"
        }
      ]
    }
  ]
}