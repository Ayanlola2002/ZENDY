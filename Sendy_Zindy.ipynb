{
  "nbformat": 4,
  "nbformat_minor": 0,
  "metadata": {
    "colab": {
      "name": "Sendy_Zindy.ipynb",
      "provenance": [],
      "collapsed_sections": [],
      "include_colab_link": true
    },
    "kernelspec": {
      "name": "python3",
      "display_name": "Python 3"
    }
  },
  "cells": [
    {
      "cell_type": "markdown",
      "metadata": {
        "id": "view-in-github",
        "colab_type": "text"
      },
      "source": [
        "<a href=\"https://colab.research.google.com/github/Ayanlola2002/ZENDY/blob/master/Sendy_Zindy.ipynb\" target=\"_parent\"><img src=\"https://colab.research.google.com/assets/colab-badge.svg\" alt=\"Open In Colab\"/></a>"
      ]
    },
    {
      "cell_type": "code",
      "metadata": {
        "id": "M2HEkHUupVwX",
        "colab_type": "code",
        "colab": {}
      },
      "source": [
        "import pandas as pd\n",
        "from datetime import datetime\n",
        "import numpy as np\n",
        "from dateutil.relativedelta import relativedelta\n",
        "from datetime import date\n",
        "import os"
      ],
      "execution_count": 0,
      "outputs": []
    },
    {
      "cell_type": "code",
      "metadata": {
        "id": "8krIChwLqeti",
        "colab_type": "code",
        "colab": {}
      },
      "source": [
        "\n",
        "train=pd.read_csv('/content/Train.csv')\n",
        "\n",
        "test=pd.read_csv('/content/Test.csv')\n",
        "\n",
        "Riders=pd.read_csv('/content/Riders.csv')\n"
      ],
      "execution_count": 0,
      "outputs": []
    },
    {
      "cell_type": "code",
      "metadata": {
        "id": "Z9KOt8JZrD-X",
        "colab_type": "code",
        "colab": {}
      },
      "source": [
        "sample=pd.read_csv('/content/SampleSubmission.csv')"
      ],
      "execution_count": 0,
      "outputs": []
    },
    {
      "cell_type": "code",
      "metadata": {
        "id": "Kj5fc_u-u19a",
        "colab_type": "code",
        "outputId": "9bf66a5e-6f1f-4b05-9d13-d4c8c26423a9",
        "colab": {
          "base_uri": "https://localhost:8080/",
          "height": 411
        }
      },
      "source": [
        "train.tail()"
      ],
      "execution_count": 335,
      "outputs": [
        {
          "output_type": "execute_result",
          "data": {
            "text/html": [
              "<div>\n",
              "<style scoped>\n",
              "    .dataframe tbody tr th:only-of-type {\n",
              "        vertical-align: middle;\n",
              "    }\n",
              "\n",
              "    .dataframe tbody tr th {\n",
              "        vertical-align: top;\n",
              "    }\n",
              "\n",
              "    .dataframe thead th {\n",
              "        text-align: right;\n",
              "    }\n",
              "</style>\n",
              "<table border=\"1\" class=\"dataframe\">\n",
              "  <thead>\n",
              "    <tr style=\"text-align: right;\">\n",
              "      <th></th>\n",
              "      <th>Order No</th>\n",
              "      <th>User Id</th>\n",
              "      <th>Vehicle Type</th>\n",
              "      <th>Platform Type</th>\n",
              "      <th>Personal or Business</th>\n",
              "      <th>Placement - Day of Month</th>\n",
              "      <th>Placement - Weekday (Mo = 1)</th>\n",
              "      <th>Placement - Time</th>\n",
              "      <th>Confirmation - Day of Month</th>\n",
              "      <th>Confirmation - Weekday (Mo = 1)</th>\n",
              "      <th>Confirmation - Time</th>\n",
              "      <th>Arrival at Pickup - Day of Month</th>\n",
              "      <th>Arrival at Pickup - Weekday (Mo = 1)</th>\n",
              "      <th>Arrival at Pickup - Time</th>\n",
              "      <th>Pickup - Day of Month</th>\n",
              "      <th>Pickup - Weekday (Mo = 1)</th>\n",
              "      <th>Pickup - Time</th>\n",
              "      <th>Arrival at Destination - Day of Month</th>\n",
              "      <th>Arrival at Destination - Weekday (Mo = 1)</th>\n",
              "      <th>Arrival at Destination - Time</th>\n",
              "      <th>Distance (KM)</th>\n",
              "      <th>Temperature</th>\n",
              "      <th>Precipitation in millimeters</th>\n",
              "      <th>Pickup Lat</th>\n",
              "      <th>Pickup Long</th>\n",
              "      <th>Destination Lat</th>\n",
              "      <th>Destination Long</th>\n",
              "      <th>Rider Id</th>\n",
              "      <th>Time from Pickup to Arrival</th>\n",
              "    </tr>\n",
              "  </thead>\n",
              "  <tbody>\n",
              "    <tr>\n",
              "      <th>10853</th>\n",
              "      <td>Order_No_2115</td>\n",
              "      <td>User_Id_1304</td>\n",
              "      <td>Bike</td>\n",
              "      <td>3</td>\n",
              "      <td>Business</td>\n",
              "      <td>29</td>\n",
              "      <td>1</td>\n",
              "      <td>3:33:21 PM</td>\n",
              "      <td>29</td>\n",
              "      <td>1</td>\n",
              "      <td>4:14:07 PM</td>\n",
              "      <td>29</td>\n",
              "      <td>1</td>\n",
              "      <td>4:14:44 PM</td>\n",
              "      <td>29</td>\n",
              "      <td>1</td>\n",
              "      <td>5:18:14 PM</td>\n",
              "      <td>29</td>\n",
              "      <td>1</td>\n",
              "      <td>5:35:32 PM</td>\n",
              "      <td>9.0</td>\n",
              "      <td>23.3</td>\n",
              "      <td>NaN</td>\n",
              "      <td>-1.282453</td>\n",
              "      <td>36.826515</td>\n",
              "      <td>-1.333275</td>\n",
              "      <td>36.870815</td>\n",
              "      <td>Rider_Id_669</td>\n",
              "      <td>1038.0</td>\n",
              "    </tr>\n",
              "    <tr>\n",
              "      <th>10854</th>\n",
              "      <td>Order_No_10285</td>\n",
              "      <td>User_Id_435</td>\n",
              "      <td>Bike</td>\n",
              "      <td>3</td>\n",
              "      <td>Business</td>\n",
              "      <td>30</td>\n",
              "      <td>4</td>\n",
              "      <td>11:35:59 AM</td>\n",
              "      <td>30</td>\n",
              "      <td>4</td>\n",
              "      <td>11:36:27 AM</td>\n",
              "      <td>30</td>\n",
              "      <td>4</td>\n",
              "      <td>11:44:32 AM</td>\n",
              "      <td>30</td>\n",
              "      <td>4</td>\n",
              "      <td>11:47:36 AM</td>\n",
              "      <td>30</td>\n",
              "      <td>4</td>\n",
              "      <td>12:20:03 PM</td>\n",
              "      <td>18.0</td>\n",
              "      <td>NaN</td>\n",
              "      <td>NaN</td>\n",
              "      <td>-1.319613</td>\n",
              "      <td>36.711055</td>\n",
              "      <td>-1.300921</td>\n",
              "      <td>36.828195</td>\n",
              "      <td>Rider_Id_571</td>\n",
              "      <td>1947.0</td>\n",
              "    </tr>\n",
              "    <tr>\n",
              "      <th>10855</th>\n",
              "      <td>Order_No_22435</td>\n",
              "      <td>User_Id_633</td>\n",
              "      <td>Bike</td>\n",
              "      <td>3</td>\n",
              "      <td>Business</td>\n",
              "      <td>23</td>\n",
              "      <td>3</td>\n",
              "      <td>1:50:43 PM</td>\n",
              "      <td>23</td>\n",
              "      <td>3</td>\n",
              "      <td>1:52:19 PM</td>\n",
              "      <td>23</td>\n",
              "      <td>3</td>\n",
              "      <td>1:55:12 PM</td>\n",
              "      <td>23</td>\n",
              "      <td>3</td>\n",
              "      <td>2:00:29 PM</td>\n",
              "      <td>23</td>\n",
              "      <td>3</td>\n",
              "      <td>2:15:23 PM</td>\n",
              "      <td>5.0</td>\n",
              "      <td>27.2</td>\n",
              "      <td>NaN</td>\n",
              "      <td>-1.277071</td>\n",
              "      <td>36.823109</td>\n",
              "      <td>-1.300406</td>\n",
              "      <td>36.829741</td>\n",
              "      <td>Rider_Id_714</td>\n",
              "      <td>894.0</td>\n",
              "    </tr>\n",
              "    <tr>\n",
              "      <th>10856</th>\n",
              "      <td>Order_No_975</td>\n",
              "      <td>User_Id_84</td>\n",
              "      <td>Bike</td>\n",
              "      <td>3</td>\n",
              "      <td>Business</td>\n",
              "      <td>21</td>\n",
              "      <td>3</td>\n",
              "      <td>3:40:04 PM</td>\n",
              "      <td>21</td>\n",
              "      <td>3</td>\n",
              "      <td>3:43:15 PM</td>\n",
              "      <td>21</td>\n",
              "      <td>3</td>\n",
              "      <td>3:53:14 PM</td>\n",
              "      <td>21</td>\n",
              "      <td>3</td>\n",
              "      <td>3:56:02 PM</td>\n",
              "      <td>21</td>\n",
              "      <td>3</td>\n",
              "      <td>4:50:12 PM</td>\n",
              "      <td>15.0</td>\n",
              "      <td>23.3</td>\n",
              "      <td>3.1</td>\n",
              "      <td>-1.255189</td>\n",
              "      <td>36.782203</td>\n",
              "      <td>-1.328012</td>\n",
              "      <td>36.786145</td>\n",
              "      <td>Rider_Id_456</td>\n",
              "      <td>3250.0</td>\n",
              "    </tr>\n",
              "    <tr>\n",
              "      <th>10857</th>\n",
              "      <td>Order_No_14729</td>\n",
              "      <td>User_Id_412</td>\n",
              "      <td>Bike</td>\n",
              "      <td>3</td>\n",
              "      <td>Business</td>\n",
              "      <td>26</td>\n",
              "      <td>2</td>\n",
              "      <td>8:57:43 AM</td>\n",
              "      <td>26</td>\n",
              "      <td>2</td>\n",
              "      <td>8:58:54 AM</td>\n",
              "      <td>26</td>\n",
              "      <td>2</td>\n",
              "      <td>9:55:08 AM</td>\n",
              "      <td>26</td>\n",
              "      <td>2</td>\n",
              "      <td>10:11:26 AM</td>\n",
              "      <td>26</td>\n",
              "      <td>2</td>\n",
              "      <td>12:03:56 P</td>\n",
              "      <td>NaN</td>\n",
              "      <td>NaN</td>\n",
              "      <td>NaN</td>\n",
              "      <td>NaN</td>\n",
              "      <td>NaN</td>\n",
              "      <td>NaN</td>\n",
              "      <td>NaN</td>\n",
              "      <td>NaN</td>\n",
              "      <td>NaN</td>\n",
              "    </tr>\n",
              "  </tbody>\n",
              "</table>\n",
              "</div>"
            ],
            "text/plain": [
              "             Order No       User Id  ...      Rider Id  Time from Pickup to Arrival\n",
              "10853   Order_No_2115  User_Id_1304  ...  Rider_Id_669                       1038.0\n",
              "10854  Order_No_10285   User_Id_435  ...  Rider_Id_571                       1947.0\n",
              "10855  Order_No_22435   User_Id_633  ...  Rider_Id_714                        894.0\n",
              "10856    Order_No_975    User_Id_84  ...  Rider_Id_456                       3250.0\n",
              "10857  Order_No_14729   User_Id_412  ...           NaN                          NaN\n",
              "\n",
              "[5 rows x 29 columns]"
            ]
          },
          "metadata": {
            "tags": []
          },
          "execution_count": 335
        }
      ]
    },
    {
      "cell_type": "code",
      "metadata": {
        "id": "8Ig02H6nvHrL",
        "colab_type": "code",
        "outputId": "e2a56115-66e9-4a58-9640-cd211d4a8f3a",
        "colab": {
          "base_uri": "https://localhost:8080/",
          "height": 411
        }
      },
      "source": [
        "test.head()"
      ],
      "execution_count": 336,
      "outputs": [
        {
          "output_type": "execute_result",
          "data": {
            "text/html": [
              "<div>\n",
              "<style scoped>\n",
              "    .dataframe tbody tr th:only-of-type {\n",
              "        vertical-align: middle;\n",
              "    }\n",
              "\n",
              "    .dataframe tbody tr th {\n",
              "        vertical-align: top;\n",
              "    }\n",
              "\n",
              "    .dataframe thead th {\n",
              "        text-align: right;\n",
              "    }\n",
              "</style>\n",
              "<table border=\"1\" class=\"dataframe\">\n",
              "  <thead>\n",
              "    <tr style=\"text-align: right;\">\n",
              "      <th></th>\n",
              "      <th>Order No</th>\n",
              "      <th>User Id</th>\n",
              "      <th>Vehicle Type</th>\n",
              "      <th>Platform Type</th>\n",
              "      <th>Personal or Business</th>\n",
              "      <th>Placement - Day of Month</th>\n",
              "      <th>Placement - Weekday (Mo = 1)</th>\n",
              "      <th>Placement - Time</th>\n",
              "      <th>Confirmation - Day of Month</th>\n",
              "      <th>Confirmation - Weekday (Mo = 1)</th>\n",
              "      <th>Confirmation - Time</th>\n",
              "      <th>Arrival at Pickup - Day of Month</th>\n",
              "      <th>Arrival at Pickup - Weekday (Mo = 1)</th>\n",
              "      <th>Arrival at Pickup - Time</th>\n",
              "      <th>Pickup - Day of Month</th>\n",
              "      <th>Pickup - Weekday (Mo = 1)</th>\n",
              "      <th>Pickup - Time</th>\n",
              "      <th>Distance (KM)</th>\n",
              "      <th>Temperature</th>\n",
              "      <th>Precipitation in millimeters</th>\n",
              "      <th>Pickup Lat</th>\n",
              "      <th>Pickup Long</th>\n",
              "      <th>Destination Lat</th>\n",
              "      <th>Destination Long</th>\n",
              "      <th>Rider Id</th>\n",
              "    </tr>\n",
              "  </thead>\n",
              "  <tbody>\n",
              "    <tr>\n",
              "      <th>0</th>\n",
              "      <td>Order_No_19248</td>\n",
              "      <td>User_Id_3355</td>\n",
              "      <td>Bike</td>\n",
              "      <td>3</td>\n",
              "      <td>Business</td>\n",
              "      <td>27</td>\n",
              "      <td>3</td>\n",
              "      <td>4:44:10 PM</td>\n",
              "      <td>27</td>\n",
              "      <td>3</td>\n",
              "      <td>4:44:29 PM</td>\n",
              "      <td>27</td>\n",
              "      <td>3</td>\n",
              "      <td>4:53:04 PM</td>\n",
              "      <td>27</td>\n",
              "      <td>3</td>\n",
              "      <td>5:06:47 PM</td>\n",
              "      <td>8</td>\n",
              "      <td>NaN</td>\n",
              "      <td>NaN</td>\n",
              "      <td>-1.333275</td>\n",
              "      <td>36.870815</td>\n",
              "      <td>-1.305249</td>\n",
              "      <td>36.822390</td>\n",
              "      <td>Rider_Id_192</td>\n",
              "    </tr>\n",
              "    <tr>\n",
              "      <th>1</th>\n",
              "      <td>Order_No_12736</td>\n",
              "      <td>User_Id_3647</td>\n",
              "      <td>Bike</td>\n",
              "      <td>3</td>\n",
              "      <td>Business</td>\n",
              "      <td>17</td>\n",
              "      <td>5</td>\n",
              "      <td>12:57:35 PM</td>\n",
              "      <td>17</td>\n",
              "      <td>5</td>\n",
              "      <td>12:59:17 PM</td>\n",
              "      <td>17</td>\n",
              "      <td>5</td>\n",
              "      <td>1:20:27 PM</td>\n",
              "      <td>17</td>\n",
              "      <td>5</td>\n",
              "      <td>1:25:37 PM</td>\n",
              "      <td>5</td>\n",
              "      <td>NaN</td>\n",
              "      <td>NaN</td>\n",
              "      <td>-1.272639</td>\n",
              "      <td>36.794723</td>\n",
              "      <td>-1.277007</td>\n",
              "      <td>36.823907</td>\n",
              "      <td>Rider_Id_868</td>\n",
              "    </tr>\n",
              "    <tr>\n",
              "      <th>2</th>\n",
              "      <td>Order_No_768</td>\n",
              "      <td>User_Id_2154</td>\n",
              "      <td>Bike</td>\n",
              "      <td>3</td>\n",
              "      <td>Business</td>\n",
              "      <td>27</td>\n",
              "      <td>4</td>\n",
              "      <td>11:08:14 AM</td>\n",
              "      <td>27</td>\n",
              "      <td>4</td>\n",
              "      <td>11:25:05 AM</td>\n",
              "      <td>27</td>\n",
              "      <td>4</td>\n",
              "      <td>11:33:20 AM</td>\n",
              "      <td>27</td>\n",
              "      <td>4</td>\n",
              "      <td>11:57:54 AM</td>\n",
              "      <td>5</td>\n",
              "      <td>22.8</td>\n",
              "      <td>NaN</td>\n",
              "      <td>-1.290894</td>\n",
              "      <td>36.822971</td>\n",
              "      <td>-1.276574</td>\n",
              "      <td>36.851365</td>\n",
              "      <td>Rider_Id_26</td>\n",
              "    </tr>\n",
              "    <tr>\n",
              "      <th>3</th>\n",
              "      <td>Order_No_15332</td>\n",
              "      <td>User_Id_2910</td>\n",
              "      <td>Bike</td>\n",
              "      <td>3</td>\n",
              "      <td>Business</td>\n",
              "      <td>17</td>\n",
              "      <td>1</td>\n",
              "      <td>1:51:35 PM</td>\n",
              "      <td>17</td>\n",
              "      <td>1</td>\n",
              "      <td>1:53:27 PM</td>\n",
              "      <td>17</td>\n",
              "      <td>1</td>\n",
              "      <td>2:02:41 PM</td>\n",
              "      <td>17</td>\n",
              "      <td>1</td>\n",
              "      <td>2:16:52 PM</td>\n",
              "      <td>5</td>\n",
              "      <td>24.5</td>\n",
              "      <td>NaN</td>\n",
              "      <td>-1.290503</td>\n",
              "      <td>36.809646</td>\n",
              "      <td>-1.303382</td>\n",
              "      <td>36.790658</td>\n",
              "      <td>Rider_Id_685</td>\n",
              "    </tr>\n",
              "    <tr>\n",
              "      <th>4</th>\n",
              "      <td>Order_No_21373</td>\n",
              "      <td>User_Id_1205</td>\n",
              "      <td>Bike</td>\n",
              "      <td>3</td>\n",
              "      <td>Business</td>\n",
              "      <td>11</td>\n",
              "      <td>2</td>\n",
              "      <td>11:30:28 AM</td>\n",
              "      <td>11</td>\n",
              "      <td>2</td>\n",
              "      <td>11:34:45 AM</td>\n",
              "      <td>11</td>\n",
              "      <td>2</td>\n",
              "      <td>11:47:19 AM</td>\n",
              "      <td>11</td>\n",
              "      <td>2</td>\n",
              "      <td>11:56:04 AM</td>\n",
              "      <td>6</td>\n",
              "      <td>24.4</td>\n",
              "      <td>NaN</td>\n",
              "      <td>-1.281081</td>\n",
              "      <td>36.814423</td>\n",
              "      <td>-1.266467</td>\n",
              "      <td>36.792161</td>\n",
              "      <td>Rider_Id_858</td>\n",
              "    </tr>\n",
              "  </tbody>\n",
              "</table>\n",
              "</div>"
            ],
            "text/plain": [
              "         Order No       User Id  ... Destination Long      Rider Id\n",
              "0  Order_No_19248  User_Id_3355  ...        36.822390  Rider_Id_192\n",
              "1  Order_No_12736  User_Id_3647  ...        36.823907  Rider_Id_868\n",
              "2    Order_No_768  User_Id_2154  ...        36.851365   Rider_Id_26\n",
              "3  Order_No_15332  User_Id_2910  ...        36.790658  Rider_Id_685\n",
              "4  Order_No_21373  User_Id_1205  ...        36.792161  Rider_Id_858\n",
              "\n",
              "[5 rows x 25 columns]"
            ]
          },
          "metadata": {
            "tags": []
          },
          "execution_count": 336
        }
      ]
    },
    {
      "cell_type": "code",
      "metadata": {
        "id": "7ymdka3lvML1",
        "colab_type": "code",
        "outputId": "f43e908c-88b8-4ea2-ee85-80ea836d7e4f",
        "colab": {
          "base_uri": "https://localhost:8080/",
          "height": 204
        }
      },
      "source": [
        "sample.head()"
      ],
      "execution_count": 337,
      "outputs": [
        {
          "output_type": "execute_result",
          "data": {
            "text/html": [
              "<div>\n",
              "<style scoped>\n",
              "    .dataframe tbody tr th:only-of-type {\n",
              "        vertical-align: middle;\n",
              "    }\n",
              "\n",
              "    .dataframe tbody tr th {\n",
              "        vertical-align: top;\n",
              "    }\n",
              "\n",
              "    .dataframe thead th {\n",
              "        text-align: right;\n",
              "    }\n",
              "</style>\n",
              "<table border=\"1\" class=\"dataframe\">\n",
              "  <thead>\n",
              "    <tr style=\"text-align: right;\">\n",
              "      <th></th>\n",
              "      <th>Order_No</th>\n",
              "      <th>Time from Pickup to Arrival</th>\n",
              "    </tr>\n",
              "  </thead>\n",
              "  <tbody>\n",
              "    <tr>\n",
              "      <th>0</th>\n",
              "      <td>Order_No_19248</td>\n",
              "      <td>567.0</td>\n",
              "    </tr>\n",
              "    <tr>\n",
              "      <th>1</th>\n",
              "      <td>Order_No_12736</td>\n",
              "      <td>4903.0</td>\n",
              "    </tr>\n",
              "    <tr>\n",
              "      <th>2</th>\n",
              "      <td>Order_No_768</td>\n",
              "      <td>5649.0</td>\n",
              "    </tr>\n",
              "    <tr>\n",
              "      <th>3</th>\n",
              "      <td>Order_No_15332</td>\n",
              "      <td>NaN</td>\n",
              "    </tr>\n",
              "    <tr>\n",
              "      <th>4</th>\n",
              "      <td>Order_No_21373</td>\n",
              "      <td>NaN</td>\n",
              "    </tr>\n",
              "  </tbody>\n",
              "</table>\n",
              "</div>"
            ],
            "text/plain": [
              "         Order_No  Time from Pickup to Arrival\n",
              "0  Order_No_19248                        567.0\n",
              "1  Order_No_12736                       4903.0\n",
              "2    Order_No_768                       5649.0\n",
              "3  Order_No_15332                          NaN\n",
              "4  Order_No_21373                          NaN"
            ]
          },
          "metadata": {
            "tags": []
          },
          "execution_count": 337
        }
      ]
    },
    {
      "cell_type": "code",
      "metadata": {
        "id": "Mha610lmFMHc",
        "colab_type": "code",
        "outputId": "dbb6e813-eecd-48e2-f2da-1d3ce34bb95f",
        "colab": {
          "base_uri": "https://localhost:8080/",
          "height": 51
        }
      },
      "source": [
        "print(train.shape)\n",
        "print(test.shape)"
      ],
      "execution_count": 338,
      "outputs": [
        {
          "output_type": "stream",
          "text": [
            "(10858, 29)\n",
            "(7068, 25)\n"
          ],
          "name": "stdout"
        }
      ]
    },
    {
      "cell_type": "code",
      "metadata": {
        "id": "NgeKdum9vYwb",
        "colab_type": "code",
        "outputId": "3781870c-4827-44f9-914f-3ca70824d1b7",
        "colab": {
          "base_uri": "https://localhost:8080/",
          "height": 527
        }
      },
      "source": [
        "train.dtypes"
      ],
      "execution_count": 339,
      "outputs": [
        {
          "output_type": "execute_result",
          "data": {
            "text/plain": [
              "Order No                                      object\n",
              "User Id                                       object\n",
              "Vehicle Type                                  object\n",
              "Platform Type                                  int64\n",
              "Personal or Business                          object\n",
              "Placement - Day of Month                       int64\n",
              "Placement - Weekday (Mo = 1)                   int64\n",
              "Placement - Time                              object\n",
              "Confirmation - Day of Month                    int64\n",
              "Confirmation - Weekday (Mo = 1)                int64\n",
              "Confirmation - Time                           object\n",
              "Arrival at Pickup - Day of Month               int64\n",
              "Arrival at Pickup - Weekday (Mo = 1)           int64\n",
              "Arrival at Pickup - Time                      object\n",
              "Pickup - Day of Month                          int64\n",
              "Pickup - Weekday (Mo = 1)                      int64\n",
              "Pickup - Time                                 object\n",
              "Arrival at Destination - Day of Month          int64\n",
              "Arrival at Destination - Weekday (Mo = 1)      int64\n",
              "Arrival at Destination - Time                 object\n",
              "Distance (KM)                                float64\n",
              "Temperature                                  float64\n",
              "Precipitation in millimeters                 float64\n",
              "Pickup Lat                                   float64\n",
              "Pickup Long                                  float64\n",
              "Destination Lat                              float64\n",
              "Destination Long                             float64\n",
              "Rider Id                                      object\n",
              "Time from Pickup to Arrival                  float64\n",
              "dtype: object"
            ]
          },
          "metadata": {
            "tags": []
          },
          "execution_count": 339
        }
      ]
    },
    {
      "cell_type": "code",
      "metadata": {
        "id": "Ja6uI-7-wcH3",
        "colab_type": "code",
        "outputId": "46f218c9-7acc-4bab-ebc1-56f1110fc053",
        "colab": {
          "base_uri": "https://localhost:8080/",
          "height": 204
        }
      },
      "source": [
        "Riders.head()"
      ],
      "execution_count": 340,
      "outputs": [
        {
          "output_type": "execute_result",
          "data": {
            "text/html": [
              "<div>\n",
              "<style scoped>\n",
              "    .dataframe tbody tr th:only-of-type {\n",
              "        vertical-align: middle;\n",
              "    }\n",
              "\n",
              "    .dataframe tbody tr th {\n",
              "        vertical-align: top;\n",
              "    }\n",
              "\n",
              "    .dataframe thead th {\n",
              "        text-align: right;\n",
              "    }\n",
              "</style>\n",
              "<table border=\"1\" class=\"dataframe\">\n",
              "  <thead>\n",
              "    <tr style=\"text-align: right;\">\n",
              "      <th></th>\n",
              "      <th>Rider Id</th>\n",
              "      <th>No_Of_Orders</th>\n",
              "      <th>Age</th>\n",
              "      <th>Average_Rating</th>\n",
              "      <th>No_of_Ratings</th>\n",
              "    </tr>\n",
              "  </thead>\n",
              "  <tbody>\n",
              "    <tr>\n",
              "      <th>0</th>\n",
              "      <td>Rider_Id_396</td>\n",
              "      <td>2946</td>\n",
              "      <td>2298</td>\n",
              "      <td>14.0</td>\n",
              "      <td>1159</td>\n",
              "    </tr>\n",
              "    <tr>\n",
              "      <th>1</th>\n",
              "      <td>Rider_Id_479</td>\n",
              "      <td>360</td>\n",
              "      <td>951</td>\n",
              "      <td>13.5</td>\n",
              "      <td>176</td>\n",
              "    </tr>\n",
              "    <tr>\n",
              "      <th>2</th>\n",
              "      <td>Rider_Id_648</td>\n",
              "      <td>1746</td>\n",
              "      <td>821</td>\n",
              "      <td>14.3</td>\n",
              "      <td>466</td>\n",
              "    </tr>\n",
              "    <tr>\n",
              "      <th>3</th>\n",
              "      <td>Rider_Id_753</td>\n",
              "      <td>314</td>\n",
              "      <td>980</td>\n",
              "      <td>12.5</td>\n",
              "      <td>75</td>\n",
              "    </tr>\n",
              "    <tr>\n",
              "      <th>4</th>\n",
              "      <td>Rider_Id_335</td>\n",
              "      <td>536</td>\n",
              "      <td>1113</td>\n",
              "      <td>13.7</td>\n",
              "      <td>156</td>\n",
              "    </tr>\n",
              "  </tbody>\n",
              "</table>\n",
              "</div>"
            ],
            "text/plain": [
              "       Rider Id  No_Of_Orders   Age  Average_Rating  No_of_Ratings\n",
              "0  Rider_Id_396          2946  2298            14.0           1159\n",
              "1  Rider_Id_479           360   951            13.5            176\n",
              "2  Rider_Id_648          1746   821            14.3            466\n",
              "3  Rider_Id_753           314   980            12.5             75\n",
              "4  Rider_Id_335           536  1113            13.7            156"
            ]
          },
          "metadata": {
            "tags": []
          },
          "execution_count": 340
        }
      ]
    },
    {
      "cell_type": "code",
      "metadata": {
        "id": "O3X3EFZ0xEte",
        "colab_type": "code",
        "colab": {}
      },
      "source": [
        "Varriable=pd.read_csv('/content/VariableDefinitions.csv')"
      ],
      "execution_count": 0,
      "outputs": []
    },
    {
      "cell_type": "code",
      "metadata": {
        "id": "HXsr9S5yxbzJ",
        "colab_type": "code",
        "outputId": "6f4677b1-68e6-4df1-ecdc-60500e6e23e4",
        "colab": {
          "base_uri": "https://localhost:8080/",
          "height": 204
        }
      },
      "source": [
        "Varriable.head()"
      ],
      "execution_count": 342,
      "outputs": [
        {
          "output_type": "execute_result",
          "data": {
            "text/html": [
              "<div>\n",
              "<style scoped>\n",
              "    .dataframe tbody tr th:only-of-type {\n",
              "        vertical-align: middle;\n",
              "    }\n",
              "\n",
              "    .dataframe tbody tr th {\n",
              "        vertical-align: top;\n",
              "    }\n",
              "\n",
              "    .dataframe thead th {\n",
              "        text-align: right;\n",
              "    }\n",
              "</style>\n",
              "<table border=\"1\" class=\"dataframe\">\n",
              "  <thead>\n",
              "    <tr style=\"text-align: right;\">\n",
              "      <th></th>\n",
              "      <th>Order No</th>\n",
              "      <th>Unique number identifying the order</th>\n",
              "    </tr>\n",
              "  </thead>\n",
              "  <tbody>\n",
              "    <tr>\n",
              "      <th>0</th>\n",
              "      <td>User Id</td>\n",
              "      <td>Unique number identifying the customer on a pl...</td>\n",
              "    </tr>\n",
              "    <tr>\n",
              "      <th>1</th>\n",
              "      <td>Vehicle Type</td>\n",
              "      <td>For this competition limited to bikes, however...</td>\n",
              "    </tr>\n",
              "    <tr>\n",
              "      <th>2</th>\n",
              "      <td>Platform Type</td>\n",
              "      <td>Platform used to place the order, there are 4 ...</td>\n",
              "    </tr>\n",
              "    <tr>\n",
              "      <th>3</th>\n",
              "      <td>Personal or Business</td>\n",
              "      <td>Customer type</td>\n",
              "    </tr>\n",
              "    <tr>\n",
              "      <th>4</th>\n",
              "      <td>Placement - Day of Month</td>\n",
              "      <td>Placement - Day of Month i.e 1-31</td>\n",
              "    </tr>\n",
              "  </tbody>\n",
              "</table>\n",
              "</div>"
            ],
            "text/plain": [
              "                   Order No                Unique number identifying the order\n",
              "0                   User Id  Unique number identifying the customer on a pl...\n",
              "1              Vehicle Type  For this competition limited to bikes, however...\n",
              "2             Platform Type  Platform used to place the order, there are 4 ...\n",
              "3      Personal or Business                                      Customer type\n",
              "4  Placement - Day of Month                  Placement - Day of Month i.e 1-31"
            ]
          },
          "metadata": {
            "tags": []
          },
          "execution_count": 342
        }
      ]
    },
    {
      "cell_type": "code",
      "metadata": {
        "id": "57-FGvQwtJt9",
        "colab_type": "code",
        "outputId": "2cdef682-f1e9-44d0-efa8-7640959e687e",
        "colab": {
          "base_uri": "https://localhost:8080/",
          "height": 595
        }
      },
      "source": [
        "train.info()"
      ],
      "execution_count": 343,
      "outputs": [
        {
          "output_type": "stream",
          "text": [
            "<class 'pandas.core.frame.DataFrame'>\n",
            "RangeIndex: 10858 entries, 0 to 10857\n",
            "Data columns (total 29 columns):\n",
            "Order No                                     10858 non-null object\n",
            "User Id                                      10858 non-null object\n",
            "Vehicle Type                                 10858 non-null object\n",
            "Platform Type                                10858 non-null int64\n",
            "Personal or Business                         10858 non-null object\n",
            "Placement - Day of Month                     10858 non-null int64\n",
            "Placement - Weekday (Mo = 1)                 10858 non-null int64\n",
            "Placement - Time                             10858 non-null object\n",
            "Confirmation - Day of Month                  10858 non-null int64\n",
            "Confirmation - Weekday (Mo = 1)              10858 non-null int64\n",
            "Confirmation - Time                          10858 non-null object\n",
            "Arrival at Pickup - Day of Month             10858 non-null int64\n",
            "Arrival at Pickup - Weekday (Mo = 1)         10858 non-null int64\n",
            "Arrival at Pickup - Time                     10858 non-null object\n",
            "Pickup - Day of Month                        10858 non-null int64\n",
            "Pickup - Weekday (Mo = 1)                    10858 non-null int64\n",
            "Pickup - Time                                10858 non-null object\n",
            "Arrival at Destination - Day of Month        10858 non-null int64\n",
            "Arrival at Destination - Weekday (Mo = 1)    10858 non-null int64\n",
            "Arrival at Destination - Time                10858 non-null object\n",
            "Distance (KM)                                10857 non-null float64\n",
            "Temperature                                  8583 non-null float64\n",
            "Precipitation in millimeters                 280 non-null float64\n",
            "Pickup Lat                                   10857 non-null float64\n",
            "Pickup Long                                  10857 non-null float64\n",
            "Destination Lat                              10857 non-null float64\n",
            "Destination Long                             10857 non-null float64\n",
            "Rider Id                                     10857 non-null object\n",
            "Time from Pickup to Arrival                  10857 non-null float64\n",
            "dtypes: float64(8), int64(11), object(10)\n",
            "memory usage: 2.4+ MB\n"
          ],
          "name": "stdout"
        }
      ]
    },
    {
      "cell_type": "code",
      "metadata": {
        "id": "T1bchcZjuS0t",
        "colab_type": "code",
        "outputId": "373a7dda-dea8-48b5-e7f1-b92249ec011b",
        "colab": {
          "base_uri": "https://localhost:8080/",
          "height": 527
        }
      },
      "source": [
        "train.isnull().sum()"
      ],
      "execution_count": 344,
      "outputs": [
        {
          "output_type": "execute_result",
          "data": {
            "text/plain": [
              "Order No                                         0\n",
              "User Id                                          0\n",
              "Vehicle Type                                     0\n",
              "Platform Type                                    0\n",
              "Personal or Business                             0\n",
              "Placement - Day of Month                         0\n",
              "Placement - Weekday (Mo = 1)                     0\n",
              "Placement - Time                                 0\n",
              "Confirmation - Day of Month                      0\n",
              "Confirmation - Weekday (Mo = 1)                  0\n",
              "Confirmation - Time                              0\n",
              "Arrival at Pickup - Day of Month                 0\n",
              "Arrival at Pickup - Weekday (Mo = 1)             0\n",
              "Arrival at Pickup - Time                         0\n",
              "Pickup - Day of Month                            0\n",
              "Pickup - Weekday (Mo = 1)                        0\n",
              "Pickup - Time                                    0\n",
              "Arrival at Destination - Day of Month            0\n",
              "Arrival at Destination - Weekday (Mo = 1)        0\n",
              "Arrival at Destination - Time                    0\n",
              "Distance (KM)                                    1\n",
              "Temperature                                   2275\n",
              "Precipitation in millimeters                 10578\n",
              "Pickup Lat                                       1\n",
              "Pickup Long                                      1\n",
              "Destination Lat                                  1\n",
              "Destination Long                                 1\n",
              "Rider Id                                         1\n",
              "Time from Pickup to Arrival                      1\n",
              "dtype: int64"
            ]
          },
          "metadata": {
            "tags": []
          },
          "execution_count": 344
        }
      ]
    },
    {
      "cell_type": "code",
      "metadata": {
        "id": "QIpkiOK4uvwH",
        "colab_type": "code",
        "outputId": "6cb37bd4-8449-42ab-fbe8-e9e5a3ed371c",
        "colab": {
          "base_uri": "https://localhost:8080/",
          "height": 459
        }
      },
      "source": [
        "test.isnull().sum()"
      ],
      "execution_count": 345,
      "outputs": [
        {
          "output_type": "execute_result",
          "data": {
            "text/plain": [
              "Order No                                   0\n",
              "User Id                                    0\n",
              "Vehicle Type                               0\n",
              "Platform Type                              0\n",
              "Personal or Business                       0\n",
              "Placement - Day of Month                   0\n",
              "Placement - Weekday (Mo = 1)               0\n",
              "Placement - Time                           0\n",
              "Confirmation - Day of Month                0\n",
              "Confirmation - Weekday (Mo = 1)            0\n",
              "Confirmation - Time                        0\n",
              "Arrival at Pickup - Day of Month           0\n",
              "Arrival at Pickup - Weekday (Mo = 1)       0\n",
              "Arrival at Pickup - Time                   0\n",
              "Pickup - Day of Month                      0\n",
              "Pickup - Weekday (Mo = 1)                  0\n",
              "Pickup - Time                              0\n",
              "Distance (KM)                              0\n",
              "Temperature                             1437\n",
              "Precipitation in millimeters            6869\n",
              "Pickup Lat                                 0\n",
              "Pickup Long                                0\n",
              "Destination Lat                            0\n",
              "Destination Long                           0\n",
              "Rider Id                                   0\n",
              "dtype: int64"
            ]
          },
          "metadata": {
            "tags": []
          },
          "execution_count": 345
        }
      ]
    },
    {
      "cell_type": "code",
      "metadata": {
        "id": "BsPHnAvru0RX",
        "colab_type": "code",
        "outputId": "4f7b87ae-1d6e-47cf-9a40-00696257b38f",
        "colab": {
          "base_uri": "https://localhost:8080/",
          "height": 306
        }
      },
      "source": [
        "#checking the values in the temperature feature\n",
        "train['Temperature'].unique()"
      ],
      "execution_count": 346,
      "outputs": [
        {
          "output_type": "execute_result",
          "data": {
            "text/plain": [
              "array([20.4, 26.4,  nan, 19.2, 15.4, 27.2, 20.3, 28.7, 24.6, 16.4, 26.1,\n",
              "       20.9, 24.4, 19.4, 20.8, 23.3, 18.1, 22.5, 26.5, 27.3, 25.6, 20.5,\n",
              "       18.8, 16.1, 25.3, 22.3, 26.3, 29.2, 20. , 18. , 21.6, 24.8, 23. ,\n",
              "       28.1, 14.7, 25. , 26.7, 17.6, 22.7, 23.9, 24.7, 28.2, 19.1, 20.1,\n",
              "       17.7, 17.3, 21.9, 24.5, 26.9, 18.4, 22. , 25.7, 23.7, 25.8, 16.2,\n",
              "       31. , 26.2, 28.6, 19.3, 25.2, 24. , 25.5, 23.6, 30.1, 22.8, 27.7,\n",
              "       21.3, 19.7, 14.5, 30.8, 23.8, 21.7, 24.2, 25.9, 21.2, 18.9, 17.9,\n",
              "       18.7, 25.4, 22.9, 27.8, 22.6, 18.6, 26. , 21.1, 24.9, 18.5, 15.3,\n",
              "       27.5, 22.4, 29.6, 19.9, 27.6, 19.8, 20.6, 16.8, 27.4, 24.1, 22.1,\n",
              "       23.1, 27. , 29.8, 19.6, 21.8, 25.1, 16.9, 30. , 23.5, 23.2, 26.6,\n",
              "       28.5, 17.8, 30.5, 15.1, 21. , 16. , 26.8, 24.3, 18.3, 27.1, 20.7,\n",
              "       18.2, 23.4, 14.8, 15.8, 28.4, 21.4, 17.5, 29. , 19.5, 27.9, 22.2,\n",
              "       28. , 20.2, 29.1, 17.1, 29.9, 15.6, 31.8, 28.3, 30.7, 17.2, 29.7,\n",
              "       16.7, 19. , 29.3, 30.6, 29.4, 21.5, 16.6, 28.9, 15. , 13.9, 17.4,\n",
              "       15.2, 30.3, 29.5, 14.4, 13.8, 30.9, 13.4, 28.8, 16.5, 13.3, 15.5,\n",
              "       31.2, 17. , 16.3, 31.1, 30.4, 30.2, 14. , 14.2, 15.7, 13.5, 14.3,\n",
              "       31.9, 31.3, 15.9, 13.6, 14.9, 32.1, 14.6, 13.7, 13.2, 31.7])"
            ]
          },
          "metadata": {
            "tags": []
          },
          "execution_count": 346
        }
      ]
    },
    {
      "cell_type": "code",
      "metadata": {
        "id": "xq0NhSyTwsT7",
        "colab_type": "code",
        "colab": {}
      },
      "source": [
        "#trying to remove the null values\n",
        "train['Temperature'].fillna(train['Temperature'].mean(),inplace=True)\n",
        "test['Temperature'].fillna(test['Temperature'].mean(),inplace=True)\n"
      ],
      "execution_count": 0,
      "outputs": []
    },
    {
      "cell_type": "code",
      "metadata": {
        "id": "2Qsso4WYyjWH",
        "colab_type": "code",
        "colab": {}
      },
      "source": [
        "#trying to remove the null values\n",
        "train['Precipitation in millimeters'].fillna(train['Precipitation in millimeters'].mean(),inplace=True)\n",
        "test['Precipitation in millimeters'].fillna(test['Precipitation in millimeters'].mean(),inplace=True)"
      ],
      "execution_count": 0,
      "outputs": []
    },
    {
      "cell_type": "code",
      "metadata": {
        "id": "XgwxnczyzwFl",
        "colab_type": "code",
        "outputId": "175c90a1-a51d-41b3-fdc2-2e8ea9dbee4c",
        "colab": {
          "base_uri": "https://localhost:8080/",
          "height": 51
        }
      },
      "source": [
        "print(\"Null values left in the train set:\", train.isnull().sum().sum())\n",
        "print(\"Null values left in the test set:\", test.isnull().sum().sum())"
      ],
      "execution_count": 349,
      "outputs": [
        {
          "output_type": "stream",
          "text": [
            "Null values left in the train set: 7\n",
            "Null values left in the test set: 0\n"
          ],
          "name": "stdout"
        }
      ]
    },
    {
      "cell_type": "code",
      "metadata": {
        "id": "J2Wp8MiAz75y",
        "colab_type": "code",
        "colab": {}
      },
      "source": [
        "#removing the order Id column  and predictor column\n",
        "order_id=test['Order No']\n",
        "y_train=train.iloc[:,-1]"
      ],
      "execution_count": 0,
      "outputs": []
    },
    {
      "cell_type": "code",
      "metadata": {
        "id": "gfn6BGkWgs16",
        "colab_type": "code",
        "outputId": "aae6d940-6dea-43dc-c3ad-c8a7952c71ce",
        "colab": {
          "base_uri": "https://localhost:8080/",
          "height": 255
        }
      },
      "source": [
        "train.columns"
      ],
      "execution_count": 351,
      "outputs": [
        {
          "output_type": "execute_result",
          "data": {
            "text/plain": [
              "Index(['Order No', 'User Id', 'Vehicle Type', 'Platform Type',\n",
              "       'Personal or Business', 'Placement - Day of Month',\n",
              "       'Placement - Weekday (Mo = 1)', 'Placement - Time',\n",
              "       'Confirmation - Day of Month', 'Confirmation - Weekday (Mo = 1)',\n",
              "       'Confirmation - Time', 'Arrival at Pickup - Day of Month',\n",
              "       'Arrival at Pickup - Weekday (Mo = 1)', 'Arrival at Pickup - Time',\n",
              "       'Pickup - Day of Month', 'Pickup - Weekday (Mo = 1)', 'Pickup - Time',\n",
              "       'Arrival at Destination - Day of Month',\n",
              "       'Arrival at Destination - Weekday (Mo = 1)',\n",
              "       'Arrival at Destination - Time', 'Distance (KM)', 'Temperature',\n",
              "       'Precipitation in millimeters', 'Pickup Lat', 'Pickup Long',\n",
              "       'Destination Lat', 'Destination Long', 'Rider Id',\n",
              "       'Time from Pickup to Arrival'],\n",
              "      dtype='object')"
            ]
          },
          "metadata": {
            "tags": []
          },
          "execution_count": 351
        }
      ]
    },
    {
      "cell_type": "code",
      "metadata": {
        "id": "wc4FdLTth_ev",
        "colab_type": "code",
        "outputId": "679e2cba-822e-4492-f15e-cf7ece66068a",
        "colab": {
          "base_uri": "https://localhost:8080/",
          "height": 204
        }
      },
      "source": [
        "test.columns"
      ],
      "execution_count": 352,
      "outputs": [
        {
          "output_type": "execute_result",
          "data": {
            "text/plain": [
              "Index(['Order No', 'User Id', 'Vehicle Type', 'Platform Type',\n",
              "       'Personal or Business', 'Placement - Day of Month',\n",
              "       'Placement - Weekday (Mo = 1)', 'Placement - Time',\n",
              "       'Confirmation - Day of Month', 'Confirmation - Weekday (Mo = 1)',\n",
              "       'Confirmation - Time', 'Arrival at Pickup - Day of Month',\n",
              "       'Arrival at Pickup - Weekday (Mo = 1)', 'Arrival at Pickup - Time',\n",
              "       'Pickup - Day of Month', 'Pickup - Weekday (Mo = 1)', 'Pickup - Time',\n",
              "       'Distance (KM)', 'Temperature', 'Precipitation in millimeters',\n",
              "       'Pickup Lat', 'Pickup Long', 'Destination Lat', 'Destination Long',\n",
              "       'Rider Id'],\n",
              "      dtype='object')"
            ]
          },
          "metadata": {
            "tags": []
          },
          "execution_count": 352
        }
      ]
    },
    {
      "cell_type": "code",
      "metadata": {
        "id": "Hs0VgtaD-GLL",
        "colab_type": "code",
        "colab": {}
      },
      "source": [
        "# let's delete the last column from the dataset to  concat train and test\n",
        "train = train.drop(['Order No','Time from Pickup to Arrival','User Id','Confirmation - Day of Month',\n",
        "              'Confirmation - Weekday (Mo = 1)','Arrival at Pickup - Day of Month',\n",
        "              'Arrival at Pickup - Weekday (Mo = 1)',\n",
        "              'Pickup - Day of Month',\n",
        "              'Pickup - Weekday (Mo = 1)',\n",
        "              'Arrival at Destination - Day of Month',\n",
        "              'Arrival at Destination - Weekday (Mo = 1)',\n",
        "              'Arrival at Destination - Time','Vehicle Type'], axis = 1)"
      ],
      "execution_count": 0,
      "outputs": []
    },
    {
      "cell_type": "code",
      "metadata": {
        "id": "LpnQ_Fixh2tG",
        "colab_type": "code",
        "colab": {}
      },
      "source": [
        "test = test.drop(['User Id','Confirmation - Day of Month',\n",
        "              'Confirmation - Weekday (Mo = 1)','Arrival at Pickup - Day of Month',\n",
        "              'Arrival at Pickup - Weekday (Mo = 1)',\n",
        "              'Pickup - Day of Month',\n",
        "              'Pickup - Weekday (Mo = 1)',\n",
        "              'Order No','Vehicle Type'\n",
        "              ], axis = 1)"
      ],
      "execution_count": 0,
      "outputs": []
    },
    {
      "cell_type": "code",
      "metadata": {
        "id": "pgt_KLTIExay",
        "colab_type": "code",
        "outputId": "15e77c5d-5a91-4d35-bef2-2b8096d8f377",
        "colab": {
          "base_uri": "https://localhost:8080/",
          "height": 51
        }
      },
      "source": [
        "print(train.shape)\n",
        "print(test.shape)"
      ],
      "execution_count": 355,
      "outputs": [
        {
          "output_type": "stream",
          "text": [
            "(10858, 16)\n",
            "(7068, 16)\n"
          ],
          "name": "stdout"
        }
      ]
    },
    {
      "cell_type": "code",
      "metadata": {
        "id": "8lYNmY5UkViA",
        "colab_type": "code",
        "outputId": "8aa0a704-8fa8-435c-f491-0ec680f87a78",
        "colab": {
          "base_uri": "https://localhost:8080/",
          "height": 374
        }
      },
      "source": [
        "train.info()"
      ],
      "execution_count": 356,
      "outputs": [
        {
          "output_type": "stream",
          "text": [
            "<class 'pandas.core.frame.DataFrame'>\n",
            "RangeIndex: 10858 entries, 0 to 10857\n",
            "Data columns (total 16 columns):\n",
            "Platform Type                   10858 non-null int64\n",
            "Personal or Business            10858 non-null object\n",
            "Placement - Day of Month        10858 non-null int64\n",
            "Placement - Weekday (Mo = 1)    10858 non-null int64\n",
            "Placement - Time                10858 non-null object\n",
            "Confirmation - Time             10858 non-null object\n",
            "Arrival at Pickup - Time        10858 non-null object\n",
            "Pickup - Time                   10858 non-null object\n",
            "Distance (KM)                   10857 non-null float64\n",
            "Temperature                     10858 non-null float64\n",
            "Precipitation in millimeters    10858 non-null float64\n",
            "Pickup Lat                      10857 non-null float64\n",
            "Pickup Long                     10857 non-null float64\n",
            "Destination Lat                 10857 non-null float64\n",
            "Destination Long                10857 non-null float64\n",
            "Rider Id                        10857 non-null object\n",
            "dtypes: float64(7), int64(3), object(6)\n",
            "memory usage: 1.3+ MB\n"
          ],
          "name": "stdout"
        }
      ]
    },
    {
      "cell_type": "code",
      "metadata": {
        "id": "tjk8hHY7knqY",
        "colab_type": "code",
        "outputId": "df768b3e-a39f-4b3c-e0f2-fcde771ae721",
        "colab": {
          "base_uri": "https://localhost:8080/",
          "height": 374
        }
      },
      "source": [
        "test.info()"
      ],
      "execution_count": 357,
      "outputs": [
        {
          "output_type": "stream",
          "text": [
            "<class 'pandas.core.frame.DataFrame'>\n",
            "RangeIndex: 7068 entries, 0 to 7067\n",
            "Data columns (total 16 columns):\n",
            "Platform Type                   7068 non-null int64\n",
            "Personal or Business            7068 non-null object\n",
            "Placement - Day of Month        7068 non-null int64\n",
            "Placement - Weekday (Mo = 1)    7068 non-null int64\n",
            "Placement - Time                7068 non-null object\n",
            "Confirmation - Time             7068 non-null object\n",
            "Arrival at Pickup - Time        7068 non-null object\n",
            "Pickup - Time                   7068 non-null object\n",
            "Distance (KM)                   7068 non-null int64\n",
            "Temperature                     7068 non-null float64\n",
            "Precipitation in millimeters    7068 non-null float64\n",
            "Pickup Lat                      7068 non-null float64\n",
            "Pickup Long                     7068 non-null float64\n",
            "Destination Lat                 7068 non-null float64\n",
            "Destination Long                7068 non-null float64\n",
            "Rider Id                        7068 non-null object\n",
            "dtypes: float64(6), int64(4), object(6)\n",
            "memory usage: 883.6+ KB\n"
          ],
          "name": "stdout"
        }
      ]
    },
    {
      "cell_type": "code",
      "metadata": {
        "id": "s7i6x_TBnHV2",
        "colab_type": "code",
        "colab": {}
      },
      "source": [
        "#adding other columns based on riders metrics\n",
        "train=pd.merge(train,Riders,how='left',left_on='Rider Id',right_on='Rider Id')\n",
        "#adding other columns based on riders metrics to test\n",
        "test=pd.merge(test,Riders,how='left',left_on='Rider Id',right_on='Rider Id')"
      ],
      "execution_count": 0,
      "outputs": []
    },
    {
      "cell_type": "code",
      "metadata": {
        "id": "7cDgC0g5uklK",
        "colab_type": "code",
        "outputId": "291cd011-e254-4f28-9e64-d3df3b767ee0",
        "colab": {
          "base_uri": "https://localhost:8080/",
          "height": 442
        }
      },
      "source": [
        "train.info()"
      ],
      "execution_count": 359,
      "outputs": [
        {
          "output_type": "stream",
          "text": [
            "<class 'pandas.core.frame.DataFrame'>\n",
            "Int64Index: 10858 entries, 0 to 10857\n",
            "Data columns (total 20 columns):\n",
            "Platform Type                   10858 non-null int64\n",
            "Personal or Business            10858 non-null object\n",
            "Placement - Day of Month        10858 non-null int64\n",
            "Placement - Weekday (Mo = 1)    10858 non-null int64\n",
            "Placement - Time                10858 non-null object\n",
            "Confirmation - Time             10858 non-null object\n",
            "Arrival at Pickup - Time        10858 non-null object\n",
            "Pickup - Time                   10858 non-null object\n",
            "Distance (KM)                   10857 non-null float64\n",
            "Temperature                     10858 non-null float64\n",
            "Precipitation in millimeters    10858 non-null float64\n",
            "Pickup Lat                      10857 non-null float64\n",
            "Pickup Long                     10857 non-null float64\n",
            "Destination Lat                 10857 non-null float64\n",
            "Destination Long                10857 non-null float64\n",
            "Rider Id                        10857 non-null object\n",
            "No_Of_Orders                    10857 non-null float64\n",
            "Age                             10857 non-null float64\n",
            "Average_Rating                  10857 non-null float64\n",
            "No_of_Ratings                   10857 non-null float64\n",
            "dtypes: float64(11), int64(3), object(6)\n",
            "memory usage: 1.7+ MB\n"
          ],
          "name": "stdout"
        }
      ]
    },
    {
      "cell_type": "code",
      "metadata": {
        "id": "_pXhIJJZvGD5",
        "colab_type": "code",
        "colab": {}
      },
      "source": [
        "# i need to add the new others to the no_of_orders column,the new age,Average rating,no_of_ratings"
      ],
      "execution_count": 0,
      "outputs": []
    },
    {
      "cell_type": "code",
      "metadata": {
        "id": "K8vSQGX4M07n",
        "colab_type": "code",
        "colab": {}
      },
      "source": [
        "#remove rider_id\n",
        "train=train.drop(['Rider Id'],axis=1)\n",
        "test=test.drop(['Rider Id'],axis=1)"
      ],
      "execution_count": 0,
      "outputs": []
    },
    {
      "cell_type": "code",
      "metadata": {
        "id": "F6zKyG2-N1eA",
        "colab_type": "code",
        "outputId": "20b58495-abaf-4b4f-bc8f-22dd803bdaa8",
        "colab": {
          "base_uri": "https://localhost:8080/",
          "height": 119
        }
      },
      "source": [
        "#extracting Object datatype\n",
        "train.select_dtypes(include=['object']).dtypes"
      ],
      "execution_count": 362,
      "outputs": [
        {
          "output_type": "execute_result",
          "data": {
            "text/plain": [
              "Personal or Business        object\n",
              "Placement - Time            object\n",
              "Confirmation - Time         object\n",
              "Arrival at Pickup - Time    object\n",
              "Pickup - Time               object\n",
              "dtype: object"
            ]
          },
          "metadata": {
            "tags": []
          },
          "execution_count": 362
        }
      ]
    },
    {
      "cell_type": "code",
      "metadata": {
        "id": "WElvWis7OZoV",
        "colab_type": "code",
        "outputId": "0b57f107-b838-45cd-d694-ad798f1a63d1",
        "colab": {
          "base_uri": "https://localhost:8080/",
          "height": 68
        }
      },
      "source": [
        "train['Personal or Business'].value_counts()"
      ],
      "execution_count": 363,
      "outputs": [
        {
          "output_type": "execute_result",
          "data": {
            "text/plain": [
              "Business    8907\n",
              "Personal    1951\n",
              "Name: Personal or Business, dtype: int64"
            ]
          },
          "metadata": {
            "tags": []
          },
          "execution_count": 363
        }
      ]
    },
    {
      "cell_type": "code",
      "metadata": {
        "id": "w8c3yFPLv-5J",
        "colab_type": "code",
        "colab": {}
      },
      "source": [
        "train['Placement - Time']=pd.to_datetime(train['Placement - Time'],format='%I:%M:%S %p')\n",
        "train['Confirmation - Time']=pd.to_datetime(train['Confirmation - Time'],format='%I:%M:%S %p')\n",
        "train['Arrival at Pickup - Time']=pd.to_datetime(train['Arrival at Pickup - Time'],format='%I:%M:%S %p')\n",
        "train['Pickup - Time']=pd.to_datetime(train['Pickup - Time'],format='%I:%M:%S %p')\n",
        "\n",
        "test['Placement - Time']=pd.to_datetime(test['Placement - Time'],format='%I:%M:%S %p')\n",
        "test['Confirmation - Time']=pd.to_datetime(test['Confirmation - Time'],format='%I:%M:%S %p')\n",
        "test['Arrival at Pickup - Time']=pd.to_datetime(test['Arrival at Pickup - Time'],format='%I:%M:%S %p')\n",
        "test['Pickup - Time']=pd.to_datetime(test['Pickup - Time'],format='%I:%M:%S %p')\n"
      ],
      "execution_count": 0,
      "outputs": []
    },
    {
      "cell_type": "code",
      "metadata": {
        "id": "D702TbJERVtT",
        "colab_type": "code",
        "colab": {}
      },
      "source": [
        "import numpy as np\n",
        "import datetime\n",
        "from dateutil.relativedelta import relativedelta\n",
        "from datetime import date\n",
        "def Time_Diff(time1,time2):\n",
        "  return np.timedelta64((time2-time1),'s')/np.timedelta64(1,'s')\n"
      ],
      "execution_count": 0,
      "outputs": []
    },
    {
      "cell_type": "code",
      "metadata": {
        "id": "YnwKRSOdWTk8",
        "colab_type": "code",
        "colab": {}
      },
      "source": [
        "#time difference between placement and confirmation\n",
        "train['P_C_time_diff']=train.apply(lambda x :Time_Diff(x['Placement - Time'],x['Confirmation - Time']),axis=1)\n",
        "#time difference between placement and arrival at pick up\n",
        "train['P_A_time_diff']=train.apply(lambda x:Time_Diff(x['Placement - Time'],x['Arrival at Pickup - Time']),axis=1)\n",
        "#time difference between placement and  pick up\n",
        "train['P_P_time_diff']=train.apply(lambda x:Time_Diff(x['Placement - Time'],x['Pickup - Time']),axis=1)\n",
        "#time difference between confirmation and arrival at pick up\n",
        "train['C_A_time_diff']=train.apply(lambda x:Time_Diff(x['Confirmation - Time'],x['Arrival at Pickup - Time']),axis=1)\n",
        "#time difference between confirmation and  pick up\n",
        "train['C_P_time_diff']=train.apply(lambda x:Time_Diff(x['Confirmation - Time'],x['Pickup - Time']),axis=1)\n",
        "#time difference between  arrival at pick up and pick up\n",
        "train['A_P_time_diff']=train.apply(lambda x:Time_Diff(x['Arrival at Pickup - Time'],x['Pickup - Time']),axis=1)"
      ],
      "execution_count": 0,
      "outputs": []
    },
    {
      "cell_type": "code",
      "metadata": {
        "id": "xubkGvPoXr3v",
        "colab_type": "code",
        "outputId": "b47f12fc-a035-4de7-ecc4-4fd5c5d48200",
        "colab": {
          "base_uri": "https://localhost:8080/",
          "height": 445
        }
      },
      "source": [
        "train.head()"
      ],
      "execution_count": 367,
      "outputs": [
        {
          "output_type": "execute_result",
          "data": {
            "text/html": [
              "<div>\n",
              "<style scoped>\n",
              "    .dataframe tbody tr th:only-of-type {\n",
              "        vertical-align: middle;\n",
              "    }\n",
              "\n",
              "    .dataframe tbody tr th {\n",
              "        vertical-align: top;\n",
              "    }\n",
              "\n",
              "    .dataframe thead th {\n",
              "        text-align: right;\n",
              "    }\n",
              "</style>\n",
              "<table border=\"1\" class=\"dataframe\">\n",
              "  <thead>\n",
              "    <tr style=\"text-align: right;\">\n",
              "      <th></th>\n",
              "      <th>Platform Type</th>\n",
              "      <th>Personal or Business</th>\n",
              "      <th>Placement - Day of Month</th>\n",
              "      <th>Placement - Weekday (Mo = 1)</th>\n",
              "      <th>Placement - Time</th>\n",
              "      <th>Confirmation - Time</th>\n",
              "      <th>Arrival at Pickup - Time</th>\n",
              "      <th>Pickup - Time</th>\n",
              "      <th>Distance (KM)</th>\n",
              "      <th>Temperature</th>\n",
              "      <th>Precipitation in millimeters</th>\n",
              "      <th>Pickup Lat</th>\n",
              "      <th>Pickup Long</th>\n",
              "      <th>Destination Lat</th>\n",
              "      <th>Destination Long</th>\n",
              "      <th>No_Of_Orders</th>\n",
              "      <th>Age</th>\n",
              "      <th>Average_Rating</th>\n",
              "      <th>No_of_Ratings</th>\n",
              "      <th>P_C_time_diff</th>\n",
              "      <th>P_A_time_diff</th>\n",
              "      <th>P_P_time_diff</th>\n",
              "      <th>C_A_time_diff</th>\n",
              "      <th>C_P_time_diff</th>\n",
              "      <th>A_P_time_diff</th>\n",
              "    </tr>\n",
              "  </thead>\n",
              "  <tbody>\n",
              "    <tr>\n",
              "      <th>0</th>\n",
              "      <td>3</td>\n",
              "      <td>Business</td>\n",
              "      <td>9</td>\n",
              "      <td>5</td>\n",
              "      <td>1900-01-01 09:35:46</td>\n",
              "      <td>1900-01-01 09:40:10</td>\n",
              "      <td>1900-01-01 10:04:47</td>\n",
              "      <td>1900-01-01 10:27:30</td>\n",
              "      <td>4.0</td>\n",
              "      <td>20.400000</td>\n",
              "      <td>7.617857</td>\n",
              "      <td>-1.317755</td>\n",
              "      <td>36.830370</td>\n",
              "      <td>-1.300406</td>\n",
              "      <td>36.829741</td>\n",
              "      <td>1637.0</td>\n",
              "      <td>1309.0</td>\n",
              "      <td>13.8</td>\n",
              "      <td>549.0</td>\n",
              "      <td>264.0</td>\n",
              "      <td>1741.0</td>\n",
              "      <td>3104.0</td>\n",
              "      <td>1477.0</td>\n",
              "      <td>2840.0</td>\n",
              "      <td>1363.0</td>\n",
              "    </tr>\n",
              "    <tr>\n",
              "      <th>1</th>\n",
              "      <td>3</td>\n",
              "      <td>Personal</td>\n",
              "      <td>12</td>\n",
              "      <td>5</td>\n",
              "      <td>1900-01-01 11:16:16</td>\n",
              "      <td>1900-01-01 11:23:21</td>\n",
              "      <td>1900-01-01 11:40:22</td>\n",
              "      <td>1900-01-01 11:44:09</td>\n",
              "      <td>16.0</td>\n",
              "      <td>26.400000</td>\n",
              "      <td>7.617857</td>\n",
              "      <td>-1.351453</td>\n",
              "      <td>36.899315</td>\n",
              "      <td>-1.295004</td>\n",
              "      <td>36.814358</td>\n",
              "      <td>396.0</td>\n",
              "      <td>339.0</td>\n",
              "      <td>13.6</td>\n",
              "      <td>69.0</td>\n",
              "      <td>425.0</td>\n",
              "      <td>1446.0</td>\n",
              "      <td>1673.0</td>\n",
              "      <td>1021.0</td>\n",
              "      <td>1248.0</td>\n",
              "      <td>227.0</td>\n",
              "    </tr>\n",
              "    <tr>\n",
              "      <th>2</th>\n",
              "      <td>3</td>\n",
              "      <td>Business</td>\n",
              "      <td>30</td>\n",
              "      <td>2</td>\n",
              "      <td>1900-01-01 12:39:25</td>\n",
              "      <td>1900-01-01 12:42:44</td>\n",
              "      <td>1900-01-01 12:49:34</td>\n",
              "      <td>1900-01-01 12:53:03</td>\n",
              "      <td>3.0</td>\n",
              "      <td>23.286916</td>\n",
              "      <td>7.617857</td>\n",
              "      <td>-1.308284</td>\n",
              "      <td>36.843419</td>\n",
              "      <td>-1.300921</td>\n",
              "      <td>36.828195</td>\n",
              "      <td>1023.0</td>\n",
              "      <td>242.0</td>\n",
              "      <td>12.5</td>\n",
              "      <td>114.0</td>\n",
              "      <td>199.0</td>\n",
              "      <td>609.0</td>\n",
              "      <td>818.0</td>\n",
              "      <td>410.0</td>\n",
              "      <td>619.0</td>\n",
              "      <td>209.0</td>\n",
              "    </tr>\n",
              "    <tr>\n",
              "      <th>3</th>\n",
              "      <td>3</td>\n",
              "      <td>Business</td>\n",
              "      <td>15</td>\n",
              "      <td>5</td>\n",
              "      <td>1900-01-01 09:25:34</td>\n",
              "      <td>1900-01-01 09:26:05</td>\n",
              "      <td>1900-01-01 09:37:56</td>\n",
              "      <td>1900-01-01 09:43:06</td>\n",
              "      <td>9.0</td>\n",
              "      <td>19.200000</td>\n",
              "      <td>7.617857</td>\n",
              "      <td>-1.281301</td>\n",
              "      <td>36.832396</td>\n",
              "      <td>-1.257147</td>\n",
              "      <td>36.795063</td>\n",
              "      <td>886.0</td>\n",
              "      <td>283.0</td>\n",
              "      <td>14.5</td>\n",
              "      <td>113.0</td>\n",
              "      <td>31.0</td>\n",
              "      <td>742.0</td>\n",
              "      <td>1052.0</td>\n",
              "      <td>711.0</td>\n",
              "      <td>1021.0</td>\n",
              "      <td>310.0</td>\n",
              "    </tr>\n",
              "    <tr>\n",
              "      <th>4</th>\n",
              "      <td>1</td>\n",
              "      <td>Personal</td>\n",
              "      <td>13</td>\n",
              "      <td>1</td>\n",
              "      <td>1900-01-01 09:55:18</td>\n",
              "      <td>1900-01-01 09:56:18</td>\n",
              "      <td>1900-01-01 10:03:53</td>\n",
              "      <td>1900-01-01 10:05:23</td>\n",
              "      <td>9.0</td>\n",
              "      <td>15.400000</td>\n",
              "      <td>7.617857</td>\n",
              "      <td>-1.266597</td>\n",
              "      <td>36.792118</td>\n",
              "      <td>-1.295041</td>\n",
              "      <td>36.809817</td>\n",
              "      <td>2311.0</td>\n",
              "      <td>872.0</td>\n",
              "      <td>14.1</td>\n",
              "      <td>533.0</td>\n",
              "      <td>60.0</td>\n",
              "      <td>515.0</td>\n",
              "      <td>605.0</td>\n",
              "      <td>455.0</td>\n",
              "      <td>545.0</td>\n",
              "      <td>90.0</td>\n",
              "    </tr>\n",
              "  </tbody>\n",
              "</table>\n",
              "</div>"
            ],
            "text/plain": [
              "   Platform Type Personal or Business  ...  C_P_time_diff  A_P_time_diff\n",
              "0              3             Business  ...         2840.0         1363.0\n",
              "1              3             Personal  ...         1248.0          227.0\n",
              "2              3             Business  ...          619.0          209.0\n",
              "3              3             Business  ...         1021.0          310.0\n",
              "4              1             Personal  ...          545.0           90.0\n",
              "\n",
              "[5 rows x 25 columns]"
            ]
          },
          "metadata": {
            "tags": []
          },
          "execution_count": 367
        }
      ]
    },
    {
      "cell_type": "code",
      "metadata": {
        "id": "tOvDDP8zSjg1",
        "colab_type": "code",
        "colab": {}
      },
      "source": [
        "train=train.drop(['Placement - Time','Confirmation - Time','Arrival at Pickup - Time','Pickup - Time'],axis=1)\n",
        "test=test.drop(['Placement - Time','Confirmation - Time','Arrival at Pickup - Time','Pickup - Time'],axis=1)"
      ],
      "execution_count": 0,
      "outputs": []
    },
    {
      "cell_type": "code",
      "metadata": {
        "id": "4tagTBwLTdY1",
        "colab_type": "code",
        "outputId": "f583f037-75be-4c8b-851e-5dfe1eb32cbc",
        "colab": {
          "base_uri": "https://localhost:8080/",
          "height": 51
        }
      },
      "source": [
        "#extracting Object datatype\n",
        "train.select_dtypes(include=['object']).dtypes"
      ],
      "execution_count": 369,
      "outputs": [
        {
          "output_type": "execute_result",
          "data": {
            "text/plain": [
              "Personal or Business    object\n",
              "dtype: object"
            ]
          },
          "metadata": {
            "tags": []
          },
          "execution_count": 369
        }
      ]
    },
    {
      "cell_type": "code",
      "metadata": {
        "id": "fnN2ff18lGfR",
        "colab_type": "code",
        "colab": {}
      },
      "source": [
        "#LabelEncoder\n",
        "from sklearn.preprocessing import LabelEncoder\n",
        "le = LabelEncoder()\n",
        "\n",
        "train['Personal or Business'] = le.fit_transform(train['Personal or Business'])\n",
        "test['Personal or Business'] = le.fit_transform(test['Personal or Business'])\n",
        "train.drop(['Personal or Business'],axis=1,inplace=True)\n",
        "\n",
        "test.drop(['Personal or Business'],axis=1,inplace=True)"
      ],
      "execution_count": 0,
      "outputs": []
    },
    {
      "cell_type": "code",
      "metadata": {
        "id": "UIexK9yioCp6",
        "colab_type": "code",
        "colab": {}
      },
      "source": [
        "# applying standard scaling\n",
        "\n",
        "#from sklearn.preprocessing import StandardScaler\n",
        "\n",
        "#sc = StandardScaler()\n",
        "#train = sc.fit_transform(train)\n",
        "#test = sc.fit_transform(test)"
      ],
      "execution_count": 0,
      "outputs": []
    },
    {
      "cell_type": "code",
      "metadata": {
        "id": "OIY5IWsRp8GA",
        "colab_type": "code",
        "colab": {}
      },
      "source": [
        "#x_valid = sc.transform(x_valid)\n",
        "#x_test = sc.transform(x_test)"
      ],
      "execution_count": 0,
      "outputs": []
    },
    {
      "cell_type": "code",
      "metadata": {
        "id": "I_qsfiWRalAR",
        "colab_type": "code",
        "colab": {}
      },
      "source": [
        "# getting the numerical features\n",
        "#numerical_features = train.dtypes[train.dtypes != 'object'].index"
      ],
      "execution_count": 0,
      "outputs": []
    },
    {
      "cell_type": "code",
      "metadata": {
        "id": "Rvdl4znRatys",
        "colab_type": "code",
        "colab": {}
      },
      "source": [
        "#numerical_features"
      ],
      "execution_count": 0,
      "outputs": []
    },
    {
      "cell_type": "code",
      "metadata": {
        "id": "8iEzr1SFrRuq",
        "colab_type": "code",
        "colab": {}
      },
      "source": [
        "\n",
        "#from scipy.stats import skew\n",
        "\n",
        "# extracting the skewed features\n",
        "#skewed_features = train[numerical_features].apply(lambda x: skew(x.dropna())).sort_values(ascending = False)\n"
      ],
      "execution_count": 0,
      "outputs": []
    },
    {
      "cell_type": "code",
      "metadata": {
        "id": "IjROb5EjriW-",
        "colab_type": "code",
        "colab": {}
      },
      "source": [
        "# converting the feautures into a dataframe\n",
        "#skewness = pd.DataFrame({'skew': skewed_features})\n",
        "\n",
        "# let's check the skewess in the data\n",
        "#skewness.head(30)"
      ],
      "execution_count": 0,
      "outputs": []
    },
    {
      "cell_type": "code",
      "metadata": {
        "id": "ZDNwJiJFrxqT",
        "colab_type": "code",
        "colab": {}
      },
      "source": [
        "# applying box-cox transformations\n",
        "\n",
        "# importing box-cox\n",
        "#from scipy.special import boxcox1p\n",
        "#skewness = skewness[abs(skewness > 0.8)]\n",
        "#print(\"There are {} skewed features to box-cox transform\".format(skewness.shape[0]))\n",
        "\n",
        "\n",
        "#skewed_features = skewness.index\n",
        "\n",
        "#lam = 0.15\n",
        "#for feat in skewed_features:\n",
        "#    train[feat] += 1\n",
        "#    train[feat] = boxcox1p(train[feat], lam)\n",
        "  \n",
        "#train[skewed_features] = np.log1p(train[skewed_features])"
      ],
      "execution_count": 0,
      "outputs": []
    },
    {
      "cell_type": "code",
      "metadata": {
        "id": "4p84hUjgrn3B",
        "colab_type": "code",
        "colab": {}
      },
      "source": [
        "#!git clone https://github.com/datamadness/Automatic-skewness-transformation-for-Pandas-DataFrame.git"
      ],
      "execution_count": 0,
      "outputs": []
    },
    {
      "cell_type": "code",
      "metadata": {
        "id": "QqShmkOFI-tA",
        "colab_type": "code",
        "colab": {}
      },
      "source": [
        "#import os\n",
        "#os.chdir(r\"/content/Automatic-skewness-transformation-for-Pandas-DataFrame\")\n",
        "#from Automatic-skewness-transformation-for-Pandas-DataFrame.skew_autotransform import skew_autotransform\n",
        "#print('directory changed')\n"
      ],
      "execution_count": 0,
      "outputs": []
    },
    {
      "cell_type": "code",
      "metadata": {
        "id": "OGpcwbafN1AP",
        "colab_type": "code",
        "colab": {}
      },
      "source": [
        "#from skew_autotransform import skew_autotransform"
      ],
      "execution_count": 0,
      "outputs": []
    },
    {
      "cell_type": "code",
      "metadata": {
        "id": "9m7tEVtAJrzU",
        "colab_type": "code",
        "colab": {}
      },
      "source": [
        "#transformedDF = skew_autotransform(numerical_features.copy(deep=True), plot = True, exp = False, threshold = 0.5)"
      ],
      "execution_count": 0,
      "outputs": []
    },
    {
      "cell_type": "code",
      "metadata": {
        "id": "1DS1QFY8Jx1L",
        "colab_type": "code",
        "colab": {}
      },
      "source": [
        "#print('Original average skewness value was %2.2f' %(np.mean(abs(exampleDF.skew()))))\n",
        "#print('Average skewness after transformation is %2.2f' %(np.mean(abs(transformedDF.skew()))))"
      ],
      "execution_count": 0,
      "outputs": []
    },
    {
      "cell_type": "code",
      "metadata": {
        "id": "HyuZQsJGfAGG",
        "colab_type": "code",
        "colab": {
          "base_uri": "https://localhost:8080/",
          "height": 85
        },
        "outputId": "9b990e57-bcad-4b4b-911e-3e094ae9b407"
      },
      "source": [
        "# splitting into train and valid sets\n",
        "\n",
        "from sklearn.model_selection import train_test_split\n",
        "\n",
        "x_train, x_valid, y_train, y_valid = train_test_split(train, y_train, test_size = 0.25, random_state = 0)\n",
        "\n",
        "# getting the shapes\n",
        "print(\"Shape of x_train :\", x_train.shape)\n",
        "print(\"Shape of x_valid :\", x_valid.shape)\n",
        "print(\"Shape of y_train :\", y_train.shape)\n",
        "print(\"Shape of y_valid :\", y_valid.shape)"
      ],
      "execution_count": 376,
      "outputs": [
        {
          "output_type": "stream",
          "text": [
            "Shape of x_train : (8143, 20)\n",
            "Shape of x_valid : (2715, 20)\n",
            "Shape of y_train : (8143,)\n",
            "Shape of y_valid : (2715,)\n"
          ],
          "name": "stdout"
        }
      ]
    },
    {
      "cell_type": "code",
      "metadata": {
        "id": "bHbsLUiFhAxN",
        "colab_type": "code",
        "colab": {}
      },
      "source": [
        "# applying standard scaling\n",
        "\n",
        "from sklearn.preprocessing import StandardScaler\n",
        "\n",
        "sc = StandardScaler()\n",
        "x_train = sc.fit_transform(x_train)\n"
      ],
      "execution_count": 0,
      "outputs": []
    },
    {
      "cell_type": "code",
      "metadata": {
        "id": "uL_x9si1rkmn",
        "colab_type": "code",
        "colab": {}
      },
      "source": [
        "\n",
        "x_valid = sc.transform(x_valid)\n"
      ],
      "execution_count": 0,
      "outputs": []
    },
    {
      "cell_type": "code",
      "metadata": {
        "id": "w54t5JuWrqXI",
        "colab_type": "code",
        "colab": {
          "base_uri": "https://localhost:8080/",
          "height": 282
        },
        "outputId": "b41d5b39-a158-4e3c-f0ac-090d13751474"
      },
      "source": [
        "#use the staff algorithm technique\n",
        "test = sc.transform(test)"
      ],
      "execution_count": 379,
      "outputs": [
        {
          "output_type": "error",
          "ename": "ValueError",
          "evalue": "ignored",
          "traceback": [
            "\u001b[0;31m---------------------------------------------------------------------------\u001b[0m",
            "\u001b[0;31mValueError\u001b[0m                                Traceback (most recent call last)",
            "\u001b[0;32m<ipython-input-379-4820ce1e9428>\u001b[0m in \u001b[0;36m<module>\u001b[0;34m()\u001b[0m\n\u001b[0;32m----> 1\u001b[0;31m \u001b[0mtest\u001b[0m \u001b[0;34m=\u001b[0m \u001b[0msc\u001b[0m\u001b[0;34m.\u001b[0m\u001b[0mtransform\u001b[0m\u001b[0;34m(\u001b[0m\u001b[0mtest\u001b[0m\u001b[0;34m)\u001b[0m\u001b[0;34m\u001b[0m\u001b[0;34m\u001b[0m\u001b[0m\n\u001b[0m",
            "\u001b[0;32m/usr/local/lib/python3.6/dist-packages/sklearn/preprocessing/data.py\u001b[0m in \u001b[0;36mtransform\u001b[0;34m(self, X, copy)\u001b[0m\n\u001b[1;32m    767\u001b[0m         \u001b[0;32melse\u001b[0m\u001b[0;34m:\u001b[0m\u001b[0;34m\u001b[0m\u001b[0;34m\u001b[0m\u001b[0m\n\u001b[1;32m    768\u001b[0m             \u001b[0;32mif\u001b[0m \u001b[0mself\u001b[0m\u001b[0;34m.\u001b[0m\u001b[0mwith_mean\u001b[0m\u001b[0;34m:\u001b[0m\u001b[0;34m\u001b[0m\u001b[0;34m\u001b[0m\u001b[0m\n\u001b[0;32m--> 769\u001b[0;31m                 \u001b[0mX\u001b[0m \u001b[0;34m-=\u001b[0m \u001b[0mself\u001b[0m\u001b[0;34m.\u001b[0m\u001b[0mmean_\u001b[0m\u001b[0;34m\u001b[0m\u001b[0;34m\u001b[0m\u001b[0m\n\u001b[0m\u001b[1;32m    770\u001b[0m             \u001b[0;32mif\u001b[0m \u001b[0mself\u001b[0m\u001b[0;34m.\u001b[0m\u001b[0mwith_std\u001b[0m\u001b[0;34m:\u001b[0m\u001b[0;34m\u001b[0m\u001b[0;34m\u001b[0m\u001b[0m\n\u001b[1;32m    771\u001b[0m                 \u001b[0mX\u001b[0m \u001b[0;34m/=\u001b[0m \u001b[0mself\u001b[0m\u001b[0;34m.\u001b[0m\u001b[0mscale_\u001b[0m\u001b[0;34m\u001b[0m\u001b[0;34m\u001b[0m\u001b[0m\n",
            "\u001b[0;31mValueError\u001b[0m: operands could not be broadcast together with shapes (7068,14) (20,) (7068,14) "
          ]
        }
      ]
    },
    {
      "cell_type": "code",
      "metadata": {
        "id": "jrWrfBAehGlp",
        "colab_type": "code",
        "colab": {}
      },
      "source": [
        "# making a lasso model\n",
        "\n",
        "from sklearn.linear_model import Lasso\n",
        "from sklearn.preprocessing import RobustScaler\n",
        "from sklearn.pipeline import make_pipeline\n",
        "from sklearn.metrics import mean_squared_error\n",
        "\n",
        "lasso = make_pipeline(RobustScaler(), Lasso(alpha = 0.005, random_state = 0))\n",
        "lasso.fit(x_train, y_train)\n",
        "y_pred = lasso.predict(x_valid)\n",
        "\n",
        "mse = mean_squared_error(y_valid, y_pred)\n",
        "rmse = np.sqrt(mse)\n",
        "print(\"RMSE :\", rmse)"
      ],
      "execution_count": 0,
      "outputs": []
    },
    {
      "cell_type": "code",
      "metadata": {
        "id": "4lxi5ngKhMR1",
        "colab_type": "code",
        "colab": {}
      },
      "source": [
        "# making an Elastic Net model\n",
        "\n",
        "from sklearn.linear_model import ElasticNet\n",
        "\n",
        "enet = make_pipeline(RobustScaler(), ElasticNet(alpha=0.005, l1_ratio=.9, random_state=3))\n",
        "enet.fit(x_train, y_train)\n",
        "y_pred = enet.predict(x_valid)\n",
        "\n",
        "mse = mean_squared_error(y_valid, y_pred)\n",
        "rmse = np.sqrt(mse)\n",
        "print(\"RMSE :\", rmse)"
      ],
      "execution_count": 0,
      "outputs": []
    },
    {
      "cell_type": "code",
      "metadata": {
        "id": "n_IY5HhwhPrS",
        "colab_type": "code",
        "colab": {}
      },
      "source": [
        "from sklearn.ensemble import GradientBoostingRegressor\n",
        "\n",
        "# making a gradint boosting model\n",
        "gbr = GradientBoostingRegressor()\n",
        "gbr.fit(x_train, y_train)\n",
        "y_pred = gbr.predict(x_valid)\n",
        "\n",
        "mse = mean_squared_error(y_valid, y_pred)\n",
        "rmse = np.sqrt(mse)\n",
        "print(\"RMSE :\", rmse)"
      ],
      "execution_count": 0,
      "outputs": []
    },
    {
      "cell_type": "code",
      "metadata": {
        "id": "ugHnveGuhV1J",
        "colab_type": "code",
        "colab": {}
      },
      "source": [
        "# light gradient boosting\n",
        "import lightgbm as lgb\n",
        "\n",
        "lgb = lgb.LGBMRegressor(objective='regression',num_leaves=5,\n",
        "                              learning_rate=0.05, n_estimators=720,\n",
        "                              max_bin = 55, bagging_fraction = 0.8,\n",
        "                              bagging_freq = 5, feature_fraction = 0.2319,\n",
        "                              feature_fraction_seed=9, bagging_seed=9,\n",
        "                              min_data_in_leaf =6, min_sum_hessian_in_leaf = 11)\n",
        "lgb.fit(x_train, y_train)\n",
        "y_pred = lgb.predict(x_valid)\n",
        "\n",
        "mse = mean_squared_error(y_valid, y_pred)\n",
        "rmse = np.sqrt(mse)\n",
        "print(\"RMSE :\", rmse)"
      ],
      "execution_count": 0,
      "outputs": []
    }
  ]
}