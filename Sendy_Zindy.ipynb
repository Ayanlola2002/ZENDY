{
  "nbformat": 4,
  "nbformat_minor": 0,
  "metadata": {
    "colab": {
      "name": "Sendy_Zindy.ipynb",
      "provenance": [],
      "include_colab_link": true
    },
    "kernelspec": {
      "name": "python3",
      "display_name": "Python 3"
    }
  },
  "cells": [
    {
      "cell_type": "markdown",
      "metadata": {
        "id": "view-in-github",
        "colab_type": "text"
      },
      "source": [
        "<a href=\"https://colab.research.google.com/github/Ayanlola2002/ZENDY/blob/master/Sendy_Zindy.ipynb\" target=\"_parent\"><img src=\"https://colab.research.google.com/assets/colab-badge.svg\" alt=\"Open In Colab\"/></a>"
      ]
    },
    {
      "cell_type": "code",
      "metadata": {
        "id": "M2HEkHUupVwX",
        "colab_type": "code",
        "colab": {}
      },
      "source": [
        "import pandas as pd\n"
      ],
      "execution_count": 0,
      "outputs": []
    },
    {
      "cell_type": "code",
      "metadata": {
        "id": "8krIChwLqeti",
        "colab_type": "code",
        "colab": {}
      },
      "source": [
        "train=pd.read_csv('Train.csv')\n",
        "\n",
        "test=pd.read_csv('Test.csv')\n",
        "\n",
        "Riders=pd.read_csv('Riders.csv')\n"
      ],
      "execution_count": 0,
      "outputs": []
    },
    {
      "cell_type": "code",
      "metadata": {
        "id": "Z9KOt8JZrD-X",
        "colab_type": "code",
        "colab": {}
      },
      "source": [
        "sample=pd.read_csv('SampleSubmission.csv')"
      ],
      "execution_count": 0,
      "outputs": []
    },
    {
      "cell_type": "code",
      "metadata": {
        "id": "Kj5fc_u-u19a",
        "colab_type": "code",
        "outputId": "c20765a1-0c3e-4d80-8430-02827e34edf2",
        "colab": {
          "base_uri": "https://localhost:8080/",
          "height": 411
        }
      },
      "source": [
        "train.tail()"
      ],
      "execution_count": 4,
      "outputs": [
        {
          "output_type": "execute_result",
          "data": {
            "text/html": [
              "<div>\n",
              "<style scoped>\n",
              "    .dataframe tbody tr th:only-of-type {\n",
              "        vertical-align: middle;\n",
              "    }\n",
              "\n",
              "    .dataframe tbody tr th {\n",
              "        vertical-align: top;\n",
              "    }\n",
              "\n",
              "    .dataframe thead th {\n",
              "        text-align: right;\n",
              "    }\n",
              "</style>\n",
              "<table border=\"1\" class=\"dataframe\">\n",
              "  <thead>\n",
              "    <tr style=\"text-align: right;\">\n",
              "      <th></th>\n",
              "      <th>Order No</th>\n",
              "      <th>User Id</th>\n",
              "      <th>Vehicle Type</th>\n",
              "      <th>Platform Type</th>\n",
              "      <th>Personal or Business</th>\n",
              "      <th>Placement - Day of Month</th>\n",
              "      <th>Placement - Weekday (Mo = 1)</th>\n",
              "      <th>Placement - Time</th>\n",
              "      <th>Confirmation - Day of Month</th>\n",
              "      <th>Confirmation - Weekday (Mo = 1)</th>\n",
              "      <th>Confirmation - Time</th>\n",
              "      <th>Arrival at Pickup - Day of Month</th>\n",
              "      <th>Arrival at Pickup - Weekday (Mo = 1)</th>\n",
              "      <th>Arrival at Pickup - Time</th>\n",
              "      <th>Pickup - Day of Month</th>\n",
              "      <th>Pickup - Weekday (Mo = 1)</th>\n",
              "      <th>Pickup - Time</th>\n",
              "      <th>Arrival at Destination - Day of Month</th>\n",
              "      <th>Arrival at Destination - Weekday (Mo = 1)</th>\n",
              "      <th>Arrival at Destination - Time</th>\n",
              "      <th>Distance (KM)</th>\n",
              "      <th>Temperature</th>\n",
              "      <th>Precipitation in millimeters</th>\n",
              "      <th>Pickup Lat</th>\n",
              "      <th>Pickup Long</th>\n",
              "      <th>Destination Lat</th>\n",
              "      <th>Destination Long</th>\n",
              "      <th>Rider Id</th>\n",
              "      <th>Time from Pickup to Arrival</th>\n",
              "    </tr>\n",
              "  </thead>\n",
              "  <tbody>\n",
              "    <tr>\n",
              "      <th>21196</th>\n",
              "      <td>Order_No_8834</td>\n",
              "      <td>User_Id_2001</td>\n",
              "      <td>Bike</td>\n",
              "      <td>3</td>\n",
              "      <td>Personal</td>\n",
              "      <td>20</td>\n",
              "      <td>3</td>\n",
              "      <td>3:54:38 PM</td>\n",
              "      <td>20</td>\n",
              "      <td>3</td>\n",
              "      <td>3:55:09 PM</td>\n",
              "      <td>20</td>\n",
              "      <td>3</td>\n",
              "      <td>3:58:49 PM</td>\n",
              "      <td>20</td>\n",
              "      <td>3</td>\n",
              "      <td>4:20:08 PM</td>\n",
              "      <td>20</td>\n",
              "      <td>3</td>\n",
              "      <td>4:20:17 PM</td>\n",
              "      <td>3</td>\n",
              "      <td>28.6</td>\n",
              "      <td>NaN</td>\n",
              "      <td>-1.258414</td>\n",
              "      <td>36.804800</td>\n",
              "      <td>-1.275285</td>\n",
              "      <td>36.802702</td>\n",
              "      <td>Rider_Id_953</td>\n",
              "      <td>9</td>\n",
              "    </tr>\n",
              "    <tr>\n",
              "      <th>21197</th>\n",
              "      <td>Order_No_22892</td>\n",
              "      <td>User_Id_1796</td>\n",
              "      <td>Bike</td>\n",
              "      <td>3</td>\n",
              "      <td>Business</td>\n",
              "      <td>13</td>\n",
              "      <td>6</td>\n",
              "      <td>10:13:34 AM</td>\n",
              "      <td>13</td>\n",
              "      <td>6</td>\n",
              "      <td>10:13:41 AM</td>\n",
              "      <td>13</td>\n",
              "      <td>6</td>\n",
              "      <td>10:20:04 AM</td>\n",
              "      <td>13</td>\n",
              "      <td>6</td>\n",
              "      <td>10:33:27 AM</td>\n",
              "      <td>13</td>\n",
              "      <td>6</td>\n",
              "      <td>10:46:17 AM</td>\n",
              "      <td>7</td>\n",
              "      <td>26.0</td>\n",
              "      <td>NaN</td>\n",
              "      <td>-1.307143</td>\n",
              "      <td>36.825009</td>\n",
              "      <td>-1.331619</td>\n",
              "      <td>36.847976</td>\n",
              "      <td>Rider_Id_155</td>\n",
              "      <td>770</td>\n",
              "    </tr>\n",
              "    <tr>\n",
              "      <th>21198</th>\n",
              "      <td>Order_No_2831</td>\n",
              "      <td>User_Id_2956</td>\n",
              "      <td>Bike</td>\n",
              "      <td>3</td>\n",
              "      <td>Business</td>\n",
              "      <td>7</td>\n",
              "      <td>4</td>\n",
              "      <td>5:06:16 PM</td>\n",
              "      <td>7</td>\n",
              "      <td>4</td>\n",
              "      <td>5:07:09 PM</td>\n",
              "      <td>7</td>\n",
              "      <td>4</td>\n",
              "      <td>5:30:17 PM</td>\n",
              "      <td>7</td>\n",
              "      <td>4</td>\n",
              "      <td>5:50:52 PM</td>\n",
              "      <td>7</td>\n",
              "      <td>4</td>\n",
              "      <td>6:40:05 PM</td>\n",
              "      <td>20</td>\n",
              "      <td>29.2</td>\n",
              "      <td>NaN</td>\n",
              "      <td>-1.286018</td>\n",
              "      <td>36.897534</td>\n",
              "      <td>-1.258414</td>\n",
              "      <td>36.804800</td>\n",
              "      <td>Rider_Id_697</td>\n",
              "      <td>2953</td>\n",
              "    </tr>\n",
              "    <tr>\n",
              "      <th>21199</th>\n",
              "      <td>Order_No_6174</td>\n",
              "      <td>User_Id_2524</td>\n",
              "      <td>Bike</td>\n",
              "      <td>1</td>\n",
              "      <td>Personal</td>\n",
              "      <td>4</td>\n",
              "      <td>3</td>\n",
              "      <td>9:31:39 AM</td>\n",
              "      <td>4</td>\n",
              "      <td>3</td>\n",
              "      <td>9:31:53 AM</td>\n",
              "      <td>4</td>\n",
              "      <td>3</td>\n",
              "      <td>9:38:59 AM</td>\n",
              "      <td>4</td>\n",
              "      <td>3</td>\n",
              "      <td>9:45:15 AM</td>\n",
              "      <td>4</td>\n",
              "      <td>3</td>\n",
              "      <td>10:08:15 AM</td>\n",
              "      <td>13</td>\n",
              "      <td>15.0</td>\n",
              "      <td>NaN</td>\n",
              "      <td>-1.250030</td>\n",
              "      <td>36.874167</td>\n",
              "      <td>-1.279209</td>\n",
              "      <td>36.794872</td>\n",
              "      <td>Rider_Id_347</td>\n",
              "      <td>1380</td>\n",
              "    </tr>\n",
              "    <tr>\n",
              "      <th>21200</th>\n",
              "      <td>Order_No_9836</td>\n",
              "      <td>User_Id_718</td>\n",
              "      <td>Bike</td>\n",
              "      <td>3</td>\n",
              "      <td>Business</td>\n",
              "      <td>26</td>\n",
              "      <td>2</td>\n",
              "      <td>2:19:47 PM</td>\n",
              "      <td>26</td>\n",
              "      <td>2</td>\n",
              "      <td>2:20:01 PM</td>\n",
              "      <td>26</td>\n",
              "      <td>2</td>\n",
              "      <td>2:24:29 PM</td>\n",
              "      <td>26</td>\n",
              "      <td>2</td>\n",
              "      <td>2:41:55 PM</td>\n",
              "      <td>26</td>\n",
              "      <td>2</td>\n",
              "      <td>3:17:23 PM</td>\n",
              "      <td>12</td>\n",
              "      <td>30.9</td>\n",
              "      <td>NaN</td>\n",
              "      <td>-1.255189</td>\n",
              "      <td>36.782203</td>\n",
              "      <td>-1.320157</td>\n",
              "      <td>36.830887</td>\n",
              "      <td>Rider_Id_177</td>\n",
              "      <td>2128</td>\n",
              "    </tr>\n",
              "  </tbody>\n",
              "</table>\n",
              "</div>"
            ],
            "text/plain": [
              "             Order No       User Id  ...      Rider Id  Time from Pickup to Arrival\n",
              "21196   Order_No_8834  User_Id_2001  ...  Rider_Id_953                            9\n",
              "21197  Order_No_22892  User_Id_1796  ...  Rider_Id_155                          770\n",
              "21198   Order_No_2831  User_Id_2956  ...  Rider_Id_697                         2953\n",
              "21199   Order_No_6174  User_Id_2524  ...  Rider_Id_347                         1380\n",
              "21200   Order_No_9836   User_Id_718  ...  Rider_Id_177                         2128\n",
              "\n",
              "[5 rows x 29 columns]"
            ]
          },
          "metadata": {
            "tags": []
          },
          "execution_count": 4
        }
      ]
    },
    {
      "cell_type": "code",
      "metadata": {
        "id": "8Ig02H6nvHrL",
        "colab_type": "code",
        "outputId": "d8bbc0c1-c68e-4044-ea5f-567e1f65a2a0",
        "colab": {
          "base_uri": "https://localhost:8080/",
          "height": 411
        }
      },
      "source": [
        "test.head()"
      ],
      "execution_count": 5,
      "outputs": [
        {
          "output_type": "execute_result",
          "data": {
            "text/html": [
              "<div>\n",
              "<style scoped>\n",
              "    .dataframe tbody tr th:only-of-type {\n",
              "        vertical-align: middle;\n",
              "    }\n",
              "\n",
              "    .dataframe tbody tr th {\n",
              "        vertical-align: top;\n",
              "    }\n",
              "\n",
              "    .dataframe thead th {\n",
              "        text-align: right;\n",
              "    }\n",
              "</style>\n",
              "<table border=\"1\" class=\"dataframe\">\n",
              "  <thead>\n",
              "    <tr style=\"text-align: right;\">\n",
              "      <th></th>\n",
              "      <th>Order No</th>\n",
              "      <th>User Id</th>\n",
              "      <th>Vehicle Type</th>\n",
              "      <th>Platform Type</th>\n",
              "      <th>Personal or Business</th>\n",
              "      <th>Placement - Day of Month</th>\n",
              "      <th>Placement - Weekday (Mo = 1)</th>\n",
              "      <th>Placement - Time</th>\n",
              "      <th>Confirmation - Day of Month</th>\n",
              "      <th>Confirmation - Weekday (Mo = 1)</th>\n",
              "      <th>Confirmation - Time</th>\n",
              "      <th>Arrival at Pickup - Day of Month</th>\n",
              "      <th>Arrival at Pickup - Weekday (Mo = 1)</th>\n",
              "      <th>Arrival at Pickup - Time</th>\n",
              "      <th>Pickup - Day of Month</th>\n",
              "      <th>Pickup - Weekday (Mo = 1)</th>\n",
              "      <th>Pickup - Time</th>\n",
              "      <th>Distance (KM)</th>\n",
              "      <th>Temperature</th>\n",
              "      <th>Precipitation in millimeters</th>\n",
              "      <th>Pickup Lat</th>\n",
              "      <th>Pickup Long</th>\n",
              "      <th>Destination Lat</th>\n",
              "      <th>Destination Long</th>\n",
              "      <th>Rider Id</th>\n",
              "    </tr>\n",
              "  </thead>\n",
              "  <tbody>\n",
              "    <tr>\n",
              "      <th>0</th>\n",
              "      <td>Order_No_19248</td>\n",
              "      <td>User_Id_3355</td>\n",
              "      <td>Bike</td>\n",
              "      <td>3</td>\n",
              "      <td>Business</td>\n",
              "      <td>27</td>\n",
              "      <td>3</td>\n",
              "      <td>4:44:10 PM</td>\n",
              "      <td>27</td>\n",
              "      <td>3</td>\n",
              "      <td>4:44:29 PM</td>\n",
              "      <td>27</td>\n",
              "      <td>3</td>\n",
              "      <td>4:53:04 PM</td>\n",
              "      <td>27</td>\n",
              "      <td>3</td>\n",
              "      <td>5:06:47 PM</td>\n",
              "      <td>8</td>\n",
              "      <td>NaN</td>\n",
              "      <td>NaN</td>\n",
              "      <td>-1.333275</td>\n",
              "      <td>36.870815</td>\n",
              "      <td>-1.305249</td>\n",
              "      <td>36.822390</td>\n",
              "      <td>Rider_Id_192</td>\n",
              "    </tr>\n",
              "    <tr>\n",
              "      <th>1</th>\n",
              "      <td>Order_No_12736</td>\n",
              "      <td>User_Id_3647</td>\n",
              "      <td>Bike</td>\n",
              "      <td>3</td>\n",
              "      <td>Business</td>\n",
              "      <td>17</td>\n",
              "      <td>5</td>\n",
              "      <td>12:57:35 PM</td>\n",
              "      <td>17</td>\n",
              "      <td>5</td>\n",
              "      <td>12:59:17 PM</td>\n",
              "      <td>17</td>\n",
              "      <td>5</td>\n",
              "      <td>1:20:27 PM</td>\n",
              "      <td>17</td>\n",
              "      <td>5</td>\n",
              "      <td>1:25:37 PM</td>\n",
              "      <td>5</td>\n",
              "      <td>NaN</td>\n",
              "      <td>NaN</td>\n",
              "      <td>-1.272639</td>\n",
              "      <td>36.794723</td>\n",
              "      <td>-1.277007</td>\n",
              "      <td>36.823907</td>\n",
              "      <td>Rider_Id_868</td>\n",
              "    </tr>\n",
              "    <tr>\n",
              "      <th>2</th>\n",
              "      <td>Order_No_768</td>\n",
              "      <td>User_Id_2154</td>\n",
              "      <td>Bike</td>\n",
              "      <td>3</td>\n",
              "      <td>Business</td>\n",
              "      <td>27</td>\n",
              "      <td>4</td>\n",
              "      <td>11:08:14 AM</td>\n",
              "      <td>27</td>\n",
              "      <td>4</td>\n",
              "      <td>11:25:05 AM</td>\n",
              "      <td>27</td>\n",
              "      <td>4</td>\n",
              "      <td>11:33:20 AM</td>\n",
              "      <td>27</td>\n",
              "      <td>4</td>\n",
              "      <td>11:57:54 AM</td>\n",
              "      <td>5</td>\n",
              "      <td>22.8</td>\n",
              "      <td>NaN</td>\n",
              "      <td>-1.290894</td>\n",
              "      <td>36.822971</td>\n",
              "      <td>-1.276574</td>\n",
              "      <td>36.851365</td>\n",
              "      <td>Rider_Id_26</td>\n",
              "    </tr>\n",
              "    <tr>\n",
              "      <th>3</th>\n",
              "      <td>Order_No_15332</td>\n",
              "      <td>User_Id_2910</td>\n",
              "      <td>Bike</td>\n",
              "      <td>3</td>\n",
              "      <td>Business</td>\n",
              "      <td>17</td>\n",
              "      <td>1</td>\n",
              "      <td>1:51:35 PM</td>\n",
              "      <td>17</td>\n",
              "      <td>1</td>\n",
              "      <td>1:53:27 PM</td>\n",
              "      <td>17</td>\n",
              "      <td>1</td>\n",
              "      <td>2:02:41 PM</td>\n",
              "      <td>17</td>\n",
              "      <td>1</td>\n",
              "      <td>2:16:52 PM</td>\n",
              "      <td>5</td>\n",
              "      <td>24.5</td>\n",
              "      <td>NaN</td>\n",
              "      <td>-1.290503</td>\n",
              "      <td>36.809646</td>\n",
              "      <td>-1.303382</td>\n",
              "      <td>36.790658</td>\n",
              "      <td>Rider_Id_685</td>\n",
              "    </tr>\n",
              "    <tr>\n",
              "      <th>4</th>\n",
              "      <td>Order_No_21373</td>\n",
              "      <td>User_Id_1205</td>\n",
              "      <td>Bike</td>\n",
              "      <td>3</td>\n",
              "      <td>Business</td>\n",
              "      <td>11</td>\n",
              "      <td>2</td>\n",
              "      <td>11:30:28 AM</td>\n",
              "      <td>11</td>\n",
              "      <td>2</td>\n",
              "      <td>11:34:45 AM</td>\n",
              "      <td>11</td>\n",
              "      <td>2</td>\n",
              "      <td>11:47:19 AM</td>\n",
              "      <td>11</td>\n",
              "      <td>2</td>\n",
              "      <td>11:56:04 AM</td>\n",
              "      <td>6</td>\n",
              "      <td>24.4</td>\n",
              "      <td>NaN</td>\n",
              "      <td>-1.281081</td>\n",
              "      <td>36.814423</td>\n",
              "      <td>-1.266467</td>\n",
              "      <td>36.792161</td>\n",
              "      <td>Rider_Id_858</td>\n",
              "    </tr>\n",
              "  </tbody>\n",
              "</table>\n",
              "</div>"
            ],
            "text/plain": [
              "         Order No       User Id  ... Destination Long      Rider Id\n",
              "0  Order_No_19248  User_Id_3355  ...        36.822390  Rider_Id_192\n",
              "1  Order_No_12736  User_Id_3647  ...        36.823907  Rider_Id_868\n",
              "2    Order_No_768  User_Id_2154  ...        36.851365   Rider_Id_26\n",
              "3  Order_No_15332  User_Id_2910  ...        36.790658  Rider_Id_685\n",
              "4  Order_No_21373  User_Id_1205  ...        36.792161  Rider_Id_858\n",
              "\n",
              "[5 rows x 25 columns]"
            ]
          },
          "metadata": {
            "tags": []
          },
          "execution_count": 5
        }
      ]
    },
    {
      "cell_type": "code",
      "metadata": {
        "id": "7ymdka3lvML1",
        "colab_type": "code",
        "outputId": "fe23736b-0258-487c-a32b-89ecccfa1a54",
        "colab": {
          "base_uri": "https://localhost:8080/",
          "height": 204
        }
      },
      "source": [
        "sample.head()"
      ],
      "execution_count": 6,
      "outputs": [
        {
          "output_type": "execute_result",
          "data": {
            "text/html": [
              "<div>\n",
              "<style scoped>\n",
              "    .dataframe tbody tr th:only-of-type {\n",
              "        vertical-align: middle;\n",
              "    }\n",
              "\n",
              "    .dataframe tbody tr th {\n",
              "        vertical-align: top;\n",
              "    }\n",
              "\n",
              "    .dataframe thead th {\n",
              "        text-align: right;\n",
              "    }\n",
              "</style>\n",
              "<table border=\"1\" class=\"dataframe\">\n",
              "  <thead>\n",
              "    <tr style=\"text-align: right;\">\n",
              "      <th></th>\n",
              "      <th>Order_No</th>\n",
              "      <th>Time from Pickup to Arrival</th>\n",
              "    </tr>\n",
              "  </thead>\n",
              "  <tbody>\n",
              "    <tr>\n",
              "      <th>0</th>\n",
              "      <td>Order_No_19248</td>\n",
              "      <td>567.0</td>\n",
              "    </tr>\n",
              "    <tr>\n",
              "      <th>1</th>\n",
              "      <td>Order_No_12736</td>\n",
              "      <td>4903.0</td>\n",
              "    </tr>\n",
              "    <tr>\n",
              "      <th>2</th>\n",
              "      <td>Order_No_768</td>\n",
              "      <td>5649.0</td>\n",
              "    </tr>\n",
              "    <tr>\n",
              "      <th>3</th>\n",
              "      <td>Order_No_15332</td>\n",
              "      <td>NaN</td>\n",
              "    </tr>\n",
              "    <tr>\n",
              "      <th>4</th>\n",
              "      <td>Order_No_21373</td>\n",
              "      <td>NaN</td>\n",
              "    </tr>\n",
              "  </tbody>\n",
              "</table>\n",
              "</div>"
            ],
            "text/plain": [
              "         Order_No  Time from Pickup to Arrival\n",
              "0  Order_No_19248                        567.0\n",
              "1  Order_No_12736                       4903.0\n",
              "2    Order_No_768                       5649.0\n",
              "3  Order_No_15332                          NaN\n",
              "4  Order_No_21373                          NaN"
            ]
          },
          "metadata": {
            "tags": []
          },
          "execution_count": 6
        }
      ]
    },
    {
      "cell_type": "code",
      "metadata": {
        "id": "Mha610lmFMHc",
        "colab_type": "code",
        "outputId": "6c615b12-da9d-46f9-8255-433eadd346cc",
        "colab": {
          "base_uri": "https://localhost:8080/",
          "height": 51
        }
      },
      "source": [
        "print(train.shape)\n",
        "print(test.shape)"
      ],
      "execution_count": 7,
      "outputs": [
        {
          "output_type": "stream",
          "text": [
            "(21201, 29)\n",
            "(7068, 25)\n"
          ],
          "name": "stdout"
        }
      ]
    },
    {
      "cell_type": "code",
      "metadata": {
        "id": "NgeKdum9vYwb",
        "colab_type": "code",
        "outputId": "835e9898-af27-481c-a61f-e822f2a07cc9",
        "colab": {
          "base_uri": "https://localhost:8080/",
          "height": 527
        }
      },
      "source": [
        "train.dtypes"
      ],
      "execution_count": 8,
      "outputs": [
        {
          "output_type": "execute_result",
          "data": {
            "text/plain": [
              "Order No                                      object\n",
              "User Id                                       object\n",
              "Vehicle Type                                  object\n",
              "Platform Type                                  int64\n",
              "Personal or Business                          object\n",
              "Placement - Day of Month                       int64\n",
              "Placement - Weekday (Mo = 1)                   int64\n",
              "Placement - Time                              object\n",
              "Confirmation - Day of Month                    int64\n",
              "Confirmation - Weekday (Mo = 1)                int64\n",
              "Confirmation - Time                           object\n",
              "Arrival at Pickup - Day of Month               int64\n",
              "Arrival at Pickup - Weekday (Mo = 1)           int64\n",
              "Arrival at Pickup - Time                      object\n",
              "Pickup - Day of Month                          int64\n",
              "Pickup - Weekday (Mo = 1)                      int64\n",
              "Pickup - Time                                 object\n",
              "Arrival at Destination - Day of Month          int64\n",
              "Arrival at Destination - Weekday (Mo = 1)      int64\n",
              "Arrival at Destination - Time                 object\n",
              "Distance (KM)                                  int64\n",
              "Temperature                                  float64\n",
              "Precipitation in millimeters                 float64\n",
              "Pickup Lat                                   float64\n",
              "Pickup Long                                  float64\n",
              "Destination Lat                              float64\n",
              "Destination Long                             float64\n",
              "Rider Id                                      object\n",
              "Time from Pickup to Arrival                    int64\n",
              "dtype: object"
            ]
          },
          "metadata": {
            "tags": []
          },
          "execution_count": 8
        }
      ]
    },
    {
      "cell_type": "code",
      "metadata": {
        "id": "Ja6uI-7-wcH3",
        "colab_type": "code",
        "outputId": "b085f197-edd3-4235-be4e-c52c8f0ec0fb",
        "colab": {
          "base_uri": "https://localhost:8080/",
          "height": 204
        }
      },
      "source": [
        "Riders.head()"
      ],
      "execution_count": 9,
      "outputs": [
        {
          "output_type": "execute_result",
          "data": {
            "text/html": [
              "<div>\n",
              "<style scoped>\n",
              "    .dataframe tbody tr th:only-of-type {\n",
              "        vertical-align: middle;\n",
              "    }\n",
              "\n",
              "    .dataframe tbody tr th {\n",
              "        vertical-align: top;\n",
              "    }\n",
              "\n",
              "    .dataframe thead th {\n",
              "        text-align: right;\n",
              "    }\n",
              "</style>\n",
              "<table border=\"1\" class=\"dataframe\">\n",
              "  <thead>\n",
              "    <tr style=\"text-align: right;\">\n",
              "      <th></th>\n",
              "      <th>Rider Id</th>\n",
              "      <th>No_Of_Orders</th>\n",
              "      <th>Age</th>\n",
              "      <th>Average_Rating</th>\n",
              "      <th>No_of_Ratings</th>\n",
              "    </tr>\n",
              "  </thead>\n",
              "  <tbody>\n",
              "    <tr>\n",
              "      <th>0</th>\n",
              "      <td>Rider_Id_396</td>\n",
              "      <td>2946</td>\n",
              "      <td>2298</td>\n",
              "      <td>14.0</td>\n",
              "      <td>1159</td>\n",
              "    </tr>\n",
              "    <tr>\n",
              "      <th>1</th>\n",
              "      <td>Rider_Id_479</td>\n",
              "      <td>360</td>\n",
              "      <td>951</td>\n",
              "      <td>13.5</td>\n",
              "      <td>176</td>\n",
              "    </tr>\n",
              "    <tr>\n",
              "      <th>2</th>\n",
              "      <td>Rider_Id_648</td>\n",
              "      <td>1746</td>\n",
              "      <td>821</td>\n",
              "      <td>14.3</td>\n",
              "      <td>466</td>\n",
              "    </tr>\n",
              "    <tr>\n",
              "      <th>3</th>\n",
              "      <td>Rider_Id_753</td>\n",
              "      <td>314</td>\n",
              "      <td>980</td>\n",
              "      <td>12.5</td>\n",
              "      <td>75</td>\n",
              "    </tr>\n",
              "    <tr>\n",
              "      <th>4</th>\n",
              "      <td>Rider_Id_335</td>\n",
              "      <td>536</td>\n",
              "      <td>1113</td>\n",
              "      <td>13.7</td>\n",
              "      <td>156</td>\n",
              "    </tr>\n",
              "  </tbody>\n",
              "</table>\n",
              "</div>"
            ],
            "text/plain": [
              "       Rider Id  No_Of_Orders   Age  Average_Rating  No_of_Ratings\n",
              "0  Rider_Id_396          2946  2298            14.0           1159\n",
              "1  Rider_Id_479           360   951            13.5            176\n",
              "2  Rider_Id_648          1746   821            14.3            466\n",
              "3  Rider_Id_753           314   980            12.5             75\n",
              "4  Rider_Id_335           536  1113            13.7            156"
            ]
          },
          "metadata": {
            "tags": []
          },
          "execution_count": 9
        }
      ]
    },
    {
      "cell_type": "code",
      "metadata": {
        "id": "O3X3EFZ0xEte",
        "colab_type": "code",
        "colab": {}
      },
      "source": [
        "Varriable=pd.read_csv('/content/VariableDefinitions.csv')"
      ],
      "execution_count": 0,
      "outputs": []
    },
    {
      "cell_type": "code",
      "metadata": {
        "id": "HXsr9S5yxbzJ",
        "colab_type": "code",
        "outputId": "e59dd6a5-ca82-4bd0-8840-21a4e0139f94",
        "colab": {
          "base_uri": "https://localhost:8080/",
          "height": 204
        }
      },
      "source": [
        "Varriable.head()"
      ],
      "execution_count": 11,
      "outputs": [
        {
          "output_type": "execute_result",
          "data": {
            "text/html": [
              "<div>\n",
              "<style scoped>\n",
              "    .dataframe tbody tr th:only-of-type {\n",
              "        vertical-align: middle;\n",
              "    }\n",
              "\n",
              "    .dataframe tbody tr th {\n",
              "        vertical-align: top;\n",
              "    }\n",
              "\n",
              "    .dataframe thead th {\n",
              "        text-align: right;\n",
              "    }\n",
              "</style>\n",
              "<table border=\"1\" class=\"dataframe\">\n",
              "  <thead>\n",
              "    <tr style=\"text-align: right;\">\n",
              "      <th></th>\n",
              "      <th>Order No</th>\n",
              "      <th>Unique number identifying the order</th>\n",
              "    </tr>\n",
              "  </thead>\n",
              "  <tbody>\n",
              "    <tr>\n",
              "      <th>0</th>\n",
              "      <td>User Id</td>\n",
              "      <td>Unique number identifying the customer on a pl...</td>\n",
              "    </tr>\n",
              "    <tr>\n",
              "      <th>1</th>\n",
              "      <td>Vehicle Type</td>\n",
              "      <td>For this competition limited to bikes, however...</td>\n",
              "    </tr>\n",
              "    <tr>\n",
              "      <th>2</th>\n",
              "      <td>Platform Type</td>\n",
              "      <td>Platform used to place the order, there are 4 ...</td>\n",
              "    </tr>\n",
              "    <tr>\n",
              "      <th>3</th>\n",
              "      <td>Personal or Business</td>\n",
              "      <td>Customer type</td>\n",
              "    </tr>\n",
              "    <tr>\n",
              "      <th>4</th>\n",
              "      <td>Placement - Day of Month</td>\n",
              "      <td>Placement - Day of Month i.e 1-31</td>\n",
              "    </tr>\n",
              "  </tbody>\n",
              "</table>\n",
              "</div>"
            ],
            "text/plain": [
              "                   Order No                Unique number identifying the order\n",
              "0                   User Id  Unique number identifying the customer on a pl...\n",
              "1              Vehicle Type  For this competition limited to bikes, however...\n",
              "2             Platform Type  Platform used to place the order, there are 4 ...\n",
              "3      Personal or Business                                      Customer type\n",
              "4  Placement - Day of Month                  Placement - Day of Month i.e 1-31"
            ]
          },
          "metadata": {
            "tags": []
          },
          "execution_count": 11
        }
      ]
    },
    {
      "cell_type": "code",
      "metadata": {
        "id": "57-FGvQwtJt9",
        "colab_type": "code",
        "outputId": "0fc7e149-3d93-4792-f0b1-4b3a9d6d61eb",
        "colab": {
          "base_uri": "https://localhost:8080/",
          "height": 595
        }
      },
      "source": [
        "train.info()"
      ],
      "execution_count": 12,
      "outputs": [
        {
          "output_type": "stream",
          "text": [
            "<class 'pandas.core.frame.DataFrame'>\n",
            "RangeIndex: 21201 entries, 0 to 21200\n",
            "Data columns (total 29 columns):\n",
            "Order No                                     21201 non-null object\n",
            "User Id                                      21201 non-null object\n",
            "Vehicle Type                                 21201 non-null object\n",
            "Platform Type                                21201 non-null int64\n",
            "Personal or Business                         21201 non-null object\n",
            "Placement - Day of Month                     21201 non-null int64\n",
            "Placement - Weekday (Mo = 1)                 21201 non-null int64\n",
            "Placement - Time                             21201 non-null object\n",
            "Confirmation - Day of Month                  21201 non-null int64\n",
            "Confirmation - Weekday (Mo = 1)              21201 non-null int64\n",
            "Confirmation - Time                          21201 non-null object\n",
            "Arrival at Pickup - Day of Month             21201 non-null int64\n",
            "Arrival at Pickup - Weekday (Mo = 1)         21201 non-null int64\n",
            "Arrival at Pickup - Time                     21201 non-null object\n",
            "Pickup - Day of Month                        21201 non-null int64\n",
            "Pickup - Weekday (Mo = 1)                    21201 non-null int64\n",
            "Pickup - Time                                21201 non-null object\n",
            "Arrival at Destination - Day of Month        21201 non-null int64\n",
            "Arrival at Destination - Weekday (Mo = 1)    21201 non-null int64\n",
            "Arrival at Destination - Time                21201 non-null object\n",
            "Distance (KM)                                21201 non-null int64\n",
            "Temperature                                  16835 non-null float64\n",
            "Precipitation in millimeters                 552 non-null float64\n",
            "Pickup Lat                                   21201 non-null float64\n",
            "Pickup Long                                  21201 non-null float64\n",
            "Destination Lat                              21201 non-null float64\n",
            "Destination Long                             21201 non-null float64\n",
            "Rider Id                                     21201 non-null object\n",
            "Time from Pickup to Arrival                  21201 non-null int64\n",
            "dtypes: float64(6), int64(13), object(10)\n",
            "memory usage: 4.7+ MB\n"
          ],
          "name": "stdout"
        }
      ]
    },
    {
      "cell_type": "code",
      "metadata": {
        "id": "T1bchcZjuS0t",
        "colab_type": "code",
        "outputId": "2782e169-9fb1-4a65-eb34-80df456c481d",
        "colab": {
          "base_uri": "https://localhost:8080/",
          "height": 527
        }
      },
      "source": [
        "train.isnull().sum()"
      ],
      "execution_count": 13,
      "outputs": [
        {
          "output_type": "execute_result",
          "data": {
            "text/plain": [
              "Order No                                         0\n",
              "User Id                                          0\n",
              "Vehicle Type                                     0\n",
              "Platform Type                                    0\n",
              "Personal or Business                             0\n",
              "Placement - Day of Month                         0\n",
              "Placement - Weekday (Mo = 1)                     0\n",
              "Placement - Time                                 0\n",
              "Confirmation - Day of Month                      0\n",
              "Confirmation - Weekday (Mo = 1)                  0\n",
              "Confirmation - Time                              0\n",
              "Arrival at Pickup - Day of Month                 0\n",
              "Arrival at Pickup - Weekday (Mo = 1)             0\n",
              "Arrival at Pickup - Time                         0\n",
              "Pickup - Day of Month                            0\n",
              "Pickup - Weekday (Mo = 1)                        0\n",
              "Pickup - Time                                    0\n",
              "Arrival at Destination - Day of Month            0\n",
              "Arrival at Destination - Weekday (Mo = 1)        0\n",
              "Arrival at Destination - Time                    0\n",
              "Distance (KM)                                    0\n",
              "Temperature                                   4366\n",
              "Precipitation in millimeters                 20649\n",
              "Pickup Lat                                       0\n",
              "Pickup Long                                      0\n",
              "Destination Lat                                  0\n",
              "Destination Long                                 0\n",
              "Rider Id                                         0\n",
              "Time from Pickup to Arrival                      0\n",
              "dtype: int64"
            ]
          },
          "metadata": {
            "tags": []
          },
          "execution_count": 13
        }
      ]
    },
    {
      "cell_type": "code",
      "metadata": {
        "id": "QIpkiOK4uvwH",
        "colab_type": "code",
        "outputId": "b32e76ed-763c-4d9b-c781-7cd9c7292eeb",
        "colab": {
          "base_uri": "https://localhost:8080/",
          "height": 459
        }
      },
      "source": [
        "test.isnull().sum()"
      ],
      "execution_count": 14,
      "outputs": [
        {
          "output_type": "execute_result",
          "data": {
            "text/plain": [
              "Order No                                   0\n",
              "User Id                                    0\n",
              "Vehicle Type                               0\n",
              "Platform Type                              0\n",
              "Personal or Business                       0\n",
              "Placement - Day of Month                   0\n",
              "Placement - Weekday (Mo = 1)               0\n",
              "Placement - Time                           0\n",
              "Confirmation - Day of Month                0\n",
              "Confirmation - Weekday (Mo = 1)            0\n",
              "Confirmation - Time                        0\n",
              "Arrival at Pickup - Day of Month           0\n",
              "Arrival at Pickup - Weekday (Mo = 1)       0\n",
              "Arrival at Pickup - Time                   0\n",
              "Pickup - Day of Month                      0\n",
              "Pickup - Weekday (Mo = 1)                  0\n",
              "Pickup - Time                              0\n",
              "Distance (KM)                              0\n",
              "Temperature                             1437\n",
              "Precipitation in millimeters            6869\n",
              "Pickup Lat                                 0\n",
              "Pickup Long                                0\n",
              "Destination Lat                            0\n",
              "Destination Long                           0\n",
              "Rider Id                                   0\n",
              "dtype: int64"
            ]
          },
          "metadata": {
            "tags": []
          },
          "execution_count": 14
        }
      ]
    },
    {
      "cell_type": "code",
      "metadata": {
        "id": "BsPHnAvru0RX",
        "colab_type": "code",
        "outputId": "31fc0983-5e3c-490e-cf2f-b1efc0f8a0ce",
        "colab": {
          "base_uri": "https://localhost:8080/",
          "height": 323
        }
      },
      "source": [
        "#checking the values in the temperature feature\n",
        "train['Temperature'].unique()"
      ],
      "execution_count": 15,
      "outputs": [
        {
          "output_type": "execute_result",
          "data": {
            "text/plain": [
              "array([20.4, 26.4,  nan, 19.2, 15.4, 27.2, 20.3, 28.7, 24.6, 16.4, 26.1,\n",
              "       20.9, 24.4, 19.4, 20.8, 23.3, 18.1, 22.5, 26.5, 27.3, 25.6, 20.5,\n",
              "       18.8, 16.1, 25.3, 22.3, 26.3, 29.2, 20. , 18. , 21.6, 24.8, 23. ,\n",
              "       28.1, 14.7, 25. , 26.7, 17.6, 22.7, 23.9, 24.7, 28.2, 19.1, 20.1,\n",
              "       17.7, 17.3, 21.9, 24.5, 26.9, 18.4, 22. , 25.7, 23.7, 25.8, 16.2,\n",
              "       31. , 26.2, 28.6, 19.3, 25.2, 24. , 25.5, 23.6, 30.1, 22.8, 27.7,\n",
              "       21.3, 19.7, 14.5, 30.8, 23.8, 21.7, 24.2, 25.9, 21.2, 18.9, 17.9,\n",
              "       18.7, 25.4, 22.9, 27.8, 22.6, 18.6, 26. , 21.1, 24.9, 18.5, 15.3,\n",
              "       27.5, 22.4, 29.6, 19.9, 27.6, 19.8, 20.6, 16.8, 27.4, 24.1, 22.1,\n",
              "       23.1, 27. , 29.8, 19.6, 21.8, 25.1, 16.9, 30. , 23.5, 23.2, 26.6,\n",
              "       28.5, 17.8, 30.5, 15.1, 21. , 16. , 26.8, 24.3, 18.3, 27.1, 20.7,\n",
              "       18.2, 23.4, 14.8, 15.8, 28.4, 21.4, 17.5, 29. , 19.5, 27.9, 22.2,\n",
              "       28. , 20.2, 29.1, 17.1, 29.9, 15.6, 31.8, 28.3, 30.7, 17.2, 29.7,\n",
              "       16.7, 19. , 29.3, 30.6, 29.4, 21.5, 16.6, 28.9, 15. , 13.9, 17.4,\n",
              "       15.2, 30.3, 29.5, 14.4, 13.8, 30.9, 13.4, 28.8, 16.5, 13.3, 15.5,\n",
              "       31.2, 17. , 16.3, 31.1, 30.4, 30.2, 14. , 14.2, 15.7, 13.5, 14.3,\n",
              "       31.9, 31.3, 15.9, 13.6, 14.9, 32.1, 14.6, 13.7, 13.2, 31.7, 14.1,\n",
              "       32. , 11.2])"
            ]
          },
          "metadata": {
            "tags": []
          },
          "execution_count": 15
        }
      ]
    },
    {
      "cell_type": "code",
      "metadata": {
        "id": "xq0NhSyTwsT7",
        "colab_type": "code",
        "colab": {}
      },
      "source": [
        "#trying to remove the null values\n",
        "train['Temperature'].fillna(train['Temperature'].mean(),inplace=True)\n",
        "test['Temperature'].fillna(test['Temperature'].mean(),inplace=True)\n"
      ],
      "execution_count": 0,
      "outputs": []
    },
    {
      "cell_type": "code",
      "metadata": {
        "id": "2Qsso4WYyjWH",
        "colab_type": "code",
        "colab": {}
      },
      "source": [
        "#trying to remove the null values\n",
        "train['Precipitation in millimeters'].fillna(train['Precipitation in millimeters'].mean(),inplace=True)\n",
        "test['Precipitation in millimeters'].fillna(test['Precipitation in millimeters'].mean(),inplace=True)"
      ],
      "execution_count": 0,
      "outputs": []
    },
    {
      "cell_type": "code",
      "metadata": {
        "id": "XgwxnczyzwFl",
        "colab_type": "code",
        "outputId": "c3e7f192-9247-44c3-9a1e-e841affd7b55",
        "colab": {
          "base_uri": "https://localhost:8080/",
          "height": 51
        }
      },
      "source": [
        "print(\"Null values left in the train set:\", train.isnull().sum().sum())\n",
        "print(\"Null values left in the test set:\", test.isnull().sum().sum())"
      ],
      "execution_count": 18,
      "outputs": [
        {
          "output_type": "stream",
          "text": [
            "Null values left in the train set: 0\n",
            "Null values left in the test set: 0\n"
          ],
          "name": "stdout"
        }
      ]
    },
    {
      "cell_type": "code",
      "metadata": {
        "id": "J2Wp8MiAz75y",
        "colab_type": "code",
        "colab": {}
      },
      "source": [
        "#removing the order Id column  and predictor column\n",
        "order_id=test['Order No']\n",
        "y_train=train.iloc[:,-1]"
      ],
      "execution_count": 0,
      "outputs": []
    },
    {
      "cell_type": "code",
      "metadata": {
        "id": "gfn6BGkWgs16",
        "colab_type": "code",
        "outputId": "323e7226-36af-4bd3-bbf2-fcec0fcce14f",
        "colab": {
          "base_uri": "https://localhost:8080/",
          "height": 255
        }
      },
      "source": [
        "train.columns"
      ],
      "execution_count": 20,
      "outputs": [
        {
          "output_type": "execute_result",
          "data": {
            "text/plain": [
              "Index(['Order No', 'User Id', 'Vehicle Type', 'Platform Type',\n",
              "       'Personal or Business', 'Placement - Day of Month',\n",
              "       'Placement - Weekday (Mo = 1)', 'Placement - Time',\n",
              "       'Confirmation - Day of Month', 'Confirmation - Weekday (Mo = 1)',\n",
              "       'Confirmation - Time', 'Arrival at Pickup - Day of Month',\n",
              "       'Arrival at Pickup - Weekday (Mo = 1)', 'Arrival at Pickup - Time',\n",
              "       'Pickup - Day of Month', 'Pickup - Weekday (Mo = 1)', 'Pickup - Time',\n",
              "       'Arrival at Destination - Day of Month',\n",
              "       'Arrival at Destination - Weekday (Mo = 1)',\n",
              "       'Arrival at Destination - Time', 'Distance (KM)', 'Temperature',\n",
              "       'Precipitation in millimeters', 'Pickup Lat', 'Pickup Long',\n",
              "       'Destination Lat', 'Destination Long', 'Rider Id',\n",
              "       'Time from Pickup to Arrival'],\n",
              "      dtype='object')"
            ]
          },
          "metadata": {
            "tags": []
          },
          "execution_count": 20
        }
      ]
    },
    {
      "cell_type": "code",
      "metadata": {
        "id": "wc4FdLTth_ev",
        "colab_type": "code",
        "outputId": "265d3785-4c72-46ad-f3e5-7c4aea163ac8",
        "colab": {
          "base_uri": "https://localhost:8080/",
          "height": 204
        }
      },
      "source": [
        "test.columns"
      ],
      "execution_count": 21,
      "outputs": [
        {
          "output_type": "execute_result",
          "data": {
            "text/plain": [
              "Index(['Order No', 'User Id', 'Vehicle Type', 'Platform Type',\n",
              "       'Personal or Business', 'Placement - Day of Month',\n",
              "       'Placement - Weekday (Mo = 1)', 'Placement - Time',\n",
              "       'Confirmation - Day of Month', 'Confirmation - Weekday (Mo = 1)',\n",
              "       'Confirmation - Time', 'Arrival at Pickup - Day of Month',\n",
              "       'Arrival at Pickup - Weekday (Mo = 1)', 'Arrival at Pickup - Time',\n",
              "       'Pickup - Day of Month', 'Pickup - Weekday (Mo = 1)', 'Pickup - Time',\n",
              "       'Distance (KM)', 'Temperature', 'Precipitation in millimeters',\n",
              "       'Pickup Lat', 'Pickup Long', 'Destination Lat', 'Destination Long',\n",
              "       'Rider Id'],\n",
              "      dtype='object')"
            ]
          },
          "metadata": {
            "tags": []
          },
          "execution_count": 21
        }
      ]
    },
    {
      "cell_type": "code",
      "metadata": {
        "id": "Hs0VgtaD-GLL",
        "colab_type": "code",
        "colab": {}
      },
      "source": [
        "# let's delete the last column from the dataset to  concat train and test\n",
        "train = train.drop(['Time from Pickup to Arrival','User Id','Confirmation - Day of Month',\n",
        "              'Confirmation - Weekday (Mo = 1)','Arrival at Pickup - Day of Month',\n",
        "              'Arrival at Pickup - Weekday (Mo = 1)',\n",
        "              'Pickup - Day of Month',\n",
        "              'Pickup - Weekday (Mo = 1)',\n",
        "              'Arrival at Destination - Day of Month',\n",
        "              'Arrival at Destination - Weekday (Mo = 1)',\n",
        "              'Arrival at Destination - Time'], axis = 1)"
      ],
      "execution_count": 0,
      "outputs": []
    },
    {
      "cell_type": "code",
      "metadata": {
        "id": "LpnQ_Fixh2tG",
        "colab_type": "code",
        "colab": {}
      },
      "source": [
        "test = test.drop(['User Id','Confirmation - Day of Month',\n",
        "              'Confirmation - Weekday (Mo = 1)','Arrival at Pickup - Day of Month',\n",
        "              'Arrival at Pickup - Weekday (Mo = 1)',\n",
        "              'Pickup - Day of Month',\n",
        "              'Pickup - Weekday (Mo = 1)',\n",
        "              ], axis = 1)"
      ],
      "execution_count": 0,
      "outputs": []
    },
    {
      "cell_type": "code",
      "metadata": {
        "id": "pgt_KLTIExay",
        "colab_type": "code",
        "outputId": "1ccef917-159d-4bb5-b24c-3ed11bed11e9",
        "colab": {
          "base_uri": "https://localhost:8080/",
          "height": 51
        }
      },
      "source": [
        "print(train.shape)\n",
        "print(test.shape)"
      ],
      "execution_count": 24,
      "outputs": [
        {
          "output_type": "stream",
          "text": [
            "(21201, 18)\n",
            "(7068, 18)\n"
          ],
          "name": "stdout"
        }
      ]
    },
    {
      "cell_type": "code",
      "metadata": {
        "id": "8lYNmY5UkViA",
        "colab_type": "code",
        "outputId": "35531b71-2caf-4d02-81b5-b991c757e8e7",
        "colab": {
          "base_uri": "https://localhost:8080/",
          "height": 408
        }
      },
      "source": [
        "train.info()"
      ],
      "execution_count": 25,
      "outputs": [
        {
          "output_type": "stream",
          "text": [
            "<class 'pandas.core.frame.DataFrame'>\n",
            "RangeIndex: 21201 entries, 0 to 21200\n",
            "Data columns (total 18 columns):\n",
            "Order No                        21201 non-null object\n",
            "Vehicle Type                    21201 non-null object\n",
            "Platform Type                   21201 non-null int64\n",
            "Personal or Business            21201 non-null object\n",
            "Placement - Day of Month        21201 non-null int64\n",
            "Placement - Weekday (Mo = 1)    21201 non-null int64\n",
            "Placement - Time                21201 non-null object\n",
            "Confirmation - Time             21201 non-null object\n",
            "Arrival at Pickup - Time        21201 non-null object\n",
            "Pickup - Time                   21201 non-null object\n",
            "Distance (KM)                   21201 non-null int64\n",
            "Temperature                     21201 non-null float64\n",
            "Precipitation in millimeters    21201 non-null float64\n",
            "Pickup Lat                      21201 non-null float64\n",
            "Pickup Long                     21201 non-null float64\n",
            "Destination Lat                 21201 non-null float64\n",
            "Destination Long                21201 non-null float64\n",
            "Rider Id                        21201 non-null object\n",
            "dtypes: float64(6), int64(4), object(8)\n",
            "memory usage: 2.9+ MB\n"
          ],
          "name": "stdout"
        }
      ]
    },
    {
      "cell_type": "code",
      "metadata": {
        "id": "tjk8hHY7knqY",
        "colab_type": "code",
        "outputId": "ea438a1c-6221-43c2-fa6a-7b9858ac29e0",
        "colab": {
          "base_uri": "https://localhost:8080/",
          "height": 408
        }
      },
      "source": [
        "test.info()"
      ],
      "execution_count": 26,
      "outputs": [
        {
          "output_type": "stream",
          "text": [
            "<class 'pandas.core.frame.DataFrame'>\n",
            "RangeIndex: 7068 entries, 0 to 7067\n",
            "Data columns (total 18 columns):\n",
            "Order No                        7068 non-null object\n",
            "Vehicle Type                    7068 non-null object\n",
            "Platform Type                   7068 non-null int64\n",
            "Personal or Business            7068 non-null object\n",
            "Placement - Day of Month        7068 non-null int64\n",
            "Placement - Weekday (Mo = 1)    7068 non-null int64\n",
            "Placement - Time                7068 non-null object\n",
            "Confirmation - Time             7068 non-null object\n",
            "Arrival at Pickup - Time        7068 non-null object\n",
            "Pickup - Time                   7068 non-null object\n",
            "Distance (KM)                   7068 non-null int64\n",
            "Temperature                     7068 non-null float64\n",
            "Precipitation in millimeters    7068 non-null float64\n",
            "Pickup Lat                      7068 non-null float64\n",
            "Pickup Long                     7068 non-null float64\n",
            "Destination Lat                 7068 non-null float64\n",
            "Destination Long                7068 non-null float64\n",
            "Rider Id                        7068 non-null object\n",
            "dtypes: float64(6), int64(4), object(8)\n",
            "memory usage: 994.1+ KB\n"
          ],
          "name": "stdout"
        }
      ]
    },
    {
      "cell_type": "code",
      "metadata": {
        "id": "s7i6x_TBnHV2",
        "colab_type": "code",
        "colab": {}
      },
      "source": [
        "#adding other columns based on riders metrics\n",
        "train=pd.merge(train,Riders,how='left',left_on='Rider Id',right_on='Rider Id')\n",
        "#adding other columns based on riders metrics to test\n",
        "test=pd.merge(test,Riders,how='left',left_on='Rider Id',right_on='Rider Id')"
      ],
      "execution_count": 0,
      "outputs": []
    },
    {
      "cell_type": "code",
      "metadata": {
        "id": "7cDgC0g5uklK",
        "colab_type": "code",
        "colab": {
          "base_uri": "https://localhost:8080/",
          "height": 476
        },
        "outputId": "640e3b9f-a8cf-4457-ca67-d97f59806b20"
      },
      "source": [
        "train.info()"
      ],
      "execution_count": 29,
      "outputs": [
        {
          "output_type": "stream",
          "text": [
            "<class 'pandas.core.frame.DataFrame'>\n",
            "Int64Index: 21201 entries, 0 to 21200\n",
            "Data columns (total 22 columns):\n",
            "Order No                        21201 non-null object\n",
            "Vehicle Type                    21201 non-null object\n",
            "Platform Type                   21201 non-null int64\n",
            "Personal or Business            21201 non-null object\n",
            "Placement - Day of Month        21201 non-null int64\n",
            "Placement - Weekday (Mo = 1)    21201 non-null int64\n",
            "Placement - Time                21201 non-null object\n",
            "Confirmation - Time             21201 non-null object\n",
            "Arrival at Pickup - Time        21201 non-null object\n",
            "Pickup - Time                   21201 non-null object\n",
            "Distance (KM)                   21201 non-null int64\n",
            "Temperature                     21201 non-null float64\n",
            "Precipitation in millimeters    21201 non-null float64\n",
            "Pickup Lat                      21201 non-null float64\n",
            "Pickup Long                     21201 non-null float64\n",
            "Destination Lat                 21201 non-null float64\n",
            "Destination Long                21201 non-null float64\n",
            "Rider Id                        21201 non-null object\n",
            "No_Of_Orders                    21201 non-null int64\n",
            "Age                             21201 non-null int64\n",
            "Average_Rating                  21201 non-null float64\n",
            "No_of_Ratings                   21201 non-null int64\n",
            "dtypes: float64(7), int64(7), object(8)\n",
            "memory usage: 3.7+ MB\n"
          ],
          "name": "stdout"
        }
      ]
    },
    {
      "cell_type": "code",
      "metadata": {
        "id": "_pXhIJJZvGD5",
        "colab_type": "code",
        "colab": {}
      },
      "source": [
        "# i need to add the new others to the no_of_orders column,the new age,Average rating,no_of_ratings"
      ],
      "execution_count": 0,
      "outputs": []
    }
  ]
}