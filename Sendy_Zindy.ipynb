{
  "nbformat": 4,
  "nbformat_minor": 0,
  "metadata": {
    "colab": {
      "name": "Sendy_Zindy.ipynb",
      "provenance": [],
      "collapsed_sections": [],
      "include_colab_link": true
    },
    "kernelspec": {
      "name": "python3",
      "display_name": "Python 3"
    }
  },
  "cells": [
    {
      "cell_type": "markdown",
      "metadata": {
        "id": "view-in-github",
        "colab_type": "text"
      },
      "source": [
        "<a href=\"https://colab.research.google.com/github/Ayanlola2002/ZENDY/blob/master/Sendy_Zindy.ipynb\" target=\"_parent\"><img src=\"https://colab.research.google.com/assets/colab-badge.svg\" alt=\"Open In Colab\"/></a>"
      ]
    },
    {
      "cell_type": "code",
      "metadata": {
        "id": "M2HEkHUupVwX",
        "colab_type": "code",
        "colab": {}
      },
      "source": [
        "import pandas as pd\n",
        "from datetime import datetime\n",
        "import numpy as np\n",
        "from dateutil.relativedelta import relativedelta\n",
        "from datetime import date\n",
        "import os"
      ],
      "execution_count": 0,
      "outputs": []
    },
    {
      "cell_type": "code",
      "metadata": {
        "id": "8krIChwLqeti",
        "colab_type": "code",
        "colab": {}
      },
      "source": [
        "\n",
        "train=pd.read_csv('/content/Train.csv')\n",
        "\n",
        "test=pd.read_csv('/content/Test.csv')\n",
        "\n",
        "Riders=pd.read_csv('/content/Riders.csv')\n"
      ],
      "execution_count": 0,
      "outputs": []
    },
    {
      "cell_type": "code",
      "metadata": {
        "id": "Z9KOt8JZrD-X",
        "colab_type": "code",
        "colab": {}
      },
      "source": [
        "sample=pd.read_csv('/content/SampleSubmission.csv')"
      ],
      "execution_count": 0,
      "outputs": []
    },
    {
      "cell_type": "code",
      "metadata": {
        "id": "Kj5fc_u-u19a",
        "colab_type": "code",
        "outputId": "b642ee64-0ce0-442d-e6f1-fd3f1bd1d639",
        "colab": {
          "base_uri": "https://localhost:8080/",
          "height": 411
        }
      },
      "source": [
        "train.tail()"
      ],
      "execution_count": 376,
      "outputs": [
        {
          "output_type": "execute_result",
          "data": {
            "text/html": [
              "<div>\n",
              "<style scoped>\n",
              "    .dataframe tbody tr th:only-of-type {\n",
              "        vertical-align: middle;\n",
              "    }\n",
              "\n",
              "    .dataframe tbody tr th {\n",
              "        vertical-align: top;\n",
              "    }\n",
              "\n",
              "    .dataframe thead th {\n",
              "        text-align: right;\n",
              "    }\n",
              "</style>\n",
              "<table border=\"1\" class=\"dataframe\">\n",
              "  <thead>\n",
              "    <tr style=\"text-align: right;\">\n",
              "      <th></th>\n",
              "      <th>Order No</th>\n",
              "      <th>User Id</th>\n",
              "      <th>Vehicle Type</th>\n",
              "      <th>Platform Type</th>\n",
              "      <th>Personal or Business</th>\n",
              "      <th>Placement - Day of Month</th>\n",
              "      <th>Placement - Weekday (Mo = 1)</th>\n",
              "      <th>Placement - Time</th>\n",
              "      <th>Confirmation - Day of Month</th>\n",
              "      <th>Confirmation - Weekday (Mo = 1)</th>\n",
              "      <th>Confirmation - Time</th>\n",
              "      <th>Arrival at Pickup - Day of Month</th>\n",
              "      <th>Arrival at Pickup - Weekday (Mo = 1)</th>\n",
              "      <th>Arrival at Pickup - Time</th>\n",
              "      <th>Pickup - Day of Month</th>\n",
              "      <th>Pickup - Weekday (Mo = 1)</th>\n",
              "      <th>Pickup - Time</th>\n",
              "      <th>Arrival at Destination - Day of Month</th>\n",
              "      <th>Arrival at Destination - Weekday (Mo = 1)</th>\n",
              "      <th>Arrival at Destination - Time</th>\n",
              "      <th>Distance (KM)</th>\n",
              "      <th>Temperature</th>\n",
              "      <th>Precipitation in millimeters</th>\n",
              "      <th>Pickup Lat</th>\n",
              "      <th>Pickup Long</th>\n",
              "      <th>Destination Lat</th>\n",
              "      <th>Destination Long</th>\n",
              "      <th>Rider Id</th>\n",
              "      <th>Time from Pickup to Arrival</th>\n",
              "    </tr>\n",
              "  </thead>\n",
              "  <tbody>\n",
              "    <tr>\n",
              "      <th>21196</th>\n",
              "      <td>Order_No_8834</td>\n",
              "      <td>User_Id_2001</td>\n",
              "      <td>Bike</td>\n",
              "      <td>3</td>\n",
              "      <td>Personal</td>\n",
              "      <td>20</td>\n",
              "      <td>3</td>\n",
              "      <td>3:54:38 PM</td>\n",
              "      <td>20</td>\n",
              "      <td>3</td>\n",
              "      <td>3:55:09 PM</td>\n",
              "      <td>20</td>\n",
              "      <td>3</td>\n",
              "      <td>3:58:49 PM</td>\n",
              "      <td>20</td>\n",
              "      <td>3</td>\n",
              "      <td>4:20:08 PM</td>\n",
              "      <td>20</td>\n",
              "      <td>3</td>\n",
              "      <td>4:20:17 PM</td>\n",
              "      <td>3</td>\n",
              "      <td>28.6</td>\n",
              "      <td>NaN</td>\n",
              "      <td>-1.258414</td>\n",
              "      <td>36.804800</td>\n",
              "      <td>-1.275285</td>\n",
              "      <td>36.802702</td>\n",
              "      <td>Rider_Id_953</td>\n",
              "      <td>9</td>\n",
              "    </tr>\n",
              "    <tr>\n",
              "      <th>21197</th>\n",
              "      <td>Order_No_22892</td>\n",
              "      <td>User_Id_1796</td>\n",
              "      <td>Bike</td>\n",
              "      <td>3</td>\n",
              "      <td>Business</td>\n",
              "      <td>13</td>\n",
              "      <td>6</td>\n",
              "      <td>10:13:34 AM</td>\n",
              "      <td>13</td>\n",
              "      <td>6</td>\n",
              "      <td>10:13:41 AM</td>\n",
              "      <td>13</td>\n",
              "      <td>6</td>\n",
              "      <td>10:20:04 AM</td>\n",
              "      <td>13</td>\n",
              "      <td>6</td>\n",
              "      <td>10:33:27 AM</td>\n",
              "      <td>13</td>\n",
              "      <td>6</td>\n",
              "      <td>10:46:17 AM</td>\n",
              "      <td>7</td>\n",
              "      <td>26.0</td>\n",
              "      <td>NaN</td>\n",
              "      <td>-1.307143</td>\n",
              "      <td>36.825009</td>\n",
              "      <td>-1.331619</td>\n",
              "      <td>36.847976</td>\n",
              "      <td>Rider_Id_155</td>\n",
              "      <td>770</td>\n",
              "    </tr>\n",
              "    <tr>\n",
              "      <th>21198</th>\n",
              "      <td>Order_No_2831</td>\n",
              "      <td>User_Id_2956</td>\n",
              "      <td>Bike</td>\n",
              "      <td>3</td>\n",
              "      <td>Business</td>\n",
              "      <td>7</td>\n",
              "      <td>4</td>\n",
              "      <td>5:06:16 PM</td>\n",
              "      <td>7</td>\n",
              "      <td>4</td>\n",
              "      <td>5:07:09 PM</td>\n",
              "      <td>7</td>\n",
              "      <td>4</td>\n",
              "      <td>5:30:17 PM</td>\n",
              "      <td>7</td>\n",
              "      <td>4</td>\n",
              "      <td>5:50:52 PM</td>\n",
              "      <td>7</td>\n",
              "      <td>4</td>\n",
              "      <td>6:40:05 PM</td>\n",
              "      <td>20</td>\n",
              "      <td>29.2</td>\n",
              "      <td>NaN</td>\n",
              "      <td>-1.286018</td>\n",
              "      <td>36.897534</td>\n",
              "      <td>-1.258414</td>\n",
              "      <td>36.804800</td>\n",
              "      <td>Rider_Id_697</td>\n",
              "      <td>2953</td>\n",
              "    </tr>\n",
              "    <tr>\n",
              "      <th>21199</th>\n",
              "      <td>Order_No_6174</td>\n",
              "      <td>User_Id_2524</td>\n",
              "      <td>Bike</td>\n",
              "      <td>1</td>\n",
              "      <td>Personal</td>\n",
              "      <td>4</td>\n",
              "      <td>3</td>\n",
              "      <td>9:31:39 AM</td>\n",
              "      <td>4</td>\n",
              "      <td>3</td>\n",
              "      <td>9:31:53 AM</td>\n",
              "      <td>4</td>\n",
              "      <td>3</td>\n",
              "      <td>9:38:59 AM</td>\n",
              "      <td>4</td>\n",
              "      <td>3</td>\n",
              "      <td>9:45:15 AM</td>\n",
              "      <td>4</td>\n",
              "      <td>3</td>\n",
              "      <td>10:08:15 AM</td>\n",
              "      <td>13</td>\n",
              "      <td>15.0</td>\n",
              "      <td>NaN</td>\n",
              "      <td>-1.250030</td>\n",
              "      <td>36.874167</td>\n",
              "      <td>-1.279209</td>\n",
              "      <td>36.794872</td>\n",
              "      <td>Rider_Id_347</td>\n",
              "      <td>1380</td>\n",
              "    </tr>\n",
              "    <tr>\n",
              "      <th>21200</th>\n",
              "      <td>Order_No_9836</td>\n",
              "      <td>User_Id_718</td>\n",
              "      <td>Bike</td>\n",
              "      <td>3</td>\n",
              "      <td>Business</td>\n",
              "      <td>26</td>\n",
              "      <td>2</td>\n",
              "      <td>2:19:47 PM</td>\n",
              "      <td>26</td>\n",
              "      <td>2</td>\n",
              "      <td>2:20:01 PM</td>\n",
              "      <td>26</td>\n",
              "      <td>2</td>\n",
              "      <td>2:24:29 PM</td>\n",
              "      <td>26</td>\n",
              "      <td>2</td>\n",
              "      <td>2:41:55 PM</td>\n",
              "      <td>26</td>\n",
              "      <td>2</td>\n",
              "      <td>3:17:23 PM</td>\n",
              "      <td>12</td>\n",
              "      <td>30.9</td>\n",
              "      <td>NaN</td>\n",
              "      <td>-1.255189</td>\n",
              "      <td>36.782203</td>\n",
              "      <td>-1.320157</td>\n",
              "      <td>36.830887</td>\n",
              "      <td>Rider_Id_177</td>\n",
              "      <td>2128</td>\n",
              "    </tr>\n",
              "  </tbody>\n",
              "</table>\n",
              "</div>"
            ],
            "text/plain": [
              "             Order No       User Id  ...      Rider Id  Time from Pickup to Arrival\n",
              "21196   Order_No_8834  User_Id_2001  ...  Rider_Id_953                            9\n",
              "21197  Order_No_22892  User_Id_1796  ...  Rider_Id_155                          770\n",
              "21198   Order_No_2831  User_Id_2956  ...  Rider_Id_697                         2953\n",
              "21199   Order_No_6174  User_Id_2524  ...  Rider_Id_347                         1380\n",
              "21200   Order_No_9836   User_Id_718  ...  Rider_Id_177                         2128\n",
              "\n",
              "[5 rows x 29 columns]"
            ]
          },
          "metadata": {
            "tags": []
          },
          "execution_count": 376
        }
      ]
    },
    {
      "cell_type": "code",
      "metadata": {
        "id": "8Ig02H6nvHrL",
        "colab_type": "code",
        "outputId": "808dcd4b-f536-44a6-b40d-e891860bdde0",
        "colab": {
          "base_uri": "https://localhost:8080/",
          "height": 411
        }
      },
      "source": [
        "test.head()"
      ],
      "execution_count": 377,
      "outputs": [
        {
          "output_type": "execute_result",
          "data": {
            "text/html": [
              "<div>\n",
              "<style scoped>\n",
              "    .dataframe tbody tr th:only-of-type {\n",
              "        vertical-align: middle;\n",
              "    }\n",
              "\n",
              "    .dataframe tbody tr th {\n",
              "        vertical-align: top;\n",
              "    }\n",
              "\n",
              "    .dataframe thead th {\n",
              "        text-align: right;\n",
              "    }\n",
              "</style>\n",
              "<table border=\"1\" class=\"dataframe\">\n",
              "  <thead>\n",
              "    <tr style=\"text-align: right;\">\n",
              "      <th></th>\n",
              "      <th>Order No</th>\n",
              "      <th>User Id</th>\n",
              "      <th>Vehicle Type</th>\n",
              "      <th>Platform Type</th>\n",
              "      <th>Personal or Business</th>\n",
              "      <th>Placement - Day of Month</th>\n",
              "      <th>Placement - Weekday (Mo = 1)</th>\n",
              "      <th>Placement - Time</th>\n",
              "      <th>Confirmation - Day of Month</th>\n",
              "      <th>Confirmation - Weekday (Mo = 1)</th>\n",
              "      <th>Confirmation - Time</th>\n",
              "      <th>Arrival at Pickup - Day of Month</th>\n",
              "      <th>Arrival at Pickup - Weekday (Mo = 1)</th>\n",
              "      <th>Arrival at Pickup - Time</th>\n",
              "      <th>Pickup - Day of Month</th>\n",
              "      <th>Pickup - Weekday (Mo = 1)</th>\n",
              "      <th>Pickup - Time</th>\n",
              "      <th>Distance (KM)</th>\n",
              "      <th>Temperature</th>\n",
              "      <th>Precipitation in millimeters</th>\n",
              "      <th>Pickup Lat</th>\n",
              "      <th>Pickup Long</th>\n",
              "      <th>Destination Lat</th>\n",
              "      <th>Destination Long</th>\n",
              "      <th>Rider Id</th>\n",
              "    </tr>\n",
              "  </thead>\n",
              "  <tbody>\n",
              "    <tr>\n",
              "      <th>0</th>\n",
              "      <td>Order_No_19248</td>\n",
              "      <td>User_Id_3355</td>\n",
              "      <td>Bike</td>\n",
              "      <td>3</td>\n",
              "      <td>Business</td>\n",
              "      <td>27</td>\n",
              "      <td>3</td>\n",
              "      <td>4:44:10 PM</td>\n",
              "      <td>27</td>\n",
              "      <td>3</td>\n",
              "      <td>4:44:29 PM</td>\n",
              "      <td>27</td>\n",
              "      <td>3</td>\n",
              "      <td>4:53:04 PM</td>\n",
              "      <td>27</td>\n",
              "      <td>3</td>\n",
              "      <td>5:06:47 PM</td>\n",
              "      <td>8</td>\n",
              "      <td>NaN</td>\n",
              "      <td>NaN</td>\n",
              "      <td>-1.333275</td>\n",
              "      <td>36.870815</td>\n",
              "      <td>-1.305249</td>\n",
              "      <td>36.822390</td>\n",
              "      <td>Rider_Id_192</td>\n",
              "    </tr>\n",
              "    <tr>\n",
              "      <th>1</th>\n",
              "      <td>Order_No_12736</td>\n",
              "      <td>User_Id_3647</td>\n",
              "      <td>Bike</td>\n",
              "      <td>3</td>\n",
              "      <td>Business</td>\n",
              "      <td>17</td>\n",
              "      <td>5</td>\n",
              "      <td>12:57:35 PM</td>\n",
              "      <td>17</td>\n",
              "      <td>5</td>\n",
              "      <td>12:59:17 PM</td>\n",
              "      <td>17</td>\n",
              "      <td>5</td>\n",
              "      <td>1:20:27 PM</td>\n",
              "      <td>17</td>\n",
              "      <td>5</td>\n",
              "      <td>1:25:37 PM</td>\n",
              "      <td>5</td>\n",
              "      <td>NaN</td>\n",
              "      <td>NaN</td>\n",
              "      <td>-1.272639</td>\n",
              "      <td>36.794723</td>\n",
              "      <td>-1.277007</td>\n",
              "      <td>36.823907</td>\n",
              "      <td>Rider_Id_868</td>\n",
              "    </tr>\n",
              "    <tr>\n",
              "      <th>2</th>\n",
              "      <td>Order_No_768</td>\n",
              "      <td>User_Id_2154</td>\n",
              "      <td>Bike</td>\n",
              "      <td>3</td>\n",
              "      <td>Business</td>\n",
              "      <td>27</td>\n",
              "      <td>4</td>\n",
              "      <td>11:08:14 AM</td>\n",
              "      <td>27</td>\n",
              "      <td>4</td>\n",
              "      <td>11:25:05 AM</td>\n",
              "      <td>27</td>\n",
              "      <td>4</td>\n",
              "      <td>11:33:20 AM</td>\n",
              "      <td>27</td>\n",
              "      <td>4</td>\n",
              "      <td>11:57:54 AM</td>\n",
              "      <td>5</td>\n",
              "      <td>22.8</td>\n",
              "      <td>NaN</td>\n",
              "      <td>-1.290894</td>\n",
              "      <td>36.822971</td>\n",
              "      <td>-1.276574</td>\n",
              "      <td>36.851365</td>\n",
              "      <td>Rider_Id_26</td>\n",
              "    </tr>\n",
              "    <tr>\n",
              "      <th>3</th>\n",
              "      <td>Order_No_15332</td>\n",
              "      <td>User_Id_2910</td>\n",
              "      <td>Bike</td>\n",
              "      <td>3</td>\n",
              "      <td>Business</td>\n",
              "      <td>17</td>\n",
              "      <td>1</td>\n",
              "      <td>1:51:35 PM</td>\n",
              "      <td>17</td>\n",
              "      <td>1</td>\n",
              "      <td>1:53:27 PM</td>\n",
              "      <td>17</td>\n",
              "      <td>1</td>\n",
              "      <td>2:02:41 PM</td>\n",
              "      <td>17</td>\n",
              "      <td>1</td>\n",
              "      <td>2:16:52 PM</td>\n",
              "      <td>5</td>\n",
              "      <td>24.5</td>\n",
              "      <td>NaN</td>\n",
              "      <td>-1.290503</td>\n",
              "      <td>36.809646</td>\n",
              "      <td>-1.303382</td>\n",
              "      <td>36.790658</td>\n",
              "      <td>Rider_Id_685</td>\n",
              "    </tr>\n",
              "    <tr>\n",
              "      <th>4</th>\n",
              "      <td>Order_No_21373</td>\n",
              "      <td>User_Id_1205</td>\n",
              "      <td>Bike</td>\n",
              "      <td>3</td>\n",
              "      <td>Business</td>\n",
              "      <td>11</td>\n",
              "      <td>2</td>\n",
              "      <td>11:30:28 AM</td>\n",
              "      <td>11</td>\n",
              "      <td>2</td>\n",
              "      <td>11:34:45 AM</td>\n",
              "      <td>11</td>\n",
              "      <td>2</td>\n",
              "      <td>11:47:19 AM</td>\n",
              "      <td>11</td>\n",
              "      <td>2</td>\n",
              "      <td>11:56:04 AM</td>\n",
              "      <td>6</td>\n",
              "      <td>24.4</td>\n",
              "      <td>NaN</td>\n",
              "      <td>-1.281081</td>\n",
              "      <td>36.814423</td>\n",
              "      <td>-1.266467</td>\n",
              "      <td>36.792161</td>\n",
              "      <td>Rider_Id_858</td>\n",
              "    </tr>\n",
              "  </tbody>\n",
              "</table>\n",
              "</div>"
            ],
            "text/plain": [
              "         Order No       User Id  ... Destination Long      Rider Id\n",
              "0  Order_No_19248  User_Id_3355  ...        36.822390  Rider_Id_192\n",
              "1  Order_No_12736  User_Id_3647  ...        36.823907  Rider_Id_868\n",
              "2    Order_No_768  User_Id_2154  ...        36.851365   Rider_Id_26\n",
              "3  Order_No_15332  User_Id_2910  ...        36.790658  Rider_Id_685\n",
              "4  Order_No_21373  User_Id_1205  ...        36.792161  Rider_Id_858\n",
              "\n",
              "[5 rows x 25 columns]"
            ]
          },
          "metadata": {
            "tags": []
          },
          "execution_count": 377
        }
      ]
    },
    {
      "cell_type": "code",
      "metadata": {
        "id": "7ymdka3lvML1",
        "colab_type": "code",
        "outputId": "7fa77c7d-86be-4d34-db89-255b998be087",
        "colab": {
          "base_uri": "https://localhost:8080/",
          "height": 204
        }
      },
      "source": [
        "sample.head()"
      ],
      "execution_count": 378,
      "outputs": [
        {
          "output_type": "execute_result",
          "data": {
            "text/html": [
              "<div>\n",
              "<style scoped>\n",
              "    .dataframe tbody tr th:only-of-type {\n",
              "        vertical-align: middle;\n",
              "    }\n",
              "\n",
              "    .dataframe tbody tr th {\n",
              "        vertical-align: top;\n",
              "    }\n",
              "\n",
              "    .dataframe thead th {\n",
              "        text-align: right;\n",
              "    }\n",
              "</style>\n",
              "<table border=\"1\" class=\"dataframe\">\n",
              "  <thead>\n",
              "    <tr style=\"text-align: right;\">\n",
              "      <th></th>\n",
              "      <th>Order_No</th>\n",
              "      <th>Time from Pickup to Arrival</th>\n",
              "    </tr>\n",
              "  </thead>\n",
              "  <tbody>\n",
              "    <tr>\n",
              "      <th>0</th>\n",
              "      <td>Order_No_19248</td>\n",
              "      <td>567.0</td>\n",
              "    </tr>\n",
              "    <tr>\n",
              "      <th>1</th>\n",
              "      <td>Order_No_12736</td>\n",
              "      <td>4903.0</td>\n",
              "    </tr>\n",
              "    <tr>\n",
              "      <th>2</th>\n",
              "      <td>Order_No_768</td>\n",
              "      <td>5649.0</td>\n",
              "    </tr>\n",
              "    <tr>\n",
              "      <th>3</th>\n",
              "      <td>Order_No_15332</td>\n",
              "      <td>NaN</td>\n",
              "    </tr>\n",
              "    <tr>\n",
              "      <th>4</th>\n",
              "      <td>Order_No_21373</td>\n",
              "      <td>NaN</td>\n",
              "    </tr>\n",
              "  </tbody>\n",
              "</table>\n",
              "</div>"
            ],
            "text/plain": [
              "         Order_No  Time from Pickup to Arrival\n",
              "0  Order_No_19248                        567.0\n",
              "1  Order_No_12736                       4903.0\n",
              "2    Order_No_768                       5649.0\n",
              "3  Order_No_15332                          NaN\n",
              "4  Order_No_21373                          NaN"
            ]
          },
          "metadata": {
            "tags": []
          },
          "execution_count": 378
        }
      ]
    },
    {
      "cell_type": "code",
      "metadata": {
        "id": "Mha610lmFMHc",
        "colab_type": "code",
        "outputId": "0a367b8a-27b8-44c3-d892-d9c0c86ac9bf",
        "colab": {
          "base_uri": "https://localhost:8080/",
          "height": 51
        }
      },
      "source": [
        "print(train.shape)\n",
        "print(test.shape)"
      ],
      "execution_count": 379,
      "outputs": [
        {
          "output_type": "stream",
          "text": [
            "(21201, 29)\n",
            "(7068, 25)\n"
          ],
          "name": "stdout"
        }
      ]
    },
    {
      "cell_type": "code",
      "metadata": {
        "id": "NgeKdum9vYwb",
        "colab_type": "code",
        "outputId": "cea87501-54aa-4820-bdba-4d4a5fbc290c",
        "colab": {
          "base_uri": "https://localhost:8080/",
          "height": 527
        }
      },
      "source": [
        "train.dtypes"
      ],
      "execution_count": 380,
      "outputs": [
        {
          "output_type": "execute_result",
          "data": {
            "text/plain": [
              "Order No                                      object\n",
              "User Id                                       object\n",
              "Vehicle Type                                  object\n",
              "Platform Type                                  int64\n",
              "Personal or Business                          object\n",
              "Placement - Day of Month                       int64\n",
              "Placement - Weekday (Mo = 1)                   int64\n",
              "Placement - Time                              object\n",
              "Confirmation - Day of Month                    int64\n",
              "Confirmation - Weekday (Mo = 1)                int64\n",
              "Confirmation - Time                           object\n",
              "Arrival at Pickup - Day of Month               int64\n",
              "Arrival at Pickup - Weekday (Mo = 1)           int64\n",
              "Arrival at Pickup - Time                      object\n",
              "Pickup - Day of Month                          int64\n",
              "Pickup - Weekday (Mo = 1)                      int64\n",
              "Pickup - Time                                 object\n",
              "Arrival at Destination - Day of Month          int64\n",
              "Arrival at Destination - Weekday (Mo = 1)      int64\n",
              "Arrival at Destination - Time                 object\n",
              "Distance (KM)                                  int64\n",
              "Temperature                                  float64\n",
              "Precipitation in millimeters                 float64\n",
              "Pickup Lat                                   float64\n",
              "Pickup Long                                  float64\n",
              "Destination Lat                              float64\n",
              "Destination Long                             float64\n",
              "Rider Id                                      object\n",
              "Time from Pickup to Arrival                    int64\n",
              "dtype: object"
            ]
          },
          "metadata": {
            "tags": []
          },
          "execution_count": 380
        }
      ]
    },
    {
      "cell_type": "code",
      "metadata": {
        "id": "Ja6uI-7-wcH3",
        "colab_type": "code",
        "outputId": "14b2c5d1-1e11-4246-9d19-ef9018c5f581",
        "colab": {
          "base_uri": "https://localhost:8080/",
          "height": 204
        }
      },
      "source": [
        "Riders.head()"
      ],
      "execution_count": 381,
      "outputs": [
        {
          "output_type": "execute_result",
          "data": {
            "text/html": [
              "<div>\n",
              "<style scoped>\n",
              "    .dataframe tbody tr th:only-of-type {\n",
              "        vertical-align: middle;\n",
              "    }\n",
              "\n",
              "    .dataframe tbody tr th {\n",
              "        vertical-align: top;\n",
              "    }\n",
              "\n",
              "    .dataframe thead th {\n",
              "        text-align: right;\n",
              "    }\n",
              "</style>\n",
              "<table border=\"1\" class=\"dataframe\">\n",
              "  <thead>\n",
              "    <tr style=\"text-align: right;\">\n",
              "      <th></th>\n",
              "      <th>Rider Id</th>\n",
              "      <th>No_Of_Orders</th>\n",
              "      <th>Age</th>\n",
              "      <th>Average_Rating</th>\n",
              "      <th>No_of_Ratings</th>\n",
              "    </tr>\n",
              "  </thead>\n",
              "  <tbody>\n",
              "    <tr>\n",
              "      <th>0</th>\n",
              "      <td>Rider_Id_396</td>\n",
              "      <td>2946</td>\n",
              "      <td>2298</td>\n",
              "      <td>14.0</td>\n",
              "      <td>1159</td>\n",
              "    </tr>\n",
              "    <tr>\n",
              "      <th>1</th>\n",
              "      <td>Rider_Id_479</td>\n",
              "      <td>360</td>\n",
              "      <td>951</td>\n",
              "      <td>13.5</td>\n",
              "      <td>176</td>\n",
              "    </tr>\n",
              "    <tr>\n",
              "      <th>2</th>\n",
              "      <td>Rider_Id_648</td>\n",
              "      <td>1746</td>\n",
              "      <td>821</td>\n",
              "      <td>14.3</td>\n",
              "      <td>466</td>\n",
              "    </tr>\n",
              "    <tr>\n",
              "      <th>3</th>\n",
              "      <td>Rider_Id_753</td>\n",
              "      <td>314</td>\n",
              "      <td>980</td>\n",
              "      <td>12.5</td>\n",
              "      <td>75</td>\n",
              "    </tr>\n",
              "    <tr>\n",
              "      <th>4</th>\n",
              "      <td>Rider_Id_335</td>\n",
              "      <td>536</td>\n",
              "      <td>1113</td>\n",
              "      <td>13.7</td>\n",
              "      <td>156</td>\n",
              "    </tr>\n",
              "  </tbody>\n",
              "</table>\n",
              "</div>"
            ],
            "text/plain": [
              "       Rider Id  No_Of_Orders   Age  Average_Rating  No_of_Ratings\n",
              "0  Rider_Id_396          2946  2298            14.0           1159\n",
              "1  Rider_Id_479           360   951            13.5            176\n",
              "2  Rider_Id_648          1746   821            14.3            466\n",
              "3  Rider_Id_753           314   980            12.5             75\n",
              "4  Rider_Id_335           536  1113            13.7            156"
            ]
          },
          "metadata": {
            "tags": []
          },
          "execution_count": 381
        }
      ]
    },
    {
      "cell_type": "code",
      "metadata": {
        "id": "O3X3EFZ0xEte",
        "colab_type": "code",
        "colab": {}
      },
      "source": [
        "Varriable=pd.read_csv('/content/VariableDefinitions.csv')"
      ],
      "execution_count": 0,
      "outputs": []
    },
    {
      "cell_type": "code",
      "metadata": {
        "id": "HXsr9S5yxbzJ",
        "colab_type": "code",
        "outputId": "3f5ebf8c-dad5-424a-caf6-96f6c7723863",
        "colab": {
          "base_uri": "https://localhost:8080/",
          "height": 204
        }
      },
      "source": [
        "Varriable.head()"
      ],
      "execution_count": 383,
      "outputs": [
        {
          "output_type": "execute_result",
          "data": {
            "text/html": [
              "<div>\n",
              "<style scoped>\n",
              "    .dataframe tbody tr th:only-of-type {\n",
              "        vertical-align: middle;\n",
              "    }\n",
              "\n",
              "    .dataframe tbody tr th {\n",
              "        vertical-align: top;\n",
              "    }\n",
              "\n",
              "    .dataframe thead th {\n",
              "        text-align: right;\n",
              "    }\n",
              "</style>\n",
              "<table border=\"1\" class=\"dataframe\">\n",
              "  <thead>\n",
              "    <tr style=\"text-align: right;\">\n",
              "      <th></th>\n",
              "      <th>Order No</th>\n",
              "      <th>Unique number identifying the order</th>\n",
              "    </tr>\n",
              "  </thead>\n",
              "  <tbody>\n",
              "    <tr>\n",
              "      <th>0</th>\n",
              "      <td>User Id</td>\n",
              "      <td>Unique number identifying the customer on a pl...</td>\n",
              "    </tr>\n",
              "    <tr>\n",
              "      <th>1</th>\n",
              "      <td>Vehicle Type</td>\n",
              "      <td>For this competition limited to bikes, however...</td>\n",
              "    </tr>\n",
              "    <tr>\n",
              "      <th>2</th>\n",
              "      <td>Platform Type</td>\n",
              "      <td>Platform used to place the order, there are 4 ...</td>\n",
              "    </tr>\n",
              "    <tr>\n",
              "      <th>3</th>\n",
              "      <td>Personal or Business</td>\n",
              "      <td>Customer type</td>\n",
              "    </tr>\n",
              "    <tr>\n",
              "      <th>4</th>\n",
              "      <td>Placement - Day of Month</td>\n",
              "      <td>Placement - Day of Month i.e 1-31</td>\n",
              "    </tr>\n",
              "  </tbody>\n",
              "</table>\n",
              "</div>"
            ],
            "text/plain": [
              "                   Order No                Unique number identifying the order\n",
              "0                   User Id  Unique number identifying the customer on a pl...\n",
              "1              Vehicle Type  For this competition limited to bikes, however...\n",
              "2             Platform Type  Platform used to place the order, there are 4 ...\n",
              "3      Personal or Business                                      Customer type\n",
              "4  Placement - Day of Month                  Placement - Day of Month i.e 1-31"
            ]
          },
          "metadata": {
            "tags": []
          },
          "execution_count": 383
        }
      ]
    },
    {
      "cell_type": "code",
      "metadata": {
        "id": "57-FGvQwtJt9",
        "colab_type": "code",
        "outputId": "b2773bd3-7fef-4ffa-991a-809e38873c4d",
        "colab": {
          "base_uri": "https://localhost:8080/",
          "height": 595
        }
      },
      "source": [
        "train.info()"
      ],
      "execution_count": 384,
      "outputs": [
        {
          "output_type": "stream",
          "text": [
            "<class 'pandas.core.frame.DataFrame'>\n",
            "RangeIndex: 21201 entries, 0 to 21200\n",
            "Data columns (total 29 columns):\n",
            "Order No                                     21201 non-null object\n",
            "User Id                                      21201 non-null object\n",
            "Vehicle Type                                 21201 non-null object\n",
            "Platform Type                                21201 non-null int64\n",
            "Personal or Business                         21201 non-null object\n",
            "Placement - Day of Month                     21201 non-null int64\n",
            "Placement - Weekday (Mo = 1)                 21201 non-null int64\n",
            "Placement - Time                             21201 non-null object\n",
            "Confirmation - Day of Month                  21201 non-null int64\n",
            "Confirmation - Weekday (Mo = 1)              21201 non-null int64\n",
            "Confirmation - Time                          21201 non-null object\n",
            "Arrival at Pickup - Day of Month             21201 non-null int64\n",
            "Arrival at Pickup - Weekday (Mo = 1)         21201 non-null int64\n",
            "Arrival at Pickup - Time                     21201 non-null object\n",
            "Pickup - Day of Month                        21201 non-null int64\n",
            "Pickup - Weekday (Mo = 1)                    21201 non-null int64\n",
            "Pickup - Time                                21201 non-null object\n",
            "Arrival at Destination - Day of Month        21201 non-null int64\n",
            "Arrival at Destination - Weekday (Mo = 1)    21201 non-null int64\n",
            "Arrival at Destination - Time                21201 non-null object\n",
            "Distance (KM)                                21201 non-null int64\n",
            "Temperature                                  16835 non-null float64\n",
            "Precipitation in millimeters                 552 non-null float64\n",
            "Pickup Lat                                   21201 non-null float64\n",
            "Pickup Long                                  21201 non-null float64\n",
            "Destination Lat                              21201 non-null float64\n",
            "Destination Long                             21201 non-null float64\n",
            "Rider Id                                     21201 non-null object\n",
            "Time from Pickup to Arrival                  21201 non-null int64\n",
            "dtypes: float64(6), int64(13), object(10)\n",
            "memory usage: 4.7+ MB\n"
          ],
          "name": "stdout"
        }
      ]
    },
    {
      "cell_type": "code",
      "metadata": {
        "id": "T1bchcZjuS0t",
        "colab_type": "code",
        "outputId": "c6782b6f-9754-4011-dbc1-f4292cc33992",
        "colab": {
          "base_uri": "https://localhost:8080/",
          "height": 527
        }
      },
      "source": [
        "train.isnull().sum()"
      ],
      "execution_count": 385,
      "outputs": [
        {
          "output_type": "execute_result",
          "data": {
            "text/plain": [
              "Order No                                         0\n",
              "User Id                                          0\n",
              "Vehicle Type                                     0\n",
              "Platform Type                                    0\n",
              "Personal or Business                             0\n",
              "Placement - Day of Month                         0\n",
              "Placement - Weekday (Mo = 1)                     0\n",
              "Placement - Time                                 0\n",
              "Confirmation - Day of Month                      0\n",
              "Confirmation - Weekday (Mo = 1)                  0\n",
              "Confirmation - Time                              0\n",
              "Arrival at Pickup - Day of Month                 0\n",
              "Arrival at Pickup - Weekday (Mo = 1)             0\n",
              "Arrival at Pickup - Time                         0\n",
              "Pickup - Day of Month                            0\n",
              "Pickup - Weekday (Mo = 1)                        0\n",
              "Pickup - Time                                    0\n",
              "Arrival at Destination - Day of Month            0\n",
              "Arrival at Destination - Weekday (Mo = 1)        0\n",
              "Arrival at Destination - Time                    0\n",
              "Distance (KM)                                    0\n",
              "Temperature                                   4366\n",
              "Precipitation in millimeters                 20649\n",
              "Pickup Lat                                       0\n",
              "Pickup Long                                      0\n",
              "Destination Lat                                  0\n",
              "Destination Long                                 0\n",
              "Rider Id                                         0\n",
              "Time from Pickup to Arrival                      0\n",
              "dtype: int64"
            ]
          },
          "metadata": {
            "tags": []
          },
          "execution_count": 385
        }
      ]
    },
    {
      "cell_type": "code",
      "metadata": {
        "id": "vhW1YW5hIS_C",
        "colab_type": "code",
        "colab": {}
      },
      "source": [
        "train.dropna(subset=['Distance (KM)','Pickup Lat','Pickup Long','Destination Lat','Destination Long','Rider Id','Time from Pickup to Arrival'],inplace=True)\n",
        "#train.dropna(how='any',inplace=True)"
      ],
      "execution_count": 0,
      "outputs": []
    },
    {
      "cell_type": "code",
      "metadata": {
        "id": "U1ZHa3wdIwN8",
        "colab_type": "code",
        "outputId": "d63c14fa-2fcc-4b87-bbc7-54e049181f7f",
        "colab": {
          "base_uri": "https://localhost:8080/",
          "height": 527
        }
      },
      "source": [
        "train.isnull().sum()"
      ],
      "execution_count": 387,
      "outputs": [
        {
          "output_type": "execute_result",
          "data": {
            "text/plain": [
              "Order No                                         0\n",
              "User Id                                          0\n",
              "Vehicle Type                                     0\n",
              "Platform Type                                    0\n",
              "Personal or Business                             0\n",
              "Placement - Day of Month                         0\n",
              "Placement - Weekday (Mo = 1)                     0\n",
              "Placement - Time                                 0\n",
              "Confirmation - Day of Month                      0\n",
              "Confirmation - Weekday (Mo = 1)                  0\n",
              "Confirmation - Time                              0\n",
              "Arrival at Pickup - Day of Month                 0\n",
              "Arrival at Pickup - Weekday (Mo = 1)             0\n",
              "Arrival at Pickup - Time                         0\n",
              "Pickup - Day of Month                            0\n",
              "Pickup - Weekday (Mo = 1)                        0\n",
              "Pickup - Time                                    0\n",
              "Arrival at Destination - Day of Month            0\n",
              "Arrival at Destination - Weekday (Mo = 1)        0\n",
              "Arrival at Destination - Time                    0\n",
              "Distance (KM)                                    0\n",
              "Temperature                                   4366\n",
              "Precipitation in millimeters                 20649\n",
              "Pickup Lat                                       0\n",
              "Pickup Long                                      0\n",
              "Destination Lat                                  0\n",
              "Destination Long                                 0\n",
              "Rider Id                                         0\n",
              "Time from Pickup to Arrival                      0\n",
              "dtype: int64"
            ]
          },
          "metadata": {
            "tags": []
          },
          "execution_count": 387
        }
      ]
    },
    {
      "cell_type": "code",
      "metadata": {
        "id": "QIpkiOK4uvwH",
        "colab_type": "code",
        "outputId": "bedcf9c2-5e45-49db-d218-510e6e80dc10",
        "colab": {
          "base_uri": "https://localhost:8080/",
          "height": 459
        }
      },
      "source": [
        "test.isnull().sum()"
      ],
      "execution_count": 388,
      "outputs": [
        {
          "output_type": "execute_result",
          "data": {
            "text/plain": [
              "Order No                                   0\n",
              "User Id                                    0\n",
              "Vehicle Type                               0\n",
              "Platform Type                              0\n",
              "Personal or Business                       0\n",
              "Placement - Day of Month                   0\n",
              "Placement - Weekday (Mo = 1)               0\n",
              "Placement - Time                           0\n",
              "Confirmation - Day of Month                0\n",
              "Confirmation - Weekday (Mo = 1)            0\n",
              "Confirmation - Time                        0\n",
              "Arrival at Pickup - Day of Month           0\n",
              "Arrival at Pickup - Weekday (Mo = 1)       0\n",
              "Arrival at Pickup - Time                   0\n",
              "Pickup - Day of Month                      0\n",
              "Pickup - Weekday (Mo = 1)                  0\n",
              "Pickup - Time                              0\n",
              "Distance (KM)                              0\n",
              "Temperature                             1437\n",
              "Precipitation in millimeters            6869\n",
              "Pickup Lat                                 0\n",
              "Pickup Long                                0\n",
              "Destination Lat                            0\n",
              "Destination Long                           0\n",
              "Rider Id                                   0\n",
              "dtype: int64"
            ]
          },
          "metadata": {
            "tags": []
          },
          "execution_count": 388
        }
      ]
    },
    {
      "cell_type": "code",
      "metadata": {
        "id": "KoEZexrB_q7m",
        "colab_type": "code",
        "outputId": "1d86bdd7-aafe-4db1-836a-105c3cc944e8",
        "colab": {
          "base_uri": "https://localhost:8080/",
          "height": 119
        }
      },
      "source": [
        "Riders.isnull().sum()"
      ],
      "execution_count": 389,
      "outputs": [
        {
          "output_type": "execute_result",
          "data": {
            "text/plain": [
              "Rider Id          0\n",
              "No_Of_Orders      0\n",
              "Age               0\n",
              "Average_Rating    0\n",
              "No_of_Ratings     0\n",
              "dtype: int64"
            ]
          },
          "metadata": {
            "tags": []
          },
          "execution_count": 389
        }
      ]
    },
    {
      "cell_type": "code",
      "metadata": {
        "id": "BsPHnAvru0RX",
        "colab_type": "code",
        "outputId": "6bdd3fa6-b5db-4853-884b-0297f3cf645f",
        "colab": {
          "base_uri": "https://localhost:8080/",
          "height": 323
        }
      },
      "source": [
        "#checking the values in the temperature feature\n",
        "train['Temperature'].unique()"
      ],
      "execution_count": 390,
      "outputs": [
        {
          "output_type": "execute_result",
          "data": {
            "text/plain": [
              "array([20.4, 26.4,  nan, 19.2, 15.4, 27.2, 20.3, 28.7, 24.6, 16.4, 26.1,\n",
              "       20.9, 24.4, 19.4, 20.8, 23.3, 18.1, 22.5, 26.5, 27.3, 25.6, 20.5,\n",
              "       18.8, 16.1, 25.3, 22.3, 26.3, 29.2, 20. , 18. , 21.6, 24.8, 23. ,\n",
              "       28.1, 14.7, 25. , 26.7, 17.6, 22.7, 23.9, 24.7, 28.2, 19.1, 20.1,\n",
              "       17.7, 17.3, 21.9, 24.5, 26.9, 18.4, 22. , 25.7, 23.7, 25.8, 16.2,\n",
              "       31. , 26.2, 28.6, 19.3, 25.2, 24. , 25.5, 23.6, 30.1, 22.8, 27.7,\n",
              "       21.3, 19.7, 14.5, 30.8, 23.8, 21.7, 24.2, 25.9, 21.2, 18.9, 17.9,\n",
              "       18.7, 25.4, 22.9, 27.8, 22.6, 18.6, 26. , 21.1, 24.9, 18.5, 15.3,\n",
              "       27.5, 22.4, 29.6, 19.9, 27.6, 19.8, 20.6, 16.8, 27.4, 24.1, 22.1,\n",
              "       23.1, 27. , 29.8, 19.6, 21.8, 25.1, 16.9, 30. , 23.5, 23.2, 26.6,\n",
              "       28.5, 17.8, 30.5, 15.1, 21. , 16. , 26.8, 24.3, 18.3, 27.1, 20.7,\n",
              "       18.2, 23.4, 14.8, 15.8, 28.4, 21.4, 17.5, 29. , 19.5, 27.9, 22.2,\n",
              "       28. , 20.2, 29.1, 17.1, 29.9, 15.6, 31.8, 28.3, 30.7, 17.2, 29.7,\n",
              "       16.7, 19. , 29.3, 30.6, 29.4, 21.5, 16.6, 28.9, 15. , 13.9, 17.4,\n",
              "       15.2, 30.3, 29.5, 14.4, 13.8, 30.9, 13.4, 28.8, 16.5, 13.3, 15.5,\n",
              "       31.2, 17. , 16.3, 31.1, 30.4, 30.2, 14. , 14.2, 15.7, 13.5, 14.3,\n",
              "       31.9, 31.3, 15.9, 13.6, 14.9, 32.1, 14.6, 13.7, 13.2, 31.7, 14.1,\n",
              "       32. , 11.2])"
            ]
          },
          "metadata": {
            "tags": []
          },
          "execution_count": 390
        }
      ]
    },
    {
      "cell_type": "code",
      "metadata": {
        "id": "xq0NhSyTwsT7",
        "colab_type": "code",
        "colab": {}
      },
      "source": [
        "#trying to remove the null values\n",
        "train['Temperature'].fillna(train['Temperature'].mean(),inplace=True)\n",
        "test['Temperature'].fillna(test['Temperature'].mean(),inplace=True)\n"
      ],
      "execution_count": 0,
      "outputs": []
    },
    {
      "cell_type": "code",
      "metadata": {
        "id": "2Qsso4WYyjWH",
        "colab_type": "code",
        "colab": {}
      },
      "source": [
        "#trying to remove the null values\n",
        "train['Precipitation in millimeters'].fillna(train['Precipitation in millimeters'].mean(),inplace=True)\n",
        "test['Precipitation in millimeters'].fillna(test['Precipitation in millimeters'].mean(),inplace=True)"
      ],
      "execution_count": 0,
      "outputs": []
    },
    {
      "cell_type": "code",
      "metadata": {
        "id": "XgwxnczyzwFl",
        "colab_type": "code",
        "outputId": "0f1fa6f8-1558-4873-a6fd-4f1ec0c7f8bd",
        "colab": {
          "base_uri": "https://localhost:8080/",
          "height": 51
        }
      },
      "source": [
        "print(\"Null values left in the train set:\", train.isnull().sum().sum())\n",
        "print(\"Null values left in the test set:\", test.isnull().sum().sum())"
      ],
      "execution_count": 393,
      "outputs": [
        {
          "output_type": "stream",
          "text": [
            "Null values left in the train set: 0\n",
            "Null values left in the test set: 0\n"
          ],
          "name": "stdout"
        }
      ]
    },
    {
      "cell_type": "code",
      "metadata": {
        "id": "J2Wp8MiAz75y",
        "colab_type": "code",
        "colab": {}
      },
      "source": [
        "#removing the order Id column  and predictor column\n",
        "order_id=test['Order No']\n",
        "y_train=train.iloc[:,-1]"
      ],
      "execution_count": 0,
      "outputs": []
    },
    {
      "cell_type": "code",
      "metadata": {
        "id": "gfn6BGkWgs16",
        "colab_type": "code",
        "outputId": "e9cf1ceb-1786-48c0-e20c-fffb0322c109",
        "colab": {
          "base_uri": "https://localhost:8080/",
          "height": 255
        }
      },
      "source": [
        "train.columns"
      ],
      "execution_count": 395,
      "outputs": [
        {
          "output_type": "execute_result",
          "data": {
            "text/plain": [
              "Index(['Order No', 'User Id', 'Vehicle Type', 'Platform Type',\n",
              "       'Personal or Business', 'Placement - Day of Month',\n",
              "       'Placement - Weekday (Mo = 1)', 'Placement - Time',\n",
              "       'Confirmation - Day of Month', 'Confirmation - Weekday (Mo = 1)',\n",
              "       'Confirmation - Time', 'Arrival at Pickup - Day of Month',\n",
              "       'Arrival at Pickup - Weekday (Mo = 1)', 'Arrival at Pickup - Time',\n",
              "       'Pickup - Day of Month', 'Pickup - Weekday (Mo = 1)', 'Pickup - Time',\n",
              "       'Arrival at Destination - Day of Month',\n",
              "       'Arrival at Destination - Weekday (Mo = 1)',\n",
              "       'Arrival at Destination - Time', 'Distance (KM)', 'Temperature',\n",
              "       'Precipitation in millimeters', 'Pickup Lat', 'Pickup Long',\n",
              "       'Destination Lat', 'Destination Long', 'Rider Id',\n",
              "       'Time from Pickup to Arrival'],\n",
              "      dtype='object')"
            ]
          },
          "metadata": {
            "tags": []
          },
          "execution_count": 395
        }
      ]
    },
    {
      "cell_type": "code",
      "metadata": {
        "id": "wc4FdLTth_ev",
        "colab_type": "code",
        "outputId": "88c1b4e2-f0cb-44e3-af80-579153c7ba57",
        "colab": {
          "base_uri": "https://localhost:8080/",
          "height": 204
        }
      },
      "source": [
        "test.columns"
      ],
      "execution_count": 396,
      "outputs": [
        {
          "output_type": "execute_result",
          "data": {
            "text/plain": [
              "Index(['Order No', 'User Id', 'Vehicle Type', 'Platform Type',\n",
              "       'Personal or Business', 'Placement - Day of Month',\n",
              "       'Placement - Weekday (Mo = 1)', 'Placement - Time',\n",
              "       'Confirmation - Day of Month', 'Confirmation - Weekday (Mo = 1)',\n",
              "       'Confirmation - Time', 'Arrival at Pickup - Day of Month',\n",
              "       'Arrival at Pickup - Weekday (Mo = 1)', 'Arrival at Pickup - Time',\n",
              "       'Pickup - Day of Month', 'Pickup - Weekday (Mo = 1)', 'Pickup - Time',\n",
              "       'Distance (KM)', 'Temperature', 'Precipitation in millimeters',\n",
              "       'Pickup Lat', 'Pickup Long', 'Destination Lat', 'Destination Long',\n",
              "       'Rider Id'],\n",
              "      dtype='object')"
            ]
          },
          "metadata": {
            "tags": []
          },
          "execution_count": 396
        }
      ]
    },
    {
      "cell_type": "code",
      "metadata": {
        "id": "Hs0VgtaD-GLL",
        "colab_type": "code",
        "colab": {}
      },
      "source": [
        "# let's delete the last column from the dataset to  concat train and test\n",
        "train = train.drop(['Order No','Time from Pickup to Arrival','User Id','Confirmation - Day of Month',\n",
        "              'Confirmation - Weekday (Mo = 1)','Arrival at Pickup - Day of Month',\n",
        "              'Arrival at Pickup - Weekday (Mo = 1)',\n",
        "              'Pickup - Day of Month',\n",
        "              'Pickup - Weekday (Mo = 1)',\n",
        "              'Arrival at Destination - Day of Month',\n",
        "              'Arrival at Destination - Weekday (Mo = 1)',\n",
        "              'Arrival at Destination - Time','Vehicle Type'], axis = 1)"
      ],
      "execution_count": 0,
      "outputs": []
    },
    {
      "cell_type": "code",
      "metadata": {
        "id": "LpnQ_Fixh2tG",
        "colab_type": "code",
        "colab": {}
      },
      "source": [
        "test = test.drop(['User Id','Confirmation - Day of Month',\n",
        "              'Confirmation - Weekday (Mo = 1)','Arrival at Pickup - Day of Month',\n",
        "              'Arrival at Pickup - Weekday (Mo = 1)',\n",
        "              'Pickup - Day of Month',\n",
        "              'Pickup - Weekday (Mo = 1)',\n",
        "              'Order No','Vehicle Type'\n",
        "              ], axis = 1)"
      ],
      "execution_count": 0,
      "outputs": []
    },
    {
      "cell_type": "code",
      "metadata": {
        "id": "pgt_KLTIExay",
        "colab_type": "code",
        "outputId": "9553c3f0-83a1-44bb-8be4-f92294b82ff7",
        "colab": {
          "base_uri": "https://localhost:8080/",
          "height": 51
        }
      },
      "source": [
        "print(train.shape)\n",
        "print(test.shape)"
      ],
      "execution_count": 399,
      "outputs": [
        {
          "output_type": "stream",
          "text": [
            "(21201, 16)\n",
            "(7068, 16)\n"
          ],
          "name": "stdout"
        }
      ]
    },
    {
      "cell_type": "code",
      "metadata": {
        "id": "8lYNmY5UkViA",
        "colab_type": "code",
        "outputId": "0b7bc711-9c34-401c-b1ec-5ec75ad65f07",
        "colab": {
          "base_uri": "https://localhost:8080/",
          "height": 374
        }
      },
      "source": [
        "train.info()"
      ],
      "execution_count": 400,
      "outputs": [
        {
          "output_type": "stream",
          "text": [
            "<class 'pandas.core.frame.DataFrame'>\n",
            "Int64Index: 21201 entries, 0 to 21200\n",
            "Data columns (total 16 columns):\n",
            "Platform Type                   21201 non-null int64\n",
            "Personal or Business            21201 non-null object\n",
            "Placement - Day of Month        21201 non-null int64\n",
            "Placement - Weekday (Mo = 1)    21201 non-null int64\n",
            "Placement - Time                21201 non-null object\n",
            "Confirmation - Time             21201 non-null object\n",
            "Arrival at Pickup - Time        21201 non-null object\n",
            "Pickup - Time                   21201 non-null object\n",
            "Distance (KM)                   21201 non-null int64\n",
            "Temperature                     21201 non-null float64\n",
            "Precipitation in millimeters    21201 non-null float64\n",
            "Pickup Lat                      21201 non-null float64\n",
            "Pickup Long                     21201 non-null float64\n",
            "Destination Lat                 21201 non-null float64\n",
            "Destination Long                21201 non-null float64\n",
            "Rider Id                        21201 non-null object\n",
            "dtypes: float64(6), int64(4), object(6)\n",
            "memory usage: 2.7+ MB\n"
          ],
          "name": "stdout"
        }
      ]
    },
    {
      "cell_type": "code",
      "metadata": {
        "id": "tjk8hHY7knqY",
        "colab_type": "code",
        "outputId": "4d11d578-0590-42fc-bffd-fdff061a24cf",
        "colab": {
          "base_uri": "https://localhost:8080/",
          "height": 374
        }
      },
      "source": [
        "test.info()"
      ],
      "execution_count": 401,
      "outputs": [
        {
          "output_type": "stream",
          "text": [
            "<class 'pandas.core.frame.DataFrame'>\n",
            "RangeIndex: 7068 entries, 0 to 7067\n",
            "Data columns (total 16 columns):\n",
            "Platform Type                   7068 non-null int64\n",
            "Personal or Business            7068 non-null object\n",
            "Placement - Day of Month        7068 non-null int64\n",
            "Placement - Weekday (Mo = 1)    7068 non-null int64\n",
            "Placement - Time                7068 non-null object\n",
            "Confirmation - Time             7068 non-null object\n",
            "Arrival at Pickup - Time        7068 non-null object\n",
            "Pickup - Time                   7068 non-null object\n",
            "Distance (KM)                   7068 non-null int64\n",
            "Temperature                     7068 non-null float64\n",
            "Precipitation in millimeters    7068 non-null float64\n",
            "Pickup Lat                      7068 non-null float64\n",
            "Pickup Long                     7068 non-null float64\n",
            "Destination Lat                 7068 non-null float64\n",
            "Destination Long                7068 non-null float64\n",
            "Rider Id                        7068 non-null object\n",
            "dtypes: float64(6), int64(4), object(6)\n",
            "memory usage: 883.6+ KB\n"
          ],
          "name": "stdout"
        }
      ]
    },
    {
      "cell_type": "code",
      "metadata": {
        "id": "s7i6x_TBnHV2",
        "colab_type": "code",
        "colab": {}
      },
      "source": [
        "#adding other columns based on riders metrics\n",
        "train=pd.merge(train,Riders,how='left',left_on='Rider Id',right_on='Rider Id')\n",
        "#adding other columns based on riders metrics to test\n",
        "test=pd.merge(test,Riders,how='left',left_on='Rider Id',right_on='Rider Id')"
      ],
      "execution_count": 0,
      "outputs": []
    },
    {
      "cell_type": "code",
      "metadata": {
        "id": "7cDgC0g5uklK",
        "colab_type": "code",
        "outputId": "4343568c-bb04-43c8-d9e9-1eff9e84ae1a",
        "colab": {
          "base_uri": "https://localhost:8080/",
          "height": 442
        }
      },
      "source": [
        "train.info()"
      ],
      "execution_count": 403,
      "outputs": [
        {
          "output_type": "stream",
          "text": [
            "<class 'pandas.core.frame.DataFrame'>\n",
            "Int64Index: 21201 entries, 0 to 21200\n",
            "Data columns (total 20 columns):\n",
            "Platform Type                   21201 non-null int64\n",
            "Personal or Business            21201 non-null object\n",
            "Placement - Day of Month        21201 non-null int64\n",
            "Placement - Weekday (Mo = 1)    21201 non-null int64\n",
            "Placement - Time                21201 non-null object\n",
            "Confirmation - Time             21201 non-null object\n",
            "Arrival at Pickup - Time        21201 non-null object\n",
            "Pickup - Time                   21201 non-null object\n",
            "Distance (KM)                   21201 non-null int64\n",
            "Temperature                     21201 non-null float64\n",
            "Precipitation in millimeters    21201 non-null float64\n",
            "Pickup Lat                      21201 non-null float64\n",
            "Pickup Long                     21201 non-null float64\n",
            "Destination Lat                 21201 non-null float64\n",
            "Destination Long                21201 non-null float64\n",
            "Rider Id                        21201 non-null object\n",
            "No_Of_Orders                    21201 non-null int64\n",
            "Age                             21201 non-null int64\n",
            "Average_Rating                  21201 non-null float64\n",
            "No_of_Ratings                   21201 non-null int64\n",
            "dtypes: float64(7), int64(7), object(6)\n",
            "memory usage: 3.4+ MB\n"
          ],
          "name": "stdout"
        }
      ]
    },
    {
      "cell_type": "code",
      "metadata": {
        "id": "_pXhIJJZvGD5",
        "colab_type": "code",
        "colab": {}
      },
      "source": [
        "# i need to add the new others to the no_of_orders column,the new age,Average rating,no_of_ratings"
      ],
      "execution_count": 0,
      "outputs": []
    },
    {
      "cell_type": "code",
      "metadata": {
        "id": "dg4noj3kC14f",
        "colab_type": "code",
        "outputId": "01d9a409-38ac-4463-9708-1bc367f4a628",
        "colab": {
          "base_uri": "https://localhost:8080/",
          "height": 374
        }
      },
      "source": [
        "train.isnull().sum()"
      ],
      "execution_count": 405,
      "outputs": [
        {
          "output_type": "execute_result",
          "data": {
            "text/plain": [
              "Platform Type                   0\n",
              "Personal or Business            0\n",
              "Placement - Day of Month        0\n",
              "Placement - Weekday (Mo = 1)    0\n",
              "Placement - Time                0\n",
              "Confirmation - Time             0\n",
              "Arrival at Pickup - Time        0\n",
              "Pickup - Time                   0\n",
              "Distance (KM)                   0\n",
              "Temperature                     0\n",
              "Precipitation in millimeters    0\n",
              "Pickup Lat                      0\n",
              "Pickup Long                     0\n",
              "Destination Lat                 0\n",
              "Destination Long                0\n",
              "Rider Id                        0\n",
              "No_Of_Orders                    0\n",
              "Age                             0\n",
              "Average_Rating                  0\n",
              "No_of_Ratings                   0\n",
              "dtype: int64"
            ]
          },
          "metadata": {
            "tags": []
          },
          "execution_count": 405
        }
      ]
    },
    {
      "cell_type": "code",
      "metadata": {
        "id": "7JIWr77tC7ij",
        "colab_type": "code",
        "colab": {}
      },
      "source": [
        ""
      ],
      "execution_count": 0,
      "outputs": []
    },
    {
      "cell_type": "code",
      "metadata": {
        "id": "LVFto2snC_To",
        "colab_type": "code",
        "outputId": "0f7bc395-7d56-4515-b6e2-fc7a4ea0a32c",
        "colab": {
          "base_uri": "https://localhost:8080/",
          "height": 374
        }
      },
      "source": [
        "train.isnull().sum()"
      ],
      "execution_count": 406,
      "outputs": [
        {
          "output_type": "execute_result",
          "data": {
            "text/plain": [
              "Platform Type                   0\n",
              "Personal or Business            0\n",
              "Placement - Day of Month        0\n",
              "Placement - Weekday (Mo = 1)    0\n",
              "Placement - Time                0\n",
              "Confirmation - Time             0\n",
              "Arrival at Pickup - Time        0\n",
              "Pickup - Time                   0\n",
              "Distance (KM)                   0\n",
              "Temperature                     0\n",
              "Precipitation in millimeters    0\n",
              "Pickup Lat                      0\n",
              "Pickup Long                     0\n",
              "Destination Lat                 0\n",
              "Destination Long                0\n",
              "Rider Id                        0\n",
              "No_Of_Orders                    0\n",
              "Age                             0\n",
              "Average_Rating                  0\n",
              "No_of_Ratings                   0\n",
              "dtype: int64"
            ]
          },
          "metadata": {
            "tags": []
          },
          "execution_count": 406
        }
      ]
    },
    {
      "cell_type": "code",
      "metadata": {
        "id": "K8vSQGX4M07n",
        "colab_type": "code",
        "colab": {}
      },
      "source": [
        "#remove rider_id\n",
        "train=train.drop(['Rider Id'],axis=1)\n",
        "test=test.drop(['Rider Id'],axis=1)"
      ],
      "execution_count": 0,
      "outputs": []
    },
    {
      "cell_type": "code",
      "metadata": {
        "id": "F6zKyG2-N1eA",
        "colab_type": "code",
        "outputId": "17db0301-58c6-45d3-b038-1f224f5c07f5",
        "colab": {
          "base_uri": "https://localhost:8080/",
          "height": 119
        }
      },
      "source": [
        "#extracting Object datatype\n",
        "train.select_dtypes(include=['object']).dtypes"
      ],
      "execution_count": 408,
      "outputs": [
        {
          "output_type": "execute_result",
          "data": {
            "text/plain": [
              "Personal or Business        object\n",
              "Placement - Time            object\n",
              "Confirmation - Time         object\n",
              "Arrival at Pickup - Time    object\n",
              "Pickup - Time               object\n",
              "dtype: object"
            ]
          },
          "metadata": {
            "tags": []
          },
          "execution_count": 408
        }
      ]
    },
    {
      "cell_type": "code",
      "metadata": {
        "id": "WElvWis7OZoV",
        "colab_type": "code",
        "outputId": "ab526ea8-f34a-41e3-f922-3d9ce7682479",
        "colab": {
          "base_uri": "https://localhost:8080/",
          "height": 68
        }
      },
      "source": [
        "train['Personal or Business'].value_counts()"
      ],
      "execution_count": 409,
      "outputs": [
        {
          "output_type": "execute_result",
          "data": {
            "text/plain": [
              "Business    17384\n",
              "Personal     3817\n",
              "Name: Personal or Business, dtype: int64"
            ]
          },
          "metadata": {
            "tags": []
          },
          "execution_count": 409
        }
      ]
    },
    {
      "cell_type": "code",
      "metadata": {
        "id": "w8c3yFPLv-5J",
        "colab_type": "code",
        "colab": {}
      },
      "source": [
        "train['Placement - Time']=pd.to_datetime(train['Placement - Time'],format='%I:%M:%S %p')\n",
        "train['Confirmation - Time']=pd.to_datetime(train['Confirmation - Time'],format='%I:%M:%S %p')\n",
        "train['Arrival at Pickup - Time']=pd.to_datetime(train['Arrival at Pickup - Time'],format='%I:%M:%S %p')\n",
        "train['Pickup - Time']=pd.to_datetime(train['Pickup - Time'],format='%I:%M:%S %p')\n",
        "\n",
        "test['Placement - Time']=pd.to_datetime(test['Placement - Time'],format='%I:%M:%S %p')\n",
        "test['Confirmation - Time']=pd.to_datetime(test['Confirmation - Time'],format='%I:%M:%S %p')\n",
        "test['Arrival at Pickup - Time']=pd.to_datetime(test['Arrival at Pickup - Time'],format='%I:%M:%S %p')\n",
        "test['Pickup - Time']=pd.to_datetime(test['Pickup - Time'],format='%I:%M:%S %p')\n"
      ],
      "execution_count": 0,
      "outputs": []
    },
    {
      "cell_type": "code",
      "metadata": {
        "id": "D702TbJERVtT",
        "colab_type": "code",
        "colab": {}
      },
      "source": [
        "import numpy as np\n",
        "import datetime\n",
        "from dateutil.relativedelta import relativedelta\n",
        "from datetime import date\n",
        "def Time_Diff(time1,time2):\n",
        "  return np.timedelta64((time2-time1),'s')/np.timedelta64(1,'s')\n"
      ],
      "execution_count": 0,
      "outputs": []
    },
    {
      "cell_type": "code",
      "metadata": {
        "id": "YnwKRSOdWTk8",
        "colab_type": "code",
        "colab": {}
      },
      "source": [
        "#time difference between placement and confirmation\n",
        "train['P_C_time_diff']=train.apply(lambda x :Time_Diff(x['Placement - Time'],x['Confirmation - Time']),axis=1)\n",
        "#time difference between placement and arrival at pick up\n",
        "train['P_A_time_diff']=train.apply(lambda x:Time_Diff(x['Placement - Time'],x['Arrival at Pickup - Time']),axis=1)\n",
        "#time difference between placement and  pick up\n",
        "train['P_P_time_diff']=train.apply(lambda x:Time_Diff(x['Placement - Time'],x['Pickup - Time']),axis=1)\n",
        "#time difference between confirmation and arrival at pick up\n",
        "train['C_A_time_diff']=train.apply(lambda x:Time_Diff(x['Confirmation - Time'],x['Arrival at Pickup - Time']),axis=1)\n",
        "#time difference between confirmation and  pick up\n",
        "train['C_P_time_diff']=train.apply(lambda x:Time_Diff(x['Confirmation - Time'],x['Pickup - Time']),axis=1)\n",
        "#time difference between  arrival at pick up and pick up\n",
        "train['A_P_time_diff']=train.apply(lambda x:Time_Diff(x['Arrival at Pickup - Time'],x['Pickup - Time']),axis=1)"
      ],
      "execution_count": 0,
      "outputs": []
    },
    {
      "cell_type": "code",
      "metadata": {
        "id": "6cYVs0Jf8wNc",
        "colab_type": "code",
        "colab": {}
      },
      "source": [
        "#time difference between placement and confirmation\n",
        "test['P_C_time_diff']=test.apply(lambda x :Time_Diff(x['Placement - Time'],x['Confirmation - Time']),axis=1)\n",
        "#time difference between placement and arrival at pick up\n",
        "test['P_A_time_diff']=test.apply(lambda x:Time_Diff(x['Placement - Time'],x['Arrival at Pickup - Time']),axis=1)\n",
        "#time difference between placement and  pick up\n",
        "test['P_P_time_diff']=test.apply(lambda x:Time_Diff(x['Placement - Time'],x['Pickup - Time']),axis=1)\n",
        "#time difference between confirmation and arrival at pick up\n",
        "test['C_A_time_diff']=test.apply(lambda x:Time_Diff(x['Confirmation - Time'],x['Arrival at Pickup - Time']),axis=1)\n",
        "#time difference between confirmation and  pick up\n",
        "test['C_P_time_diff']=test.apply(lambda x:Time_Diff(x['Confirmation - Time'],x['Pickup - Time']),axis=1)\n",
        "#time difference between  arrival at pick up and pick up\n",
        "test['A_P_time_diff']=test.apply(lambda x:Time_Diff(x['Arrival at Pickup - Time'],x['Pickup - Time']),axis=1)"
      ],
      "execution_count": 0,
      "outputs": []
    },
    {
      "cell_type": "code",
      "metadata": {
        "id": "xubkGvPoXr3v",
        "colab_type": "code",
        "outputId": "1d60b52e-e290-4cf8-fc60-abb72183857a",
        "colab": {
          "base_uri": "https://localhost:8080/",
          "height": 445
        }
      },
      "source": [
        "train.head()"
      ],
      "execution_count": 414,
      "outputs": [
        {
          "output_type": "execute_result",
          "data": {
            "text/html": [
              "<div>\n",
              "<style scoped>\n",
              "    .dataframe tbody tr th:only-of-type {\n",
              "        vertical-align: middle;\n",
              "    }\n",
              "\n",
              "    .dataframe tbody tr th {\n",
              "        vertical-align: top;\n",
              "    }\n",
              "\n",
              "    .dataframe thead th {\n",
              "        text-align: right;\n",
              "    }\n",
              "</style>\n",
              "<table border=\"1\" class=\"dataframe\">\n",
              "  <thead>\n",
              "    <tr style=\"text-align: right;\">\n",
              "      <th></th>\n",
              "      <th>Platform Type</th>\n",
              "      <th>Personal or Business</th>\n",
              "      <th>Placement - Day of Month</th>\n",
              "      <th>Placement - Weekday (Mo = 1)</th>\n",
              "      <th>Placement - Time</th>\n",
              "      <th>Confirmation - Time</th>\n",
              "      <th>Arrival at Pickup - Time</th>\n",
              "      <th>Pickup - Time</th>\n",
              "      <th>Distance (KM)</th>\n",
              "      <th>Temperature</th>\n",
              "      <th>Precipitation in millimeters</th>\n",
              "      <th>Pickup Lat</th>\n",
              "      <th>Pickup Long</th>\n",
              "      <th>Destination Lat</th>\n",
              "      <th>Destination Long</th>\n",
              "      <th>No_Of_Orders</th>\n",
              "      <th>Age</th>\n",
              "      <th>Average_Rating</th>\n",
              "      <th>No_of_Ratings</th>\n",
              "      <th>P_C_time_diff</th>\n",
              "      <th>P_A_time_diff</th>\n",
              "      <th>P_P_time_diff</th>\n",
              "      <th>C_A_time_diff</th>\n",
              "      <th>C_P_time_diff</th>\n",
              "      <th>A_P_time_diff</th>\n",
              "    </tr>\n",
              "  </thead>\n",
              "  <tbody>\n",
              "    <tr>\n",
              "      <th>0</th>\n",
              "      <td>3</td>\n",
              "      <td>Business</td>\n",
              "      <td>9</td>\n",
              "      <td>5</td>\n",
              "      <td>1900-01-01 09:35:46</td>\n",
              "      <td>1900-01-01 09:40:10</td>\n",
              "      <td>1900-01-01 10:04:47</td>\n",
              "      <td>1900-01-01 10:27:30</td>\n",
              "      <td>4</td>\n",
              "      <td>20.400000</td>\n",
              "      <td>7.905797</td>\n",
              "      <td>-1.317755</td>\n",
              "      <td>36.830370</td>\n",
              "      <td>-1.300406</td>\n",
              "      <td>36.829741</td>\n",
              "      <td>1637</td>\n",
              "      <td>1309</td>\n",
              "      <td>13.8</td>\n",
              "      <td>549</td>\n",
              "      <td>264.0</td>\n",
              "      <td>1741.0</td>\n",
              "      <td>3104.0</td>\n",
              "      <td>1477.0</td>\n",
              "      <td>2840.0</td>\n",
              "      <td>1363.0</td>\n",
              "    </tr>\n",
              "    <tr>\n",
              "      <th>1</th>\n",
              "      <td>3</td>\n",
              "      <td>Personal</td>\n",
              "      <td>12</td>\n",
              "      <td>5</td>\n",
              "      <td>1900-01-01 11:16:16</td>\n",
              "      <td>1900-01-01 11:23:21</td>\n",
              "      <td>1900-01-01 11:40:22</td>\n",
              "      <td>1900-01-01 11:44:09</td>\n",
              "      <td>16</td>\n",
              "      <td>26.400000</td>\n",
              "      <td>7.905797</td>\n",
              "      <td>-1.351453</td>\n",
              "      <td>36.899315</td>\n",
              "      <td>-1.295004</td>\n",
              "      <td>36.814358</td>\n",
              "      <td>396</td>\n",
              "      <td>339</td>\n",
              "      <td>13.6</td>\n",
              "      <td>69</td>\n",
              "      <td>425.0</td>\n",
              "      <td>1446.0</td>\n",
              "      <td>1673.0</td>\n",
              "      <td>1021.0</td>\n",
              "      <td>1248.0</td>\n",
              "      <td>227.0</td>\n",
              "    </tr>\n",
              "    <tr>\n",
              "      <th>2</th>\n",
              "      <td>3</td>\n",
              "      <td>Business</td>\n",
              "      <td>30</td>\n",
              "      <td>2</td>\n",
              "      <td>1900-01-01 12:39:25</td>\n",
              "      <td>1900-01-01 12:42:44</td>\n",
              "      <td>1900-01-01 12:49:34</td>\n",
              "      <td>1900-01-01 12:53:03</td>\n",
              "      <td>3</td>\n",
              "      <td>23.258889</td>\n",
              "      <td>7.905797</td>\n",
              "      <td>-1.308284</td>\n",
              "      <td>36.843419</td>\n",
              "      <td>-1.300921</td>\n",
              "      <td>36.828195</td>\n",
              "      <td>1023</td>\n",
              "      <td>242</td>\n",
              "      <td>12.5</td>\n",
              "      <td>114</td>\n",
              "      <td>199.0</td>\n",
              "      <td>609.0</td>\n",
              "      <td>818.0</td>\n",
              "      <td>410.0</td>\n",
              "      <td>619.0</td>\n",
              "      <td>209.0</td>\n",
              "    </tr>\n",
              "    <tr>\n",
              "      <th>3</th>\n",
              "      <td>3</td>\n",
              "      <td>Business</td>\n",
              "      <td>15</td>\n",
              "      <td>5</td>\n",
              "      <td>1900-01-01 09:25:34</td>\n",
              "      <td>1900-01-01 09:26:05</td>\n",
              "      <td>1900-01-01 09:37:56</td>\n",
              "      <td>1900-01-01 09:43:06</td>\n",
              "      <td>9</td>\n",
              "      <td>19.200000</td>\n",
              "      <td>7.905797</td>\n",
              "      <td>-1.281301</td>\n",
              "      <td>36.832396</td>\n",
              "      <td>-1.257147</td>\n",
              "      <td>36.795063</td>\n",
              "      <td>886</td>\n",
              "      <td>283</td>\n",
              "      <td>14.5</td>\n",
              "      <td>113</td>\n",
              "      <td>31.0</td>\n",
              "      <td>742.0</td>\n",
              "      <td>1052.0</td>\n",
              "      <td>711.0</td>\n",
              "      <td>1021.0</td>\n",
              "      <td>310.0</td>\n",
              "    </tr>\n",
              "    <tr>\n",
              "      <th>4</th>\n",
              "      <td>1</td>\n",
              "      <td>Personal</td>\n",
              "      <td>13</td>\n",
              "      <td>1</td>\n",
              "      <td>1900-01-01 09:55:18</td>\n",
              "      <td>1900-01-01 09:56:18</td>\n",
              "      <td>1900-01-01 10:03:53</td>\n",
              "      <td>1900-01-01 10:05:23</td>\n",
              "      <td>9</td>\n",
              "      <td>15.400000</td>\n",
              "      <td>7.905797</td>\n",
              "      <td>-1.266597</td>\n",
              "      <td>36.792118</td>\n",
              "      <td>-1.295041</td>\n",
              "      <td>36.809817</td>\n",
              "      <td>2311</td>\n",
              "      <td>872</td>\n",
              "      <td>14.1</td>\n",
              "      <td>533</td>\n",
              "      <td>60.0</td>\n",
              "      <td>515.0</td>\n",
              "      <td>605.0</td>\n",
              "      <td>455.0</td>\n",
              "      <td>545.0</td>\n",
              "      <td>90.0</td>\n",
              "    </tr>\n",
              "  </tbody>\n",
              "</table>\n",
              "</div>"
            ],
            "text/plain": [
              "   Platform Type Personal or Business  ...  C_P_time_diff  A_P_time_diff\n",
              "0              3             Business  ...         2840.0         1363.0\n",
              "1              3             Personal  ...         1248.0          227.0\n",
              "2              3             Business  ...          619.0          209.0\n",
              "3              3             Business  ...         1021.0          310.0\n",
              "4              1             Personal  ...          545.0           90.0\n",
              "\n",
              "[5 rows x 25 columns]"
            ]
          },
          "metadata": {
            "tags": []
          },
          "execution_count": 414
        }
      ]
    },
    {
      "cell_type": "code",
      "metadata": {
        "id": "tOvDDP8zSjg1",
        "colab_type": "code",
        "colab": {}
      },
      "source": [
        "train=train.drop(['Placement - Time','Confirmation - Time','Arrival at Pickup - Time','Pickup - Time'],axis=1)\n",
        "test=test.drop(['Placement - Time','Confirmation - Time','Arrival at Pickup - Time','Pickup - Time'],axis=1)"
      ],
      "execution_count": 0,
      "outputs": []
    },
    {
      "cell_type": "code",
      "metadata": {
        "id": "aF05yPzAHTHH",
        "colab_type": "code",
        "colab": {}
      },
      "source": [
        "#remove nan values\n",
        "#train.dropna(subset=['Distance (KM)','Pickup Lat','Pickup Long','Destination Lat','Destination Long','No_Of_Orders','Age','Average_Rating','No_of_Ratings'])"
      ],
      "execution_count": 0,
      "outputs": []
    },
    {
      "cell_type": "code",
      "metadata": {
        "id": "4tagTBwLTdY1",
        "colab_type": "code",
        "outputId": "545c9117-fd05-4ae3-8bae-b136c727dd51",
        "colab": {
          "base_uri": "https://localhost:8080/",
          "height": 51
        }
      },
      "source": [
        "#extracting Object datatype\n",
        "train.select_dtypes(include=['object']).dtypes"
      ],
      "execution_count": 417,
      "outputs": [
        {
          "output_type": "execute_result",
          "data": {
            "text/plain": [
              "Personal or Business    object\n",
              "dtype: object"
            ]
          },
          "metadata": {
            "tags": []
          },
          "execution_count": 417
        }
      ]
    },
    {
      "cell_type": "code",
      "metadata": {
        "id": "fnN2ff18lGfR",
        "colab_type": "code",
        "colab": {}
      },
      "source": [
        "#LabelEncoder\n",
        "from sklearn.preprocessing import LabelEncoder\n",
        "le = LabelEncoder()\n",
        "\n",
        "train['Personal or Business'] = le.fit_transform(train['Personal or Business'])\n",
        "test['Personal or Business'] = le.fit_transform(test['Personal or Business'])\n",
        "train.drop(['Personal or Business'],axis=1,inplace=True)\n",
        "\n",
        "test.drop(['Personal or Business'],axis=1,inplace=True)"
      ],
      "execution_count": 0,
      "outputs": []
    },
    {
      "cell_type": "code",
      "metadata": {
        "id": "UIexK9yioCp6",
        "colab_type": "code",
        "outputId": "675202ff-0d05-4d67-9d28-f6daa1cb2206",
        "colab": {
          "base_uri": "https://localhost:8080/",
          "height": 54
        }
      },
      "source": [
        "\n",
        "# splitting into train and valid sets\n",
        "\n",
        "'''from sklearn.model_selection import train_test_split\n",
        "\n",
        "x_train, x_valid, y_train, y_valid = train_test_split(train, y_train, test_size = 0.25, random_state = 0)\n",
        "\n",
        "# getting the shapes\n",
        "print(\"Shape of x_train :\", x_train.shape)\n",
        "print(\"Shape of x_valid :\", x_valid.shape)\n",
        "print(\"Shape of y_train :\", y_train.shape)\n",
        "print(\"Shape of y_valid :\", y_valid.shape)'''"
      ],
      "execution_count": 419,
      "outputs": [
        {
          "output_type": "execute_result",
          "data": {
            "text/plain": [
              "'from sklearn.model_selection import train_test_split\\n\\nx_train, x_valid, y_train, y_valid = train_test_split(train, y_train, test_size = 0.25, random_state = 0)\\n\\n# getting the shapes\\nprint(\"Shape of x_train :\", x_train.shape)\\nprint(\"Shape of x_valid :\", x_valid.shape)\\nprint(\"Shape of y_train :\", y_train.shape)\\nprint(\"Shape of y_valid :\", y_valid.shape)'"
            ]
          },
          "metadata": {
            "tags": []
          },
          "execution_count": 419
        }
      ]
    },
    {
      "cell_type": "code",
      "metadata": {
        "id": "OIY5IWsRp8GA",
        "colab_type": "code",
        "colab": {}
      },
      "source": [
        "#x_valid = sc.transform(x_valid)\n",
        "#x_test = sc.transform(x_test)"
      ],
      "execution_count": 0,
      "outputs": []
    },
    {
      "cell_type": "code",
      "metadata": {
        "id": "I_qsfiWRalAR",
        "colab_type": "code",
        "colab": {}
      },
      "source": [
        "# getting the numerical features\n",
        "#numerical_features = train.dtypes[train.dtypes != 'object'].index"
      ],
      "execution_count": 0,
      "outputs": []
    },
    {
      "cell_type": "code",
      "metadata": {
        "id": "Rvdl4znRatys",
        "colab_type": "code",
        "colab": {}
      },
      "source": [
        "#numerical_features"
      ],
      "execution_count": 0,
      "outputs": []
    },
    {
      "cell_type": "code",
      "metadata": {
        "id": "8iEzr1SFrRuq",
        "colab_type": "code",
        "colab": {}
      },
      "source": [
        "\n",
        "#from scipy.stats import skew\n",
        "\n",
        "# extracting the skewed features\n",
        "#skewed_features = train[numerical_features].apply(lambda x: skew(x.dropna())).sort_values(ascending = False)\n"
      ],
      "execution_count": 0,
      "outputs": []
    },
    {
      "cell_type": "code",
      "metadata": {
        "id": "IjROb5EjriW-",
        "colab_type": "code",
        "colab": {}
      },
      "source": [
        "# converting the feautures into a dataframe\n",
        "#skewness = pd.DataFrame({'skew': skewed_features})\n",
        "\n",
        "# let's check the skewess in the data\n",
        "#skewness.head(30)"
      ],
      "execution_count": 0,
      "outputs": []
    },
    {
      "cell_type": "code",
      "metadata": {
        "id": "ZDNwJiJFrxqT",
        "colab_type": "code",
        "colab": {}
      },
      "source": [
        "# applying box-cox transformations\n",
        "\n",
        "# importing box-cox\n",
        "#from scipy.special import boxcox1p\n",
        "#skewness = skewness[abs(skewness > 0.8)]\n",
        "#print(\"There are {} skewed features to box-cox transform\".format(skewness.shape[0]))\n",
        "\n",
        "\n",
        "#skewed_features = skewness.index\n",
        "\n",
        "#lam = 0.15\n",
        "#for feat in skewed_features:\n",
        "#    train[feat] += 1\n",
        "#    train[feat] = boxcox1p(train[feat], lam)\n",
        "  \n",
        "#train[skewed_features] = np.log1p(train[skewed_features])"
      ],
      "execution_count": 0,
      "outputs": []
    },
    {
      "cell_type": "code",
      "metadata": {
        "id": "4p84hUjgrn3B",
        "colab_type": "code",
        "colab": {}
      },
      "source": [
        "#!git clone https://github.com/datamadness/Automatic-skewness-transformation-for-Pandas-DataFrame.git"
      ],
      "execution_count": 0,
      "outputs": []
    },
    {
      "cell_type": "code",
      "metadata": {
        "id": "QqShmkOFI-tA",
        "colab_type": "code",
        "colab": {}
      },
      "source": [
        "#import os\n",
        "#os.chdir(r\"/content/Automatic-skewness-transformation-for-Pandas-DataFrame\")\n",
        "#from Automatic-skewness-transformation-for-Pandas-DataFrame.skew_autotransform import skew_autotransform\n",
        "#print('directory changed')\n"
      ],
      "execution_count": 0,
      "outputs": []
    },
    {
      "cell_type": "code",
      "metadata": {
        "id": "OGpcwbafN1AP",
        "colab_type": "code",
        "colab": {}
      },
      "source": [
        "#from skew_autotransform import skew_autotransform"
      ],
      "execution_count": 0,
      "outputs": []
    },
    {
      "cell_type": "code",
      "metadata": {
        "id": "9m7tEVtAJrzU",
        "colab_type": "code",
        "colab": {}
      },
      "source": [
        "#transformedDF = skew_autotransform(numerical_features.copy(deep=True), plot = True, exp = False, threshold = 0.5)"
      ],
      "execution_count": 0,
      "outputs": []
    },
    {
      "cell_type": "code",
      "metadata": {
        "id": "1DS1QFY8Jx1L",
        "colab_type": "code",
        "colab": {}
      },
      "source": [
        "#print('Original average skewness value was %2.2f' %(np.mean(abs(exampleDF.skew()))))\n",
        "#print('Average skewness after transformation is %2.2f' %(np.mean(abs(transformedDF.skew()))))"
      ],
      "execution_count": 0,
      "outputs": []
    },
    {
      "cell_type": "code",
      "metadata": {
        "id": "EvfVr7YV-tuw",
        "colab_type": "code",
        "outputId": "e37a81b1-da09-441e-c2b2-35a8efbd4e7b",
        "colab": {
          "base_uri": "https://localhost:8080/",
          "height": 374
        }
      },
      "source": [
        "train.isnull().sum()"
      ],
      "execution_count": 421,
      "outputs": [
        {
          "output_type": "execute_result",
          "data": {
            "text/plain": [
              "Platform Type                   0\n",
              "Placement - Day of Month        0\n",
              "Placement - Weekday (Mo = 1)    0\n",
              "Distance (KM)                   0\n",
              "Temperature                     0\n",
              "Precipitation in millimeters    0\n",
              "Pickup Lat                      0\n",
              "Pickup Long                     0\n",
              "Destination Lat                 0\n",
              "Destination Long                0\n",
              "No_Of_Orders                    0\n",
              "Age                             0\n",
              "Average_Rating                  0\n",
              "No_of_Ratings                   0\n",
              "P_C_time_diff                   0\n",
              "P_A_time_diff                   0\n",
              "P_P_time_diff                   0\n",
              "C_A_time_diff                   0\n",
              "C_P_time_diff                   0\n",
              "A_P_time_diff                   0\n",
              "dtype: int64"
            ]
          },
          "metadata": {
            "tags": []
          },
          "execution_count": 421
        }
      ]
    },
    {
      "cell_type": "code",
      "metadata": {
        "id": "bHbsLUiFhAxN",
        "colab_type": "code",
        "colab": {}
      },
      "source": [
        "# applying standard scaling\n",
        "\n",
        "from sklearn.preprocessing import StandardScaler\n",
        "\n",
        "'''sc = StandardScaler()\n",
        "x_train = sc.fit_transform(x_train)\n",
        "x_valid = sc.transform(x_valid)\n",
        "test = sc.transform(test)'''\n",
        "\n",
        "\n",
        "sc = StandardScaler()\n",
        "train = sc.fit_transform(train)\n",
        "#x_valid = sc.transform(x_valid)\n",
        "test = sc.transform(test)\n",
        "\n"
      ],
      "execution_count": 0,
      "outputs": []
    },
    {
      "cell_type": "code",
      "metadata": {
        "id": "jrWrfBAehGlp",
        "colab_type": "code",
        "outputId": "12871bb9-5acf-45b3-931c-ffee25888600",
        "colab": {
          "base_uri": "https://localhost:8080/",
          "height": 54
        }
      },
      "source": [
        "# making a lasso model\n",
        "\n",
        "'''from sklearn.linear_model import Lasso\n",
        "from sklearn.preprocessing import RobustScaler\n",
        "from sklearn.pipeline import make_pipeline\n",
        "from sklearn.metrics import mean_squared_error\n",
        "\n",
        "lasso = make_pipeline(RobustScaler(), Lasso(alpha = 0.005, random_state = 0))\n",
        "lasso.fit(x_train, y_train)\n",
        "y_pred = lasso.predict(x_valid)\n",
        "\n",
        "mse = mean_squared_error(y_valid, y_pred)\n",
        "rmse = np.sqrt(mse)\n",
        "print(\"RMSE :\", rmse)'''"
      ],
      "execution_count": 318,
      "outputs": [
        {
          "output_type": "execute_result",
          "data": {
            "text/plain": [
              "'from sklearn.linear_model import Lasso\\nfrom sklearn.preprocessing import RobustScaler\\nfrom sklearn.pipeline import make_pipeline\\nfrom sklearn.metrics import mean_squared_error\\n\\nlasso = make_pipeline(RobustScaler(), Lasso(alpha = 0.005, random_state = 0))\\nlasso.fit(x_train, y_train)\\ny_pred = lasso.predict(x_valid)\\n\\nmse = mean_squared_error(y_valid, y_pred)\\nrmse = np.sqrt(mse)\\nprint(\"RMSE :\", rmse)'"
            ]
          },
          "metadata": {
            "tags": []
          },
          "execution_count": 318
        }
      ]
    },
    {
      "cell_type": "code",
      "metadata": {
        "id": "4lxi5ngKhMR1",
        "colab_type": "code",
        "outputId": "3edcfec9-2b78-46e8-d251-6eea940d405d",
        "colab": {
          "base_uri": "https://localhost:8080/",
          "height": 54
        }
      },
      "source": [
        "# making an Elastic Net model\n",
        "\n",
        "from sklearn.linear_model import ElasticNet\n",
        "\n",
        "'''enet = make_pipeline(RobustScaler(), ElasticNet(alpha=0.005, l1_ratio=.9, random_state=3))\n",
        "enet.fit(x_train, y_train)\n",
        "y_pred = enet.predict(x_valid)\n",
        "\n",
        "mse = mean_squared_error(y_valid, y_pred)\n",
        "rmse = np.sqrt(mse)\n",
        "print(\"RMSE :\", rmse)'''"
      ],
      "execution_count": 319,
      "outputs": [
        {
          "output_type": "execute_result",
          "data": {
            "text/plain": [
              "'enet = make_pipeline(RobustScaler(), ElasticNet(alpha=0.005, l1_ratio=.9, random_state=3))\\nenet.fit(x_train, y_train)\\ny_pred = enet.predict(x_valid)\\n\\nmse = mean_squared_error(y_valid, y_pred)\\nrmse = np.sqrt(mse)\\nprint(\"RMSE :\", rmse)'"
            ]
          },
          "metadata": {
            "tags": []
          },
          "execution_count": 319
        }
      ]
    },
    {
      "cell_type": "code",
      "metadata": {
        "id": "n_IY5HhwhPrS",
        "colab_type": "code",
        "outputId": "bf2bc5a0-f4e3-4b36-f848-ffa29f598ceb",
        "colab": {
          "base_uri": "https://localhost:8080/",
          "height": 54
        }
      },
      "source": [
        "#from sklearn.ensemble import GradientBoostingRegressor\n",
        "\n",
        "# making a gradint boosting model\n",
        "'''gbr = GradientBoostingRegressor()\n",
        "gbr.fit(x_train, y_train)\n",
        "y_pred = gbr.predict(x_valid)\n",
        "\n",
        "mse = mean_squared_error(y_valid, y_pred)\n",
        "rmse = np.sqrt(mse)\n",
        "print(\"RMSE :\", rmse)'''"
      ],
      "execution_count": 320,
      "outputs": [
        {
          "output_type": "execute_result",
          "data": {
            "text/plain": [
              "'gbr = GradientBoostingRegressor()\\ngbr.fit(x_train, y_train)\\ny_pred = gbr.predict(x_valid)\\n\\nmse = mean_squared_error(y_valid, y_pred)\\nrmse = np.sqrt(mse)\\nprint(\"RMSE :\", rmse)'"
            ]
          },
          "metadata": {
            "tags": []
          },
          "execution_count": 320
        }
      ]
    },
    {
      "cell_type": "code",
      "metadata": {
        "id": "ugHnveGuhV1J",
        "colab_type": "code",
        "outputId": "660b8c03-eda2-4b56-ba14-e201495b9afc",
        "colab": {
          "base_uri": "https://localhost:8080/",
          "height": 54
        }
      },
      "source": [
        "# light gradient boosting\n",
        "'''import lightgbm as lgb\n",
        "\n",
        "lgb = lgb.LGBMRegressor(objective='regression',num_leaves=5,\n",
        "                              learning_rate=0.05, n_estimators=720,\n",
        "                              max_bin = 55, bagging_fraction = 0.8,\n",
        "                              bagging_freq = 5, feature_fraction = 0.2319,\n",
        "                              feature_fraction_seed=9, bagging_seed=9,\n",
        "                              min_data_in_leaf =6, min_sum_hessian_in_leaf = 11)\n",
        "lgb.fit(x_train, y_train)\n",
        "y_pred = lgb.predict(x_valid)\n",
        "\n",
        "mse = mean_squared_error(y_valid, y_pred)\n",
        "rmse = np.sqrt(mse)\n",
        "print(\"RMSE :\", rmse)'''"
      ],
      "execution_count": 321,
      "outputs": [
        {
          "output_type": "execute_result",
          "data": {
            "text/plain": [
              "'import lightgbm as lgb\\n\\nlgb = lgb.LGBMRegressor(objective=\\'regression\\',num_leaves=5,\\n                              learning_rate=0.05, n_estimators=720,\\n                              max_bin = 55, bagging_fraction = 0.8,\\n                              bagging_freq = 5, feature_fraction = 0.2319,\\n                              feature_fraction_seed=9, bagging_seed=9,\\n                              min_data_in_leaf =6, min_sum_hessian_in_leaf = 11)\\nlgb.fit(x_train, y_train)\\ny_pred = lgb.predict(x_valid)\\n\\nmse = mean_squared_error(y_valid, y_pred)\\nrmse = np.sqrt(mse)\\nprint(\"RMSE :\", rmse)'"
            ]
          },
          "metadata": {
            "tags": []
          },
          "execution_count": 321
        }
      ]
    },
    {
      "cell_type": "code",
      "metadata": {
        "id": "Jpk4hWZONj1G",
        "colab_type": "code",
        "colab": {
          "base_uri": "https://localhost:8080/",
          "height": 54
        },
        "outputId": "5ecf531e-8bc9-4d69-9c44-2a579e2b1d4c"
      },
      "source": [
        "# STACKING\n",
        "# Simplest model -> Averaging Base Models\n",
        "\n",
        "'''from sklearn.base import BaseEstimator\n",
        "from sklearn.base import RegressorMixin\n",
        "from sklearn.base import TransformerMixin\n",
        "from sklearn.base import clone\n",
        "\n",
        "class AveragingModels(BaseEstimator, RegressorMixin, TransformerMixin):\n",
        "    def __init__(self, models):\n",
        "        self.models = models\n",
        "        \n",
        "    # we define clones of the original models to fit the data in\n",
        "    def fit(self, X, y):\n",
        "        self.models_ = [clone(x) for x in self.models]\n",
        "        \n",
        "        # Train cloned base models\n",
        "        for model in self.models_:\n",
        "            model.fit(X, y)\n",
        "        return self\n",
        "    \n",
        "    #Now we do the predictions for cloned models and average them\n",
        "    def predict(self, X):\n",
        "        predictions = np.column_stack([model.predict(X) for model in self.models_])\n",
        "        return np.mean(predictions, axis=1) '''"
      ],
      "execution_count": 322,
      "outputs": [
        {
          "output_type": "execute_result",
          "data": {
            "text/plain": [
              "'from sklearn.base import BaseEstimator\\nfrom sklearn.base import RegressorMixin\\nfrom sklearn.base import TransformerMixin\\nfrom sklearn.base import clone\\n\\nclass AveragingModels(BaseEstimator, RegressorMixin, TransformerMixin):\\n    def __init__(self, models):\\n        self.models = models\\n        \\n    # we define clones of the original models to fit the data in\\n    def fit(self, X, y):\\n        self.models_ = [clone(x) for x in self.models]\\n        \\n        # Train cloned base models\\n        for model in self.models_:\\n            model.fit(X, y)\\n        return self\\n    \\n    #Now we do the predictions for cloned models and average them\\n    def predict(self, X):\\n        predictions = np.column_stack([model.predict(X) for model in self.models_])\\n        return np.mean(predictions, axis=1) '"
            ]
          },
          "metadata": {
            "tags": []
          },
          "execution_count": 322
        }
      ]
    },
    {
      "cell_type": "code",
      "metadata": {
        "id": "TbE0vChLNnpN",
        "colab_type": "code",
        "colab": {}
      },
      "source": [
        "#averaged_models = AveragingModels(models = (enet, gbr, lasso))\n",
        "#averaged_models.fit(x_train, y_train)\n",
        "#y_pred = averaged_models.predict(x_valid)\n",
        "\n",
        "#mse = mean_squared_error(y_valid, y_pred)\n",
        "#rmse = np.sqrt(mse)\n",
        "#print(\"RMSE :\", rmse)"
      ],
      "execution_count": 0,
      "outputs": []
    },
    {
      "cell_type": "code",
      "metadata": {
        "id": "8SsszJ2ROD8a",
        "colab_type": "code",
        "colab": {}
      },
      "source": [
        "# XG BOOST\n",
        "#import xgboost as xgb\n",
        "\n",
        "#xgb = xgb.XGBRegressor()\n",
        "#xgb.fit(x_train, y_train)\n",
        "#y_pred = xgb.predict(x_valid)\n",
        "\n",
        "#mse = mean_squared_error(y_valid, y_pred)\n",
        "#rmse = np.sqrt(mse)\n",
        "#print(\"RMSE :\", rmse)"
      ],
      "execution_count": 0,
      "outputs": []
    },
    {
      "cell_type": "code",
      "metadata": {
        "id": "jIq7O6AaOMeJ",
        "colab_type": "code",
        "colab": {}
      },
      "source": [
        "# predicting for the test data\n",
        "\n",
        "#xgb_pred = xgb.predict(test)\n",
        "#lgb_pred = lgb.predict(test)\n",
        "#stacked_pred = averaged_models.predict(test)"
      ],
      "execution_count": 0,
      "outputs": []
    },
    {
      "cell_type": "code",
      "metadata": {
        "id": "SeBQOjB9OR9M",
        "colab_type": "code",
        "colab": {}
      },
      "source": [
        "# boosting the predictions\n",
        "\n",
        "#predictions = stacked_pred*0.70 + xgb_pred*0.15 + lgb_pred*0.15"
      ],
      "execution_count": 0,
      "outputs": []
    },
    {
      "cell_type": "code",
      "metadata": {
        "id": "cJSm6cHTOiAX",
        "colab_type": "code",
        "colab": {}
      },
      "source": [
        "#Create a  DataFrame with the riders ids and our prediction regarding whether they survived or not\n",
        "\n",
        "#submission = pd.DataFrame({'rider_id': order_id ,'Time from Pickup to Arrival': predictions})"
      ],
      "execution_count": 0,
      "outputs": []
    },
    {
      "cell_type": "code",
      "metadata": {
        "id": "EcfpzsNuPA_u",
        "colab_type": "code",
        "colab": {}
      },
      "source": [
        "#Visualize the first 5 rows\n",
        "#submission.head()"
      ],
      "execution_count": 0,
      "outputs": []
    },
    {
      "cell_type": "code",
      "metadata": {
        "id": "XF_xBNplRk2G",
        "colab_type": "code",
        "colab": {}
      },
      "source": [
        "#Convert DataFrame to a csv file that can be uploaded\n",
        "#This is saved in the same directory as your notebook\n",
        "#filename = '/content/submission.csv'\n",
        "\n",
        "#submission.to_csv(filename, index=False)\n",
        "\n",
        "#print('Saved file: ' + filename)"
      ],
      "execution_count": 0,
      "outputs": []
    },
    {
      "cell_type": "code",
      "metadata": {
        "id": "pH4RGzi9S_xl",
        "colab_type": "code",
        "colab": {}
      },
      "source": [
        "from sklearn.model_selection import KFold, cross_val_score\n",
        "n_folds = 5 # number of folds\n",
        "def get_cv_scores(model, X, y, print_scores=True):\n",
        "    kf = KFold(n_folds, shuffle=True, random_state=42).get_n_splits(X) # create folds\n",
        "    rmse = np.sqrt(-cross_val_score(model, X, y, scoring=\"neg_mean_squared_error\", cv = kf)) # get rmse\n",
        "    if print_scores:\n",
        "        print(f'Root mean squared error: {rmse.mean():.3f} ({rmse.std():.3f})')\n",
        "    return [rmse]"
      ],
      "execution_count": 0,
      "outputs": []
    },
    {
      "cell_type": "code",
      "metadata": {
        "id": "Myfacw4PPlUn",
        "colab_type": "code",
        "colab": {}
      },
      "source": [
        "import numpy as np\n",
        "import pandas as pd\n",
        "import matplotlib.pyplot as plt\n",
        "%matplotlib inline\n",
        "import seaborn as sns\n",
        "import pathlib\n",
        "from scipy import stats\n",
        "from scipy.stats import norm, skew\n",
        "\n",
        "from sklearn.linear_model import Lasso\n",
        "from sklearn.ensemble import GradientBoostingRegressor, RandomForestRegressor\n",
        "from sklearn.pipeline import make_pipeline\n",
        "from sklearn.preprocessing import RobustScaler\n",
        "\n",
        "import xgboost as xgb\n",
        "import lightgbm as lgb\n",
        "\n",
        "import warnings\n",
        "warnings.filterwarnings(\"ignore\")\n",
        "\n",
        "lasso_model = make_pipeline(RobustScaler(), Lasso(alpha=0.0005, random_state=1))\n",
        "enet = make_pipeline(RobustScaler(), ElasticNet(alpha=0.005, l1_ratio=.9, random_state=3))\n",
        "rf = RandomForestRegressor()\n",
        "gbr = GradientBoostingRegressor()\n",
        "xgb_model = xgb.XGBRegressor()\n",
        "lgb_model = lgb.LGBMRegressor()"
      ],
      "execution_count": 0,
      "outputs": []
    },
    {
      "cell_type": "code",
      "metadata": {
        "id": "qdkujDjAQEBR",
        "colab_type": "code",
        "colab": {
          "base_uri": "https://localhost:8080/",
          "height": 224
        },
        "outputId": "4b94f15b-5949-466a-c04e-52608c83c9c7"
      },
      "source": [
        "for model in [lasso_model, rf, gbr, xgb_model, lgb_model,enet]:\n",
        "    get_cv_scores(model,x_train, y_train)"
      ],
      "execution_count": 253,
      "outputs": [
        {
          "output_type": "stream",
          "text": [
            "Root mean squared error: 777.670 (22.594)\n",
            "Root mean squared error: 800.209 (26.118)\n",
            "Root mean squared error: 753.085 (24.172)\n",
            "[23:01:46] WARNING: /workspace/src/objective/regression_obj.cu:152: reg:linear is now deprecated in favor of reg:squarederror.\n",
            "[23:01:47] WARNING: /workspace/src/objective/regression_obj.cu:152: reg:linear is now deprecated in favor of reg:squarederror.\n",
            "[23:01:48] WARNING: /workspace/src/objective/regression_obj.cu:152: reg:linear is now deprecated in favor of reg:squarederror.\n",
            "[23:01:49] WARNING: /workspace/src/objective/regression_obj.cu:152: reg:linear is now deprecated in favor of reg:squarederror.\n",
            "[23:01:50] WARNING: /workspace/src/objective/regression_obj.cu:152: reg:linear is now deprecated in favor of reg:squarederror.\n",
            "Root mean squared error: 752.220 (23.643)\n",
            "Root mean squared error: 741.768 (22.718)\n",
            "Root mean squared error: 777.670 (22.584)\n"
          ],
          "name": "stdout"
        }
      ]
    },
    {
      "cell_type": "code",
      "metadata": {
        "id": "sG4fhSWMUI9v",
        "colab_type": "code",
        "colab": {
          "base_uri": "https://localhost:8080/",
          "height": 54
        },
        "outputId": "47c13199-8776-4f28-cc42-6a3685caca56"
      },
      "source": [
        "#using Averaging Ensembling\n",
        "'''from sklearn.base import BaseEstimator\n",
        "from sklearn.base import RegressorMixin\n",
        "from sklearn.base import TransformerMixin\n",
        "from sklearn.base import clone\n",
        "class AveragedModels(BaseEstimator, RegressorMixin, TransformerMixin):\n",
        "    def __init__(self, models):\n",
        "        self.models = models\n",
        "        \n",
        "    def fit(self, X, y):\n",
        "        self.models_ = [clone(x) for x in self.models]\n",
        "        \n",
        "        # Train cloned base models\n",
        "        for model in self.models_:\n",
        "            model.fit(X, y)\n",
        "        return self\n",
        "    \n",
        "    def predict(self, X):\n",
        "        predictions = np.column_stack([\n",
        "            model.predict(X) for model in self.models_\n",
        "        ])\n",
        "        return np.mean(predictions, axis=1)'''"
      ],
      "execution_count": 167,
      "outputs": [
        {
          "output_type": "execute_result",
          "data": {
            "text/plain": [
              "'from sklearn.base import BaseEstimator\\nfrom sklearn.base import RegressorMixin\\nfrom sklearn.base import TransformerMixin\\nfrom sklearn.base import clone\\nclass AveragedModels(BaseEstimator, RegressorMixin, TransformerMixin):\\n    def __init__(self, models):\\n        self.models = models\\n        \\n    def fit(self, X, y):\\n        self.models_ = [clone(x) for x in self.models]\\n        \\n        # Train cloned base models\\n        for model in self.models_:\\n            model.fit(X, y)\\n        return self\\n    \\n    def predict(self, X):\\n        predictions = np.column_stack([\\n            model.predict(X) for model in self.models_\\n        ])\\n        return np.mean(predictions, axis=1)'"
            ]
          },
          "metadata": {
            "tags": []
          },
          "execution_count": 167
        }
      ]
    },
    {
      "cell_type": "code",
      "metadata": {
        "id": "zSXAPhf4UZj4",
        "colab_type": "code",
        "colab": {
          "base_uri": "https://localhost:8080/",
          "height": 88
        },
        "outputId": "98df87aa-b503-4ccd-cea1-9b04391f8fde"
      },
      "source": [
        "%%time\n",
        "'''averaged_model1 = AveragedModels([gbr, lasso_model, xgb_model,enet,rf,lgb_model])\n",
        "get_cv_scores(averaged_model1,x_train, y_train)\n",
        "averaged_model1.fit(x_train,y_train)\n",
        "AV_y_pred = averaged_model1.predict(x_valid)'''"
      ],
      "execution_count": 168,
      "outputs": [
        {
          "output_type": "stream",
          "text": [
            "CPU times: user 5 µs, sys: 1e+03 ns, total: 6 µs\n",
            "Wall time: 10 µs\n"
          ],
          "name": "stdout"
        },
        {
          "output_type": "execute_result",
          "data": {
            "text/plain": [
              "'averaged_model1 = AveragedModels([gbr, lasso_model, xgb_model,enet,rf,lgb_model])\\nget_cv_scores(averaged_model1,x_train, y_train)\\naveraged_model1.fit(x_train,y_train)\\nAV_y_pred = averaged_model1.predict(x_valid)'"
            ]
          },
          "metadata": {
            "tags": []
          },
          "execution_count": 168
        }
      ]
    },
    {
      "cell_type": "code",
      "metadata": {
        "id": "GibEs1OFWt7A",
        "colab_type": "code",
        "colab": {}
      },
      "source": [
        "'''from sklearn.base import BaseEstimator\n",
        "from sklearn.base import RegressorMixin\n",
        "from sklearn.base import TransformerMixin\n",
        "from sklearn.base import clone\n",
        "class WeightedAveragedModels(BaseEstimator, RegressorMixin, TransformerMixin):\n",
        "    def __init__(self, models, weights):\n",
        "        self.models = models\n",
        "        self.weights = weights\n",
        "        assert sum(self.weights)==1\n",
        "        \n",
        "    def fit(self, X, y):\n",
        "        self.models_ = [clone(x) for x in self.models]\n",
        "        \n",
        "        # Train cloned base models\n",
        "        for model in self.models_:\n",
        "            model.fit(X, y)\n",
        "        return self\n",
        "    \n",
        "    def predict(self, X):\n",
        "        predictions = np.column_stack([\n",
        "            model.predict(X) for model in self.models_\n",
        "        ])\n",
        "        return np.sum(predictions*self.weights, axis=1)'''"
      ],
      "execution_count": 0,
      "outputs": []
    },
    {
      "cell_type": "code",
      "metadata": {
        "id": "VzHALO2CXQN7",
        "colab_type": "code",
        "colab": {
          "base_uri": "https://localhost:8080/",
          "height": 173
        },
        "outputId": "3b7eedb8-c82b-4b54-ea22-f9a977977485"
      },
      "source": [
        "'''weighted_average_model = WeightedAveragedModels([lasso_model, rf, gbr, xgb_model, lgb_model,enet], [0.169,0.175,0.163,0.163,0.161,0.169])\n",
        "get_cv_scores(weighted_average_model, x_train, y_train)'''"
      ],
      "execution_count": 170,
      "outputs": [
        {
          "output_type": "stream",
          "text": [
            "[22:19:25] WARNING: /workspace/src/objective/regression_obj.cu:152: reg:linear is now deprecated in favor of reg:squarederror.\n",
            "[22:19:31] WARNING: /workspace/src/objective/regression_obj.cu:152: reg:linear is now deprecated in favor of reg:squarederror.\n",
            "[22:19:38] WARNING: /workspace/src/objective/regression_obj.cu:152: reg:linear is now deprecated in favor of reg:squarederror.\n",
            "[22:19:44] WARNING: /workspace/src/objective/regression_obj.cu:152: reg:linear is now deprecated in favor of reg:squarederror.\n",
            "[22:19:50] WARNING: /workspace/src/objective/regression_obj.cu:152: reg:linear is now deprecated in favor of reg:squarederror.\n",
            "Root mean squared error: 751.682 (23.197)\n"
          ],
          "name": "stdout"
        },
        {
          "output_type": "execute_result",
          "data": {
            "text/plain": [
              "[array([746.50204588, 765.77291658, 788.93061775, 731.07543447,\n",
              "        726.12794306])]"
            ]
          },
          "metadata": {
            "tags": []
          },
          "execution_count": 170
        }
      ]
    },
    {
      "cell_type": "code",
      "metadata": {
        "id": "6T_w7S5pdpJZ",
        "colab_type": "code",
        "colab": {
          "base_uri": "https://localhost:8080/",
          "height": 54
        },
        "outputId": "8f12cd78-cd67-4af7-a69b-8b0572bc8543"
      },
      "source": [
        "'''weighted_average_model.fit(x_train,y_train)\n",
        "weighted_y_pred = averaged_model1.predict(x_valid)'''"
      ],
      "execution_count": 171,
      "outputs": [
        {
          "output_type": "stream",
          "text": [
            "[22:20:07] WARNING: /workspace/src/objective/regression_obj.cu:152: reg:linear is now deprecated in favor of reg:squarederror.\n"
          ],
          "name": "stdout"
        }
      ]
    },
    {
      "cell_type": "code",
      "metadata": {
        "id": "c2f4Q49qelhs",
        "colab_type": "code",
        "colab": {}
      },
      "source": [
        "'''weighted_pred = weighted_average_model.predict(test)"
      ],
      "execution_count": 0,
      "outputs": []
    },
    {
      "cell_type": "code",
      "metadata": {
        "id": "LrpTE-9ueI5g",
        "colab_type": "code",
        "colab": {}
      },
      "source": [
        "#Create a  DataFrame with the riders ids and our prediction regarding whether they survived or not\n",
        "\n",
        "'''submission2 = pd.DataFrame({'rider_id': order_id ,'Time from Pickup to Arrival':weighted_pred})"
      ],
      "execution_count": 0,
      "outputs": []
    },
    {
      "cell_type": "code",
      "metadata": {
        "id": "A3EZjXMdgSnt",
        "colab_type": "code",
        "colab": {
          "base_uri": "https://localhost:8080/",
          "height": 204
        },
        "outputId": "951e7e64-0da4-4047-db84-30eef877ab8a"
      },
      "source": [
        "'''submission2.head()"
      ],
      "execution_count": 174,
      "outputs": [
        {
          "output_type": "execute_result",
          "data": {
            "text/html": [
              "<div>\n",
              "<style scoped>\n",
              "    .dataframe tbody tr th:only-of-type {\n",
              "        vertical-align: middle;\n",
              "    }\n",
              "\n",
              "    .dataframe tbody tr th {\n",
              "        vertical-align: top;\n",
              "    }\n",
              "\n",
              "    .dataframe thead th {\n",
              "        text-align: right;\n",
              "    }\n",
              "</style>\n",
              "<table border=\"1\" class=\"dataframe\">\n",
              "  <thead>\n",
              "    <tr style=\"text-align: right;\">\n",
              "      <th></th>\n",
              "      <th>rider_id</th>\n",
              "      <th>Time from Pickup to Arrival</th>\n",
              "    </tr>\n",
              "  </thead>\n",
              "  <tbody>\n",
              "    <tr>\n",
              "      <th>0</th>\n",
              "      <td>Order_No_19248</td>\n",
              "      <td>1419.987075</td>\n",
              "    </tr>\n",
              "    <tr>\n",
              "      <th>1</th>\n",
              "      <td>Order_No_12736</td>\n",
              "      <td>1415.411993</td>\n",
              "    </tr>\n",
              "    <tr>\n",
              "      <th>2</th>\n",
              "      <td>Order_No_768</td>\n",
              "      <td>1167.081989</td>\n",
              "    </tr>\n",
              "    <tr>\n",
              "      <th>3</th>\n",
              "      <td>Order_No_15332</td>\n",
              "      <td>1147.871346</td>\n",
              "    </tr>\n",
              "    <tr>\n",
              "      <th>4</th>\n",
              "      <td>Order_No_21373</td>\n",
              "      <td>1174.158305</td>\n",
              "    </tr>\n",
              "  </tbody>\n",
              "</table>\n",
              "</div>"
            ],
            "text/plain": [
              "         rider_id  Time from Pickup to Arrival\n",
              "0  Order_No_19248                  1419.987075\n",
              "1  Order_No_12736                  1415.411993\n",
              "2    Order_No_768                  1167.081989\n",
              "3  Order_No_15332                  1147.871346\n",
              "4  Order_No_21373                  1174.158305"
            ]
          },
          "metadata": {
            "tags": []
          },
          "execution_count": 174
        }
      ]
    },
    {
      "cell_type": "code",
      "metadata": {
        "id": "LrEaoCbZgamN",
        "colab_type": "code",
        "colab": {
          "base_uri": "https://localhost:8080/",
          "height": 34
        },
        "outputId": "f8b27355-67d2-492f-dda6-1900dbd14bac"
      },
      "source": [
        "#Convert DataFrame to a csv file that can be uploaded\n",
        "#This is saved in the same directory as your notebook\n",
        "'''filename = '/content/submission2.csv'\n",
        "\n",
        "submission2.to_csv(filename, index=False)\n",
        "\n",
        "print('Saved file: ' + filename)'''"
      ],
      "execution_count": 175,
      "outputs": [
        {
          "output_type": "stream",
          "text": [
            "Saved file: /content/submission2.csv\n"
          ],
          "name": "stdout"
        }
      ]
    },
    {
      "cell_type": "code",
      "metadata": {
        "id": "3TL-y6rLZzM_",
        "colab_type": "code",
        "colab": {}
      },
      "source": [
        "'''perf_rmse_scores=[751.682,752.220,741.768,]\n",
        "total=sum(perf_rmse_scores)\n",
        "percent_list=[]\n",
        "\n",
        "for i in range(len(perf_rmse_scores)):\n",
        "  per= 100* perf_rmse_scores[i]/total\n",
        "  percent_list.append(per)'''"
      ],
      "execution_count": 0,
      "outputs": []
    },
    {
      "cell_type": "code",
      "metadata": {
        "id": "0t1ONqlMbY1w",
        "colab_type": "code",
        "colab": {
          "base_uri": "https://localhost:8080/",
          "height": 34
        },
        "outputId": "dd4f04d1-c074-4f4c-f8b3-f0d4797decc7"
      },
      "source": [
        "'''percent_list"
      ],
      "execution_count": 180,
      "outputs": [
        {
          "output_type": "execute_result",
          "data": {
            "text/plain": [
              "[33.472504864917816, 33.49646208035909, 33.03103305472309]"
            ]
          },
          "metadata": {
            "tags": []
          },
          "execution_count": 180
        }
      ]
    },
    {
      "cell_type": "code",
      "metadata": {
        "id": "igs4P6Zxkal7",
        "colab_type": "code",
        "colab": {}
      },
      "source": [
        "'''predictions2=0.334*weighted_pred +.335 *xgb_pred +.330 * lgb_pred"
      ],
      "execution_count": 0,
      "outputs": []
    },
    {
      "cell_type": "code",
      "metadata": {
        "id": "BV18U88tk9vB",
        "colab_type": "code",
        "colab": {}
      },
      "source": [
        "#Create a  DataFrame with the riders ids and our prediction regarding whether they survived or not\n",
        "\n",
        "'''submission3 = pd.DataFrame({'rider_id': order_id ,'Time from Pickup to Arrival':predictions2})"
      ],
      "execution_count": 0,
      "outputs": []
    },
    {
      "cell_type": "code",
      "metadata": {
        "id": "mIQwFwZblFuH",
        "colab_type": "code",
        "colab": {
          "base_uri": "https://localhost:8080/",
          "height": 204
        },
        "outputId": "5f268e83-c033-4fc5-fea1-dd3345d5367d"
      },
      "source": [
        "'''submission3.head()"
      ],
      "execution_count": 184,
      "outputs": [
        {
          "output_type": "execute_result",
          "data": {
            "text/html": [
              "<div>\n",
              "<style scoped>\n",
              "    .dataframe tbody tr th:only-of-type {\n",
              "        vertical-align: middle;\n",
              "    }\n",
              "\n",
              "    .dataframe tbody tr th {\n",
              "        vertical-align: top;\n",
              "    }\n",
              "\n",
              "    .dataframe thead th {\n",
              "        text-align: right;\n",
              "    }\n",
              "</style>\n",
              "<table border=\"1\" class=\"dataframe\">\n",
              "  <thead>\n",
              "    <tr style=\"text-align: right;\">\n",
              "      <th></th>\n",
              "      <th>rider_id</th>\n",
              "      <th>Time from Pickup to Arrival</th>\n",
              "    </tr>\n",
              "  </thead>\n",
              "  <tbody>\n",
              "    <tr>\n",
              "      <th>0</th>\n",
              "      <td>Order_No_19248</td>\n",
              "      <td>1375.951579</td>\n",
              "    </tr>\n",
              "    <tr>\n",
              "      <th>1</th>\n",
              "      <td>Order_No_12736</td>\n",
              "      <td>1484.772113</td>\n",
              "    </tr>\n",
              "    <tr>\n",
              "      <th>2</th>\n",
              "      <td>Order_No_768</td>\n",
              "      <td>1273.637320</td>\n",
              "    </tr>\n",
              "    <tr>\n",
              "      <th>3</th>\n",
              "      <td>Order_No_15332</td>\n",
              "      <td>1191.781734</td>\n",
              "    </tr>\n",
              "    <tr>\n",
              "      <th>4</th>\n",
              "      <td>Order_No_21373</td>\n",
              "      <td>1249.850782</td>\n",
              "    </tr>\n",
              "  </tbody>\n",
              "</table>\n",
              "</div>"
            ],
            "text/plain": [
              "         rider_id  Time from Pickup to Arrival\n",
              "0  Order_No_19248                  1375.951579\n",
              "1  Order_No_12736                  1484.772113\n",
              "2    Order_No_768                  1273.637320\n",
              "3  Order_No_15332                  1191.781734\n",
              "4  Order_No_21373                  1249.850782"
            ]
          },
          "metadata": {
            "tags": []
          },
          "execution_count": 184
        }
      ]
    },
    {
      "cell_type": "code",
      "metadata": {
        "id": "5uFXeewXlEXU",
        "colab_type": "code",
        "colab": {
          "base_uri": "https://localhost:8080/",
          "height": 34
        },
        "outputId": "fa1e66d0-9ece-44be-f1a1-a427af6f6d28"
      },
      "source": [
        "#Convert DataFrame to a csv file that can be uploaded\n",
        "#This is saved in the same directory as your notebook\n",
        "'''filename = '/content/submission3.csv'\n",
        "\n",
        "submission3.to_csv(filename, index=False)\n",
        "\n",
        "print('Saved file: ' + filename)'''"
      ],
      "execution_count": 186,
      "outputs": [
        {
          "output_type": "stream",
          "text": [
            "Saved file: /content/submission3.csv\n"
          ],
          "name": "stdout"
        }
      ]
    },
    {
      "cell_type": "code",
      "metadata": {
        "id": "rJ05NV7emOwt",
        "colab_type": "code",
        "colab": {}
      },
      "source": [
        "from sklearn.base import BaseEstimator\n",
        "from sklearn.base import RegressorMixin\n",
        "from sklearn.base import TransformerMixin\n",
        "from sklearn.base import clone\n",
        "\n",
        "\n",
        "from sklearn.model_selection import train_test_split\n",
        "class BlendingAveragedModels(BaseEstimator, RegressorMixin, TransformerMixin):\n",
        "    def __init__(self, base_models, meta_model, holdout_pct=0.2, use_features_in_secondary=False):\n",
        "        self.base_models = base_models\n",
        "        self.meta_model = meta_model\n",
        "        self.holdout_pct = holdout_pct\n",
        "        self.use_features_in_secondary = use_features_in_secondary\n",
        "        \n",
        "    def fit(self, X, y):\n",
        "        self.base_models_ = [clone(x) for x in self.base_models]\n",
        "        self.meta_model_ = clone(self.meta_model)\n",
        "        \n",
        "        X_train, X_holdout, y_train, y_holdout = train_test_split(X, y, test_size=self.holdout_pct)\n",
        "                \n",
        "        holdout_predictions = np.zeros((X_holdout.shape[0], len(self.base_models)))\n",
        "        for i, model in enumerate(self.base_models_):\n",
        "            model.fit(X_train, y_train)\n",
        "            y_pred = model.predict(X_holdout)\n",
        "            holdout_predictions[:, i] = y_pred\n",
        "        if self.use_features_in_secondary:\n",
        "            self.meta_model_.fit(np.hstack((X_holdout, holdout_predictions)), y_holdout)\n",
        "        else:\n",
        "            self.meta_model_.fit(holdout_predictions, y_holdout)\n",
        "            \n",
        "        return self\n",
        "    \n",
        "    def predict(self, X):\n",
        "        meta_features = np.column_stack([\n",
        "            model.predict(X) for model in self.base_models_\n",
        "        ])\n",
        "        if self.use_features_in_secondary:\n",
        "            return self.meta_model_.predict(np.hstack((X, meta_features)))\n",
        "        else:\n",
        "            return self.meta_model_.predict(meta_features)"
      ],
      "execution_count": 0,
      "outputs": []
    },
    {
      "cell_type": "code",
      "metadata": {
        "id": "ZsI3C6H3miNh",
        "colab_type": "code",
        "colab": {
          "base_uri": "https://localhost:8080/",
          "height": 173
        },
        "outputId": "c51f9e1d-6594-4258-a8db-72a41d26c96d"
      },
      "source": [
        "Blend_model =BlendingAveragedModels([lasso_model, rf, gbr, xgb_model, lgb_model,enet],lasso_model)\n",
        "get_cv_scores(Blend_model,train, y_train)"
      ],
      "execution_count": 425,
      "outputs": [
        {
          "output_type": "stream",
          "text": [
            "[23:34:32] WARNING: /workspace/src/objective/regression_obj.cu:152: reg:linear is now deprecated in favor of reg:squarederror.\n",
            "[23:34:39] WARNING: /workspace/src/objective/regression_obj.cu:152: reg:linear is now deprecated in favor of reg:squarederror.\n",
            "[23:34:46] WARNING: /workspace/src/objective/regression_obj.cu:152: reg:linear is now deprecated in favor of reg:squarederror.\n",
            "[23:34:52] WARNING: /workspace/src/objective/regression_obj.cu:152: reg:linear is now deprecated in favor of reg:squarederror.\n",
            "[23:34:59] WARNING: /workspace/src/objective/regression_obj.cu:152: reg:linear is now deprecated in favor of reg:squarederror.\n",
            "Root mean squared error: 744.569 (24.300)\n"
          ],
          "name": "stdout"
        },
        {
          "output_type": "execute_result",
          "data": {
            "text/plain": [
              "[array([785.72704357, 755.98811448, 738.42128434, 723.8597738 ,\n",
              "        718.85121942])]"
            ]
          },
          "metadata": {
            "tags": []
          },
          "execution_count": 425
        }
      ]
    },
    {
      "cell_type": "code",
      "metadata": {
        "id": "9ZEVbpFLmoPu",
        "colab_type": "code",
        "colab": {
          "base_uri": "https://localhost:8080/",
          "height": 734
        },
        "outputId": "ea5ce9ae-86ac-4be7-e55e-e5fbb73549ed"
      },
      "source": [
        "Blend_model.fit(train,y_train)\n",
        "#Blend_y_pred = blend_model.predict(x_valid)"
      ],
      "execution_count": 426,
      "outputs": [
        {
          "output_type": "stream",
          "text": [
            "[23:35:13] WARNING: /workspace/src/objective/regression_obj.cu:152: reg:linear is now deprecated in favor of reg:squarederror.\n"
          ],
          "name": "stdout"
        },
        {
          "output_type": "execute_result",
          "data": {
            "text/plain": [
              "BlendingAveragedModels(base_models=[Pipeline(memory=None,\n",
              "                                             steps=[('robustscaler',\n",
              "                                                     RobustScaler(copy=True,\n",
              "                                                                  quantile_range=(25.0,\n",
              "                                                                                  75.0),\n",
              "                                                                  with_centering=True,\n",
              "                                                                  with_scaling=True)),\n",
              "                                                    ('lasso',\n",
              "                                                     Lasso(alpha=0.0005,\n",
              "                                                           copy_X=True,\n",
              "                                                           fit_intercept=True,\n",
              "                                                           max_iter=1000,\n",
              "                                                           normalize=False,\n",
              "                                                           positive=False,\n",
              "                                                           precompute=False,\n",
              "                                                           random_state=1,\n",
              "                                                           selection='cyclic',\n",
              "                                                           tol=0.0001,\n",
              "                                                           warm_start=Fal...\n",
              "                       meta_model=Pipeline(memory=None,\n",
              "                                           steps=[('robustscaler',\n",
              "                                                   RobustScaler(copy=True,\n",
              "                                                                quantile_range=(25.0,\n",
              "                                                                                75.0),\n",
              "                                                                with_centering=True,\n",
              "                                                                with_scaling=True)),\n",
              "                                                  ('lasso',\n",
              "                                                   Lasso(alpha=0.0005,\n",
              "                                                         copy_X=True,\n",
              "                                                         fit_intercept=True,\n",
              "                                                         max_iter=1000,\n",
              "                                                         normalize=False,\n",
              "                                                         positive=False,\n",
              "                                                         precompute=False,\n",
              "                                                         random_state=1,\n",
              "                                                         selection='cyclic',\n",
              "                                                         tol=0.0001,\n",
              "                                                         warm_start=False))],\n",
              "                                           verbose=False),\n",
              "                       use_features_in_secondary=False)"
            ]
          },
          "metadata": {
            "tags": []
          },
          "execution_count": 426
        }
      ]
    },
    {
      "cell_type": "code",
      "metadata": {
        "id": "dp3rHlHjmv9c",
        "colab_type": "code",
        "colab": {}
      },
      "source": [
        "Blend_pred =Blend_model.predict(test)"
      ],
      "execution_count": 0,
      "outputs": []
    },
    {
      "cell_type": "code",
      "metadata": {
        "id": "johxyTIExVuT",
        "colab_type": "code",
        "colab": {}
      },
      "source": [
        "perf_rmse_scores=[751.682,752.220,741.768,744.569]\n",
        "total=sum(perf_rmse_scores)\n",
        "percent_list=[]\n",
        "\n",
        "for i in range(len(perf_rmse_scores)):\n",
        "  per= 100* perf_rmse_scores[i]/total\n",
        "  percent_list.append(per)"
      ],
      "execution_count": 0,
      "outputs": []
    },
    {
      "cell_type": "code",
      "metadata": {
        "id": "bFjdKIrpxiwW",
        "colab_type": "code",
        "colab": {
          "base_uri": "https://localhost:8080/",
          "height": 34
        },
        "outputId": "2f682d0d-8e2e-4af7-aa85-4dd8a5102576"
      },
      "source": [
        "percent_list"
      ],
      "execution_count": 429,
      "outputs": [
        {
          "output_type": "execute_result",
          "data": {
            "text/plain": [
              "[25.13785687364789, 25.15584874653832, 24.80631146874882, 24.899982911064967]"
            ]
          },
          "metadata": {
            "tags": []
          },
          "execution_count": 429
        }
      ]
    },
    {
      "cell_type": "code",
      "metadata": {
        "id": "1DO2I4EEdeQr",
        "colab_type": "code",
        "colab": {
          "base_uri": "https://localhost:8080/",
          "height": 54
        },
        "outputId": "db3dcbb5-f991-4292-e96e-b0a417a81d0d"
      },
      "source": [
        "from sklearn.model_selection import train_test_split\n",
        "\n",
        "x_train, x_valid, y_train, y_valid = train_test_split(train, y_train, test_size = 0.25, random_state = 0)\n",
        "\n",
        "xgb_model.fit(x_train, y_train)\n",
        "xgb_pred = xgb_model.predict(x_valid)\n",
        "\n",
        "#lgb_model = lgb.LGBMRegressor()\n",
        "lgb_model.fit(x_train,y_train)\n",
        "lgb_pred = lgb_model.predict(x_valid)\n",
        "\n",
        "xgb_pred = xgb_model.predict(test)\n",
        "lgb_pred = lgb_model.predict(test)"
      ],
      "execution_count": 431,
      "outputs": [
        {
          "output_type": "stream",
          "text": [
            "[23:40:10] WARNING: /workspace/src/objective/regression_obj.cu:152: reg:linear is now deprecated in favor of reg:squarederror.\n"
          ],
          "name": "stdout"
        }
      ]
    },
    {
      "cell_type": "code",
      "metadata": {
        "id": "pGjd3g5-uERJ",
        "colab_type": "code",
        "colab": {}
      },
      "source": [
        "predictions_Blend_wavg_xgb_lgb=0.251*weighted_pred +.252 *xgb_pred +.248 * lgb_pred+.249*Blend_pred"
      ],
      "execution_count": 0,
      "outputs": []
    },
    {
      "cell_type": "code",
      "metadata": {
        "id": "_AOjdY33m2o3",
        "colab_type": "code",
        "colab": {}
      },
      "source": [
        "#Create a  DataFrame with the riders ids and our prediction regarding whether they survived or not\n",
        "\n",
        "submission4 = pd.DataFrame({'rider_id': order_id ,'Time from Pickup to Arrival':predictions_Blend_wavg_xgb_lgb})"
      ],
      "execution_count": 0,
      "outputs": []
    },
    {
      "cell_type": "code",
      "metadata": {
        "id": "weq8P6rMnDgw",
        "colab_type": "code",
        "colab": {
          "base_uri": "https://localhost:8080/",
          "height": 204
        },
        "outputId": "4e0f20f6-64e5-4a30-dc5c-38e76a5a74b1"
      },
      "source": [
        "submission4.head()"
      ],
      "execution_count": 434,
      "outputs": [
        {
          "output_type": "execute_result",
          "data": {
            "text/html": [
              "<div>\n",
              "<style scoped>\n",
              "    .dataframe tbody tr th:only-of-type {\n",
              "        vertical-align: middle;\n",
              "    }\n",
              "\n",
              "    .dataframe tbody tr th {\n",
              "        vertical-align: top;\n",
              "    }\n",
              "\n",
              "    .dataframe thead th {\n",
              "        text-align: right;\n",
              "    }\n",
              "</style>\n",
              "<table border=\"1\" class=\"dataframe\">\n",
              "  <thead>\n",
              "    <tr style=\"text-align: right;\">\n",
              "      <th></th>\n",
              "      <th>rider_id</th>\n",
              "      <th>Time from Pickup to Arrival</th>\n",
              "    </tr>\n",
              "  </thead>\n",
              "  <tbody>\n",
              "    <tr>\n",
              "      <th>0</th>\n",
              "      <td>Order_No_19248</td>\n",
              "      <td>1399.149252</td>\n",
              "    </tr>\n",
              "    <tr>\n",
              "      <th>1</th>\n",
              "      <td>Order_No_12736</td>\n",
              "      <td>1479.799359</td>\n",
              "    </tr>\n",
              "    <tr>\n",
              "      <th>2</th>\n",
              "      <td>Order_No_768</td>\n",
              "      <td>1334.655739</td>\n",
              "    </tr>\n",
              "    <tr>\n",
              "      <th>3</th>\n",
              "      <td>Order_No_15332</td>\n",
              "      <td>1198.098891</td>\n",
              "    </tr>\n",
              "    <tr>\n",
              "      <th>4</th>\n",
              "      <td>Order_No_21373</td>\n",
              "      <td>1230.479838</td>\n",
              "    </tr>\n",
              "  </tbody>\n",
              "</table>\n",
              "</div>"
            ],
            "text/plain": [
              "         rider_id  Time from Pickup to Arrival\n",
              "0  Order_No_19248                  1399.149252\n",
              "1  Order_No_12736                  1479.799359\n",
              "2    Order_No_768                  1334.655739\n",
              "3  Order_No_15332                  1198.098891\n",
              "4  Order_No_21373                  1230.479838"
            ]
          },
          "metadata": {
            "tags": []
          },
          "execution_count": 434
        }
      ]
    },
    {
      "cell_type": "code",
      "metadata": {
        "id": "RFg35yt9nHo0",
        "colab_type": "code",
        "colab": {
          "base_uri": "https://localhost:8080/",
          "height": 34
        },
        "outputId": "9f30ba95-1797-461a-a17c-865594f0d3af"
      },
      "source": [
        "#Convert DataFrame to a csv file that can be uploaded\n",
        "#This is saved in the same directory as your notebook\n",
        "filename = '/content/submission4.csv'\n",
        "\n",
        "submission4.to_csv(filename, index=False)\n",
        "\n",
        "print('Saved file: ' + filename)"
      ],
      "execution_count": 436,
      "outputs": [
        {
          "output_type": "stream",
          "text": [
            "Saved file: /content/submission4.csv\n"
          ],
          "name": "stdout"
        }
      ]
    }
  ]
}